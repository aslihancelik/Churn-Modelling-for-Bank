{
  "nbformat": 4,
  "nbformat_minor": 0,
  "metadata": {
    "colab": {
      "name": "submit_Churn_Modelling_ISYE6783_FinalProject.ipynb",
      "provenance": [],
      "collapsed_sections": []
    },
    "kernelspec": {
      "name": "python3",
      "display_name": "Python 3"
    },
    "language_info": {
      "name": "python"
    }
  },
  "cells": [
    {
      "cell_type": "markdown",
      "metadata": {
        "id": "7OTjkUQ1YHNu"
      },
      "source": [
        "# ISYE 6783 FINAL PROJECT\n",
        "## Churn Prediction for Bank\n",
        "\n",
        "author: Aslihan Celik\n"
      ]
    },
    {
      "cell_type": "markdown",
      "metadata": {
        "id": "0i0099fMYA2q"
      },
      "source": [
        "Dataset: https://www.kaggle.com/shrutimechlearn/churn-modelling?select=Churn_Modelling.csv"
      ]
    },
    {
      "cell_type": "code",
      "metadata": {
        "colab": {
          "base_uri": "https://localhost:8080/"
        },
        "id": "6z9bqWSNX-8q",
        "outputId": "e97d46d7-ba97-481a-d64a-4e0f3c1b946c"
      },
      "source": [
        "from google.colab import drive\n",
        "drive.mount(\"/content/drive\")"
      ],
      "execution_count": 356,
      "outputs": [
        {
          "output_type": "stream",
          "text": [
            "Drive already mounted at /content/drive; to attempt to forcibly remount, call drive.mount(\"/content/drive\", force_remount=True).\n"
          ],
          "name": "stdout"
        }
      ]
    },
    {
      "cell_type": "code",
      "metadata": {
        "colab": {
          "base_uri": "https://localhost:8080/"
        },
        "id": "N3Xg0vDTYlD3",
        "outputId": "eab1f81a-250f-492a-85fd-483dc0a86e7f"
      },
      "source": [
        "#setting the directory\n",
        "%cd '/content/drive/MyDrive/ISYE6783_FinalProject'"
      ],
      "execution_count": 357,
      "outputs": [
        {
          "output_type": "stream",
          "text": [
            "/content/drive/MyDrive/ISYE6783_FinalProject\n"
          ],
          "name": "stdout"
        }
      ]
    },
    {
      "cell_type": "code",
      "metadata": {
        "id": "GGZH__rnZbP6"
      },
      "source": [
        "import pandas as pd\n",
        "import random\n",
        "import numpy as np\n",
        "import sklearn\n",
        "from sklearn import preprocessing\n",
        "import matplotlib.pyplot as plt  \n",
        "from sklearn import metrics"
      ],
      "execution_count": 358,
      "outputs": []
    },
    {
      "cell_type": "code",
      "metadata": {
        "id": "dQqduoCqbxGc"
      },
      "source": [
        "random.seed(3)\n",
        "np.random.seed(54)"
      ],
      "execution_count": 359,
      "outputs": []
    },
    {
      "cell_type": "markdown",
      "metadata": {
        "id": "ShCgn1Pf2iJ_"
      },
      "source": [
        "# Data Preprocessing"
      ]
    },
    {
      "cell_type": "code",
      "metadata": {
        "colab": {
          "base_uri": "https://localhost:8080/",
          "height": 197
        },
        "id": "NLh2oPwXZL9b",
        "outputId": "ed1cea9c-fda0-43a6-f62a-e9228b1ff292"
      },
      "source": [
        "#importing the dataset\n",
        "dataset = pd.read_csv(\"Churn_Modelling.csv\")\n",
        "dataset.head()"
      ],
      "execution_count": 360,
      "outputs": [
        {
          "output_type": "execute_result",
          "data": {
            "text/html": [
              "<div>\n",
              "<style scoped>\n",
              "    .dataframe tbody tr th:only-of-type {\n",
              "        vertical-align: middle;\n",
              "    }\n",
              "\n",
              "    .dataframe tbody tr th {\n",
              "        vertical-align: top;\n",
              "    }\n",
              "\n",
              "    .dataframe thead th {\n",
              "        text-align: right;\n",
              "    }\n",
              "</style>\n",
              "<table border=\"1\" class=\"dataframe\">\n",
              "  <thead>\n",
              "    <tr style=\"text-align: right;\">\n",
              "      <th></th>\n",
              "      <th>RowNumber</th>\n",
              "      <th>CustomerId</th>\n",
              "      <th>Surname</th>\n",
              "      <th>CreditScore</th>\n",
              "      <th>Geography</th>\n",
              "      <th>Gender</th>\n",
              "      <th>Age</th>\n",
              "      <th>Tenure</th>\n",
              "      <th>Balance</th>\n",
              "      <th>NumOfProducts</th>\n",
              "      <th>HasCrCard</th>\n",
              "      <th>IsActiveMember</th>\n",
              "      <th>EstimatedSalary</th>\n",
              "      <th>Exited</th>\n",
              "    </tr>\n",
              "  </thead>\n",
              "  <tbody>\n",
              "    <tr>\n",
              "      <th>0</th>\n",
              "      <td>1</td>\n",
              "      <td>15634602</td>\n",
              "      <td>Hargrave</td>\n",
              "      <td>619</td>\n",
              "      <td>France</td>\n",
              "      <td>Female</td>\n",
              "      <td>42</td>\n",
              "      <td>2</td>\n",
              "      <td>0.00</td>\n",
              "      <td>1</td>\n",
              "      <td>1</td>\n",
              "      <td>1</td>\n",
              "      <td>101348.88</td>\n",
              "      <td>1</td>\n",
              "    </tr>\n",
              "    <tr>\n",
              "      <th>1</th>\n",
              "      <td>2</td>\n",
              "      <td>15647311</td>\n",
              "      <td>Hill</td>\n",
              "      <td>608</td>\n",
              "      <td>Spain</td>\n",
              "      <td>Female</td>\n",
              "      <td>41</td>\n",
              "      <td>1</td>\n",
              "      <td>83807.86</td>\n",
              "      <td>1</td>\n",
              "      <td>0</td>\n",
              "      <td>1</td>\n",
              "      <td>112542.58</td>\n",
              "      <td>0</td>\n",
              "    </tr>\n",
              "    <tr>\n",
              "      <th>2</th>\n",
              "      <td>3</td>\n",
              "      <td>15619304</td>\n",
              "      <td>Onio</td>\n",
              "      <td>502</td>\n",
              "      <td>France</td>\n",
              "      <td>Female</td>\n",
              "      <td>42</td>\n",
              "      <td>8</td>\n",
              "      <td>159660.80</td>\n",
              "      <td>3</td>\n",
              "      <td>1</td>\n",
              "      <td>0</td>\n",
              "      <td>113931.57</td>\n",
              "      <td>1</td>\n",
              "    </tr>\n",
              "    <tr>\n",
              "      <th>3</th>\n",
              "      <td>4</td>\n",
              "      <td>15701354</td>\n",
              "      <td>Boni</td>\n",
              "      <td>699</td>\n",
              "      <td>France</td>\n",
              "      <td>Female</td>\n",
              "      <td>39</td>\n",
              "      <td>1</td>\n",
              "      <td>0.00</td>\n",
              "      <td>2</td>\n",
              "      <td>0</td>\n",
              "      <td>0</td>\n",
              "      <td>93826.63</td>\n",
              "      <td>0</td>\n",
              "    </tr>\n",
              "    <tr>\n",
              "      <th>4</th>\n",
              "      <td>5</td>\n",
              "      <td>15737888</td>\n",
              "      <td>Mitchell</td>\n",
              "      <td>850</td>\n",
              "      <td>Spain</td>\n",
              "      <td>Female</td>\n",
              "      <td>43</td>\n",
              "      <td>2</td>\n",
              "      <td>125510.82</td>\n",
              "      <td>1</td>\n",
              "      <td>1</td>\n",
              "      <td>1</td>\n",
              "      <td>79084.10</td>\n",
              "      <td>0</td>\n",
              "    </tr>\n",
              "  </tbody>\n",
              "</table>\n",
              "</div>"
            ],
            "text/plain": [
              "   RowNumber  CustomerId   Surname  ...  IsActiveMember EstimatedSalary Exited\n",
              "0          1    15634602  Hargrave  ...               1       101348.88      1\n",
              "1          2    15647311      Hill  ...               1       112542.58      0\n",
              "2          3    15619304      Onio  ...               0       113931.57      1\n",
              "3          4    15701354      Boni  ...               0        93826.63      0\n",
              "4          5    15737888  Mitchell  ...               1        79084.10      0\n",
              "\n",
              "[5 rows x 14 columns]"
            ]
          },
          "metadata": {
            "tags": []
          },
          "execution_count": 360
        }
      ]
    },
    {
      "cell_type": "code",
      "metadata": {
        "colab": {
          "base_uri": "https://localhost:8080/"
        },
        "id": "nWHmV4aBlGAA",
        "outputId": "712c959e-091d-494a-f544-356f8433dae5"
      },
      "source": [
        "print(\"Number of samples for the customers who left the bank:\",len(dataset[dataset['Exited']==1]))\n",
        "print(\"Number of samples for the customers who stayed as a customer at the bank:\",len(dataset[dataset['Exited']==0]))"
      ],
      "execution_count": 361,
      "outputs": [
        {
          "output_type": "stream",
          "text": [
            "Number of samples for the customers who left the bank: 2037\n",
            "Number of samples for the customers who stayed as a customer at the bank: 7963\n"
          ],
          "name": "stdout"
        }
      ]
    },
    {
      "cell_type": "code",
      "metadata": {
        "colab": {
          "base_uri": "https://localhost:8080/"
        },
        "id": "h1BXZGW3qlr9",
        "outputId": "74ec2192-d2b5-4cf7-b6a4-ee6ea5e6c83f"
      },
      "source": [
        "len(dataset)"
      ],
      "execution_count": 362,
      "outputs": [
        {
          "output_type": "execute_result",
          "data": {
            "text/plain": [
              "10000"
            ]
          },
          "metadata": {
            "tags": []
          },
          "execution_count": 362
        }
      ]
    },
    {
      "cell_type": "code",
      "metadata": {
        "colab": {
          "base_uri": "https://localhost:8080/",
          "height": 197
        },
        "id": "0ZK8NJ0bawYi",
        "outputId": "12d751f0-9b63-4074-e42c-89c304417390"
      },
      "source": [
        "#Removing the columns such as customerID \n",
        "dataset.drop(columns=[\"RowNumber\",\"CustomerId\",\"Surname\"], inplace=True)\n",
        "dataset.head()"
      ],
      "execution_count": 363,
      "outputs": [
        {
          "output_type": "execute_result",
          "data": {
            "text/html": [
              "<div>\n",
              "<style scoped>\n",
              "    .dataframe tbody tr th:only-of-type {\n",
              "        vertical-align: middle;\n",
              "    }\n",
              "\n",
              "    .dataframe tbody tr th {\n",
              "        vertical-align: top;\n",
              "    }\n",
              "\n",
              "    .dataframe thead th {\n",
              "        text-align: right;\n",
              "    }\n",
              "</style>\n",
              "<table border=\"1\" class=\"dataframe\">\n",
              "  <thead>\n",
              "    <tr style=\"text-align: right;\">\n",
              "      <th></th>\n",
              "      <th>CreditScore</th>\n",
              "      <th>Geography</th>\n",
              "      <th>Gender</th>\n",
              "      <th>Age</th>\n",
              "      <th>Tenure</th>\n",
              "      <th>Balance</th>\n",
              "      <th>NumOfProducts</th>\n",
              "      <th>HasCrCard</th>\n",
              "      <th>IsActiveMember</th>\n",
              "      <th>EstimatedSalary</th>\n",
              "      <th>Exited</th>\n",
              "    </tr>\n",
              "  </thead>\n",
              "  <tbody>\n",
              "    <tr>\n",
              "      <th>0</th>\n",
              "      <td>619</td>\n",
              "      <td>France</td>\n",
              "      <td>Female</td>\n",
              "      <td>42</td>\n",
              "      <td>2</td>\n",
              "      <td>0.00</td>\n",
              "      <td>1</td>\n",
              "      <td>1</td>\n",
              "      <td>1</td>\n",
              "      <td>101348.88</td>\n",
              "      <td>1</td>\n",
              "    </tr>\n",
              "    <tr>\n",
              "      <th>1</th>\n",
              "      <td>608</td>\n",
              "      <td>Spain</td>\n",
              "      <td>Female</td>\n",
              "      <td>41</td>\n",
              "      <td>1</td>\n",
              "      <td>83807.86</td>\n",
              "      <td>1</td>\n",
              "      <td>0</td>\n",
              "      <td>1</td>\n",
              "      <td>112542.58</td>\n",
              "      <td>0</td>\n",
              "    </tr>\n",
              "    <tr>\n",
              "      <th>2</th>\n",
              "      <td>502</td>\n",
              "      <td>France</td>\n",
              "      <td>Female</td>\n",
              "      <td>42</td>\n",
              "      <td>8</td>\n",
              "      <td>159660.80</td>\n",
              "      <td>3</td>\n",
              "      <td>1</td>\n",
              "      <td>0</td>\n",
              "      <td>113931.57</td>\n",
              "      <td>1</td>\n",
              "    </tr>\n",
              "    <tr>\n",
              "      <th>3</th>\n",
              "      <td>699</td>\n",
              "      <td>France</td>\n",
              "      <td>Female</td>\n",
              "      <td>39</td>\n",
              "      <td>1</td>\n",
              "      <td>0.00</td>\n",
              "      <td>2</td>\n",
              "      <td>0</td>\n",
              "      <td>0</td>\n",
              "      <td>93826.63</td>\n",
              "      <td>0</td>\n",
              "    </tr>\n",
              "    <tr>\n",
              "      <th>4</th>\n",
              "      <td>850</td>\n",
              "      <td>Spain</td>\n",
              "      <td>Female</td>\n",
              "      <td>43</td>\n",
              "      <td>2</td>\n",
              "      <td>125510.82</td>\n",
              "      <td>1</td>\n",
              "      <td>1</td>\n",
              "      <td>1</td>\n",
              "      <td>79084.10</td>\n",
              "      <td>0</td>\n",
              "    </tr>\n",
              "  </tbody>\n",
              "</table>\n",
              "</div>"
            ],
            "text/plain": [
              "   CreditScore Geography  Gender  ...  IsActiveMember  EstimatedSalary  Exited\n",
              "0          619    France  Female  ...               1        101348.88       1\n",
              "1          608     Spain  Female  ...               1        112542.58       0\n",
              "2          502    France  Female  ...               0        113931.57       1\n",
              "3          699    France  Female  ...               0         93826.63       0\n",
              "4          850     Spain  Female  ...               1         79084.10       0\n",
              "\n",
              "[5 rows x 11 columns]"
            ]
          },
          "metadata": {
            "tags": []
          },
          "execution_count": 363
        }
      ]
    },
    {
      "cell_type": "markdown",
      "metadata": {
        "id": "BdIsm2zgWkWX"
      },
      "source": [
        "### Exploratory Data Analysis"
      ]
    },
    {
      "cell_type": "code",
      "metadata": {
        "colab": {
          "base_uri": "https://localhost:8080/",
          "height": 595
        },
        "id": "toCa-gcIX2z5",
        "outputId": "c85a4c32-e5c0-4d66-a923-307601daf54d"
      },
      "source": [
        "#Correlation Matrix with values on plot\n",
        "\n",
        "columns=list(dataset.columns)\n",
        "columns.remove(\"Exited\")\n",
        "columns\n",
        "\n",
        "import seaborn as sns\n",
        "import matplotlib.pyplot as plt\n",
        "\n",
        "correlation_mat = dataset[columns].corr()\n",
        "plt.subplots(figsize=(13,9))\n",
        "\n",
        "map = sns.heatmap(correlation_mat, cmap= \"YlGnBu\" , annot=True)\n",
        "map.set_xticklabels(map.get_xticklabels(), rotation=45, horizontalalignment='right')\n",
        "\n",
        "plt.show()"
      ],
      "execution_count": 364,
      "outputs": [
        {
          "output_type": "display_data",
          "data": {
            "image/png": "[encoded data removed]",
            "text/plain": [
              "<Figure size 936x648 with 2 Axes>"
            ]
          },
          "metadata": {
            "tags": [],
            "needs_background": "light"
          }
        }
      ]
    },
    {
      "cell_type": "code",
      "metadata": {
        "colab": {
          "base_uri": "https://localhost:8080/",
          "height": 324
        },
        "id": "P2d4NdNDwDMN",
        "outputId": "14c99d8f-287d-4745-9560-bd32b59fa47f"
      },
      "source": [
        "#Correlation Matrix without values on plot\n",
        "\n",
        "columns=list(dataset.columns)\n",
        "columns.remove(\"Exited\")\n",
        "columns\n",
        "\n",
        "import seaborn as sns\n",
        "import matplotlib.pyplot as plt\n",
        "\n",
        "correlation_mat = dataset[columns].corr()\n",
        "# plt.subplots(figsize=(1,10))\n",
        "\n",
        "map = sns.heatmap(correlation_mat, cmap= \"YlGnBu\")\n",
        "map.set_xticklabels(map.get_xticklabels(), rotation=45, horizontalalignment='right')\n",
        "\n",
        "plt.show()"
      ],
      "execution_count": 365,
      "outputs": [
        {
          "output_type": "display_data",
          "data": {
            "image/png": "[encoded data removed]",
            "text/plain": [
              "<Figure size 432x288 with 2 Axes>"
            ]
          },
          "metadata": {
            "tags": [],
            "needs_background": "light"
          }
        }
      ]
    },
    {
      "cell_type": "code",
      "metadata": {
        "colab": {
          "base_uri": "https://localhost:8080/",
          "height": 406
        },
        "id": "ncHWmSmBdWXZ",
        "outputId": "6d3b8e64-c96d-43e4-9a66-71666348dadf"
      },
      "source": [
        "#one hot encoding the categorical variables\n",
        "\n",
        "list_to_hotencode=[\"Geography\", \"Gender\"]\n",
        "\n",
        "for i in list_to_hotencode:\n",
        "  one_hot=pd.get_dummies(dataset[str(i)])\n",
        "  dataset=dataset.join(one_hot)\n",
        "  dataset.drop(columns=[i], inplace=True)  \n",
        "\n",
        "dataset"
      ],
      "execution_count": 366,
      "outputs": [
        {
          "output_type": "execute_result",
          "data": {
            "text/html": [
              "<div>\n",
              "<style scoped>\n",
              "    .dataframe tbody tr th:only-of-type {\n",
              "        vertical-align: middle;\n",
              "    }\n",
              "\n",
              "    .dataframe tbody tr th {\n",
              "        vertical-align: top;\n",
              "    }\n",
              "\n",
              "    .dataframe thead th {\n",
              "        text-align: right;\n",
              "    }\n",
              "</style>\n",
              "<table border=\"1\" class=\"dataframe\">\n",
              "  <thead>\n",
              "    <tr style=\"text-align: right;\">\n",
              "      <th></th>\n",
              "      <th>CreditScore</th>\n",
              "      <th>Age</th>\n",
              "      <th>Tenure</th>\n",
              "      <th>Balance</th>\n",
              "      <th>NumOfProducts</th>\n",
              "      <th>HasCrCard</th>\n",
              "      <th>IsActiveMember</th>\n",
              "      <th>EstimatedSalary</th>\n",
              "      <th>Exited</th>\n",
              "      <th>France</th>\n",
              "      <th>Germany</th>\n",
              "      <th>Spain</th>\n",
              "      <th>Female</th>\n",
              "      <th>Male</th>\n",
              "    </tr>\n",
              "  </thead>\n",
              "  <tbody>\n",
              "    <tr>\n",
              "      <th>0</th>\n",
              "      <td>619</td>\n",
              "      <td>42</td>\n",
              "      <td>2</td>\n",
              "      <td>0.00</td>\n",
              "      <td>1</td>\n",
              "      <td>1</td>\n",
              "      <td>1</td>\n",
              "      <td>101348.88</td>\n",
              "      <td>1</td>\n",
              "      <td>1</td>\n",
              "      <td>0</td>\n",
              "      <td>0</td>\n",
              "      <td>1</td>\n",
              "      <td>0</td>\n",
              "    </tr>\n",
              "    <tr>\n",
              "      <th>1</th>\n",
              "      <td>608</td>\n",
              "      <td>41</td>\n",
              "      <td>1</td>\n",
              "      <td>83807.86</td>\n",
              "      <td>1</td>\n",
              "      <td>0</td>\n",
              "      <td>1</td>\n",
              "      <td>112542.58</td>\n",
              "      <td>0</td>\n",
              "      <td>0</td>\n",
              "      <td>0</td>\n",
              "      <td>1</td>\n",
              "      <td>1</td>\n",
              "      <td>0</td>\n",
              "    </tr>\n",
              "    <tr>\n",
              "      <th>2</th>\n",
              "      <td>502</td>\n",
              "      <td>42</td>\n",
              "      <td>8</td>\n",
              "      <td>159660.80</td>\n",
              "      <td>3</td>\n",
              "      <td>1</td>\n",
              "      <td>0</td>\n",
              "      <td>113931.57</td>\n",
              "      <td>1</td>\n",
              "      <td>1</td>\n",
              "      <td>0</td>\n",
              "      <td>0</td>\n",
              "      <td>1</td>\n",
              "      <td>0</td>\n",
              "    </tr>\n",
              "    <tr>\n",
              "      <th>3</th>\n",
              "      <td>699</td>\n",
              "      <td>39</td>\n",
              "      <td>1</td>\n",
              "      <td>0.00</td>\n",
              "      <td>2</td>\n",
              "      <td>0</td>\n",
              "      <td>0</td>\n",
              "      <td>93826.63</td>\n",
              "      <td>0</td>\n",
              "      <td>1</td>\n",
              "      <td>0</td>\n",
              "      <td>0</td>\n",
              "      <td>1</td>\n",
              "      <td>0</td>\n",
              "    </tr>\n",
              "    <tr>\n",
              "      <th>4</th>\n",
              "      <td>850</td>\n",
              "      <td>43</td>\n",
              "      <td>2</td>\n",
              "      <td>125510.82</td>\n",
              "      <td>1</td>\n",
              "      <td>1</td>\n",
              "      <td>1</td>\n",
              "      <td>79084.10</td>\n",
              "      <td>0</td>\n",
              "      <td>0</td>\n",
              "      <td>0</td>\n",
              "      <td>1</td>\n",
              "      <td>1</td>\n",
              "      <td>0</td>\n",
              "    </tr>\n",
              "    <tr>\n",
              "      <th>...</th>\n",
              "      <td>...</td>\n",
              "      <td>...</td>\n",
              "      <td>...</td>\n",
              "      <td>...</td>\n",
              "      <td>...</td>\n",
              "      <td>...</td>\n",
              "      <td>...</td>\n",
              "      <td>...</td>\n",
              "      <td>...</td>\n",
              "      <td>...</td>\n",
              "      <td>...</td>\n",
              "      <td>...</td>\n",
              "      <td>...</td>\n",
              "      <td>...</td>\n",
              "    </tr>\n",
              "    <tr>\n",
              "      <th>9995</th>\n",
              "      <td>771</td>\n",
              "      <td>39</td>\n",
              "      <td>5</td>\n",
              "      <td>0.00</td>\n",
              "      <td>2</td>\n",
              "      <td>1</td>\n",
              "      <td>0</td>\n",
              "      <td>96270.64</td>\n",
              "      <td>0</td>\n",
              "      <td>1</td>\n",
              "      <td>0</td>\n",
              "      <td>0</td>\n",
              "      <td>0</td>\n",
              "      <td>1</td>\n",
              "    </tr>\n",
              "    <tr>\n",
              "      <th>9996</th>\n",
              "      <td>516</td>\n",
              "      <td>35</td>\n",
              "      <td>10</td>\n",
              "      <td>57369.61</td>\n",
              "      <td>1</td>\n",
              "      <td>1</td>\n",
              "      <td>1</td>\n",
              "      <td>101699.77</td>\n",
              "      <td>0</td>\n",
              "      <td>1</td>\n",
              "      <td>0</td>\n",
              "      <td>0</td>\n",
              "      <td>0</td>\n",
              "      <td>1</td>\n",
              "    </tr>\n",
              "    <tr>\n",
              "      <th>9997</th>\n",
              "      <td>709</td>\n",
              "      <td>36</td>\n",
              "      <td>7</td>\n",
              "      <td>0.00</td>\n",
              "      <td>1</td>\n",
              "      <td>0</td>\n",
              "      <td>1</td>\n",
              "      <td>42085.58</td>\n",
              "      <td>1</td>\n",
              "      <td>1</td>\n",
              "      <td>0</td>\n",
              "      <td>0</td>\n",
              "      <td>1</td>\n",
              "      <td>0</td>\n",
              "    </tr>\n",
              "    <tr>\n",
              "      <th>9998</th>\n",
              "      <td>772</td>\n",
              "      <td>42</td>\n",
              "      <td>3</td>\n",
              "      <td>75075.31</td>\n",
              "      <td>2</td>\n",
              "      <td>1</td>\n",
              "      <td>0</td>\n",
              "      <td>92888.52</td>\n",
              "      <td>1</td>\n",
              "      <td>0</td>\n",
              "      <td>1</td>\n",
              "      <td>0</td>\n",
              "      <td>0</td>\n",
              "      <td>1</td>\n",
              "    </tr>\n",
              "    <tr>\n",
              "      <th>9999</th>\n",
              "      <td>792</td>\n",
              "      <td>28</td>\n",
              "      <td>4</td>\n",
              "      <td>130142.79</td>\n",
              "      <td>1</td>\n",
              "      <td>1</td>\n",
              "      <td>0</td>\n",
              "      <td>38190.78</td>\n",
              "      <td>0</td>\n",
              "      <td>1</td>\n",
              "      <td>0</td>\n",
              "      <td>0</td>\n",
              "      <td>1</td>\n",
              "      <td>0</td>\n",
              "    </tr>\n",
              "  </tbody>\n",
              "</table>\n",
              "<p>10000 rows × 14 columns</p>\n",
              "</div>"
            ],
            "text/plain": [
              "      CreditScore  Age  Tenure    Balance  ...  Germany  Spain  Female  Male\n",
              "0             619   42       2       0.00  ...        0      0       1     0\n",
              "1             608   41       1   83807.86  ...        0      1       1     0\n",
              "2             502   42       8  159660.80  ...        0      0       1     0\n",
              "3             699   39       1       0.00  ...        0      0       1     0\n",
              "4             850   43       2  125510.82  ...        0      1       1     0\n",
              "...           ...  ...     ...        ...  ...      ...    ...     ...   ...\n",
              "9995          771   39       5       0.00  ...        0      0       0     1\n",
              "9996          516   35      10   57369.61  ...        0      0       0     1\n",
              "9997          709   36       7       0.00  ...        0      0       1     0\n",
              "9998          772   42       3   75075.31  ...        1      0       0     1\n",
              "9999          792   28       4  130142.79  ...        0      0       1     0\n",
              "\n",
              "[10000 rows x 14 columns]"
            ]
          },
          "metadata": {
            "tags": []
          },
          "execution_count": 366
        }
      ]
    },
    {
      "cell_type": "code",
      "metadata": {
        "colab": {
          "base_uri": "https://localhost:8080/",
          "height": 436
        },
        "id": "t_NjFVIQvhx-",
        "outputId": "98780ad4-8544-489e-95ee-7fe02f15fca1"
      },
      "source": [
        "#To make the dataset balanced\n",
        "#shuffling the dataset\n",
        "shuffled_dataset = dataset.iloc[np.random.permutation(len(dataset))]\n",
        "#sampling equal amounts of data from each class\n",
        "dataset_ready=shuffled_dataset.groupby('Exited').apply(lambda x: x.sample(2037))\n",
        "dataset_ready = dataset_ready.iloc[np.random.permutation(len(dataset_ready))]\n",
        "dataset_ready"
      ],
      "execution_count": 367,
      "outputs": [
        {
          "output_type": "execute_result",
          "data": {
            "text/html": [
              "<div>\n",
              "<style scoped>\n",
              "    .dataframe tbody tr th:only-of-type {\n",
              "        vertical-align: middle;\n",
              "    }\n",
              "\n",
              "    .dataframe tbody tr th {\n",
              "        vertical-align: top;\n",
              "    }\n",
              "\n",
              "    .dataframe thead th {\n",
              "        text-align: right;\n",
              "    }\n",
              "</style>\n",
              "<table border=\"1\" class=\"dataframe\">\n",
              "  <thead>\n",
              "    <tr style=\"text-align: right;\">\n",
              "      <th></th>\n",
              "      <th></th>\n",
              "      <th>CreditScore</th>\n",
              "      <th>Age</th>\n",
              "      <th>Tenure</th>\n",
              "      <th>Balance</th>\n",
              "      <th>NumOfProducts</th>\n",
              "      <th>HasCrCard</th>\n",
              "      <th>IsActiveMember</th>\n",
              "      <th>EstimatedSalary</th>\n",
              "      <th>Exited</th>\n",
              "      <th>France</th>\n",
              "      <th>Germany</th>\n",
              "      <th>Spain</th>\n",
              "      <th>Female</th>\n",
              "      <th>Male</th>\n",
              "    </tr>\n",
              "    <tr>\n",
              "      <th>Exited</th>\n",
              "      <th></th>\n",
              "      <th></th>\n",
              "      <th></th>\n",
              "      <th></th>\n",
              "      <th></th>\n",
              "      <th></th>\n",
              "      <th></th>\n",
              "      <th></th>\n",
              "      <th></th>\n",
              "      <th></th>\n",
              "      <th></th>\n",
              "      <th></th>\n",
              "      <th></th>\n",
              "      <th></th>\n",
              "      <th></th>\n",
              "    </tr>\n",
              "  </thead>\n",
              "  <tbody>\n",
              "    <tr>\n",
              "      <th rowspan=\"2\" valign=\"top\">0</th>\n",
              "      <th>3920</th>\n",
              "      <td>634</td>\n",
              "      <td>43</td>\n",
              "      <td>3</td>\n",
              "      <td>212696.32</td>\n",
              "      <td>1</td>\n",
              "      <td>1</td>\n",
              "      <td>0</td>\n",
              "      <td>115268.86</td>\n",
              "      <td>0</td>\n",
              "      <td>0</td>\n",
              "      <td>1</td>\n",
              "      <td>0</td>\n",
              "      <td>0</td>\n",
              "      <td>1</td>\n",
              "    </tr>\n",
              "    <tr>\n",
              "      <th>2852</th>\n",
              "      <td>609</td>\n",
              "      <td>40</td>\n",
              "      <td>6</td>\n",
              "      <td>0.00</td>\n",
              "      <td>2</td>\n",
              "      <td>1</td>\n",
              "      <td>1</td>\n",
              "      <td>97416.34</td>\n",
              "      <td>0</td>\n",
              "      <td>1</td>\n",
              "      <td>0</td>\n",
              "      <td>0</td>\n",
              "      <td>0</td>\n",
              "      <td>1</td>\n",
              "    </tr>\n",
              "    <tr>\n",
              "      <th>1</th>\n",
              "      <th>9858</th>\n",
              "      <td>507</td>\n",
              "      <td>40</td>\n",
              "      <td>3</td>\n",
              "      <td>120105.43</td>\n",
              "      <td>1</td>\n",
              "      <td>1</td>\n",
              "      <td>0</td>\n",
              "      <td>92075.01</td>\n",
              "      <td>1</td>\n",
              "      <td>0</td>\n",
              "      <td>1</td>\n",
              "      <td>0</td>\n",
              "      <td>0</td>\n",
              "      <td>1</td>\n",
              "    </tr>\n",
              "    <tr>\n",
              "      <th>0</th>\n",
              "      <th>7756</th>\n",
              "      <td>621</td>\n",
              "      <td>36</td>\n",
              "      <td>7</td>\n",
              "      <td>116338.68</td>\n",
              "      <td>1</td>\n",
              "      <td>1</td>\n",
              "      <td>1</td>\n",
              "      <td>155743.48</td>\n",
              "      <td>0</td>\n",
              "      <td>0</td>\n",
              "      <td>0</td>\n",
              "      <td>1</td>\n",
              "      <td>1</td>\n",
              "      <td>0</td>\n",
              "    </tr>\n",
              "    <tr>\n",
              "      <th rowspan=\"4\" valign=\"top\">1</th>\n",
              "      <th>2074</th>\n",
              "      <td>661</td>\n",
              "      <td>44</td>\n",
              "      <td>1</td>\n",
              "      <td>141136.62</td>\n",
              "      <td>1</td>\n",
              "      <td>1</td>\n",
              "      <td>0</td>\n",
              "      <td>189742.78</td>\n",
              "      <td>1</td>\n",
              "      <td>0</td>\n",
              "      <td>1</td>\n",
              "      <td>0</td>\n",
              "      <td>0</td>\n",
              "      <td>1</td>\n",
              "    </tr>\n",
              "    <tr>\n",
              "      <th>...</th>\n",
              "      <td>...</td>\n",
              "      <td>...</td>\n",
              "      <td>...</td>\n",
              "      <td>...</td>\n",
              "      <td>...</td>\n",
              "      <td>...</td>\n",
              "      <td>...</td>\n",
              "      <td>...</td>\n",
              "      <td>...</td>\n",
              "      <td>...</td>\n",
              "      <td>...</td>\n",
              "      <td>...</td>\n",
              "      <td>...</td>\n",
              "      <td>...</td>\n",
              "    </tr>\n",
              "    <tr>\n",
              "      <th>7361</th>\n",
              "      <td>692</td>\n",
              "      <td>36</td>\n",
              "      <td>4</td>\n",
              "      <td>0.00</td>\n",
              "      <td>1</td>\n",
              "      <td>1</td>\n",
              "      <td>0</td>\n",
              "      <td>185580.89</td>\n",
              "      <td>1</td>\n",
              "      <td>1</td>\n",
              "      <td>0</td>\n",
              "      <td>0</td>\n",
              "      <td>1</td>\n",
              "      <td>0</td>\n",
              "    </tr>\n",
              "    <tr>\n",
              "      <th>9947</th>\n",
              "      <td>615</td>\n",
              "      <td>34</td>\n",
              "      <td>1</td>\n",
              "      <td>83503.11</td>\n",
              "      <td>2</td>\n",
              "      <td>1</td>\n",
              "      <td>1</td>\n",
              "      <td>73124.53</td>\n",
              "      <td>1</td>\n",
              "      <td>1</td>\n",
              "      <td>0</td>\n",
              "      <td>0</td>\n",
              "      <td>0</td>\n",
              "      <td>1</td>\n",
              "    </tr>\n",
              "    <tr>\n",
              "      <th>0</th>\n",
              "      <th>2278</th>\n",
              "      <td>473</td>\n",
              "      <td>33</td>\n",
              "      <td>5</td>\n",
              "      <td>125827.43</td>\n",
              "      <td>1</td>\n",
              "      <td>0</td>\n",
              "      <td>1</td>\n",
              "      <td>145698.73</td>\n",
              "      <td>0</td>\n",
              "      <td>1</td>\n",
              "      <td>0</td>\n",
              "      <td>0</td>\n",
              "      <td>1</td>\n",
              "      <td>0</td>\n",
              "    </tr>\n",
              "    <tr>\n",
              "      <th rowspan=\"2\" valign=\"top\">1</th>\n",
              "      <th>761</th>\n",
              "      <td>693</td>\n",
              "      <td>35</td>\n",
              "      <td>5</td>\n",
              "      <td>124151.09</td>\n",
              "      <td>1</td>\n",
              "      <td>1</td>\n",
              "      <td>0</td>\n",
              "      <td>88705.14</td>\n",
              "      <td>1</td>\n",
              "      <td>1</td>\n",
              "      <td>0</td>\n",
              "      <td>0</td>\n",
              "      <td>1</td>\n",
              "      <td>0</td>\n",
              "    </tr>\n",
              "    <tr>\n",
              "      <th>9451</th>\n",
              "      <td>524</td>\n",
              "      <td>29</td>\n",
              "      <td>3</td>\n",
              "      <td>159035.45</td>\n",
              "      <td>1</td>\n",
              "      <td>1</td>\n",
              "      <td>0</td>\n",
              "      <td>2705.31</td>\n",
              "      <td>1</td>\n",
              "      <td>0</td>\n",
              "      <td>0</td>\n",
              "      <td>1</td>\n",
              "      <td>0</td>\n",
              "      <td>1</td>\n",
              "    </tr>\n",
              "  </tbody>\n",
              "</table>\n",
              "<p>4074 rows × 14 columns</p>\n",
              "</div>"
            ],
            "text/plain": [
              "             CreditScore  Age  Tenure    Balance  ...  Germany  Spain  Female  Male\n",
              "Exited                                            ...                              \n",
              "0      3920          634   43       3  212696.32  ...        1      0       0     1\n",
              "       2852          609   40       6       0.00  ...        0      0       0     1\n",
              "1      9858          507   40       3  120105.43  ...        1      0       0     1\n",
              "0      7756          621   36       7  116338.68  ...        0      1       1     0\n",
              "1      2074          661   44       1  141136.62  ...        1      0       0     1\n",
              "...                  ...  ...     ...        ...  ...      ...    ...     ...   ...\n",
              "       7361          692   36       4       0.00  ...        0      0       1     0\n",
              "       9947          615   34       1   83503.11  ...        0      0       0     1\n",
              "0      2278          473   33       5  125827.43  ...        0      0       1     0\n",
              "1      761           693   35       5  124151.09  ...        0      0       1     0\n",
              "       9451          524   29       3  159035.45  ...        0      1       0     1\n",
              "\n",
              "[4074 rows x 14 columns]"
            ]
          },
          "metadata": {
            "tags": []
          },
          "execution_count": 367
        }
      ]
    },
    {
      "cell_type": "code",
      "metadata": {
        "colab": {
          "base_uri": "https://localhost:8080/"
        },
        "id": "ve9LsXdyD8q6",
        "outputId": "abf76f20-9444-4ebd-b7b6-9450bbed909a"
      },
      "source": [
        "print(\"Number of samples for the customers who left the bank:\",len(dataset_ready[dataset_ready['Exited']==1]))\n",
        "print(\"Number of samples for the customers who stayed as a customer at the bank:\",len(dataset_ready[dataset_ready['Exited']==0]))"
      ],
      "execution_count": 368,
      "outputs": [
        {
          "output_type": "stream",
          "text": [
            "Number of samples for the customers who left the bank: 2037\n",
            "Number of samples for the customers who stayed as a customer at the bank: 2037\n"
          ],
          "name": "stdout"
        }
      ]
    },
    {
      "cell_type": "code",
      "metadata": {
        "colab": {
          "base_uri": "https://localhost:8080/"
        },
        "id": "YUnNGmXmW-XL",
        "outputId": "b99f1cd2-eb96-4000-e857-636cadad4664"
      },
      "source": [
        "#EDA Continues\n",
        "#Which age left the bank the most?\n",
        "analysis=shuffled_dataset[['Exited','Age']].groupby(['Age']).sum()\n",
        "indx_age=analysis['Exited'].idxmax()\n",
        "age=analysis.loc[indx_age,'Exited']\n",
        "\n",
        "print(\"The age that the customers left the bank the most is\",indx_age,\". Total of 91 people in this age left the bank in the dataset.\" )"
      ],
      "execution_count": 369,
      "outputs": [
        {
          "output_type": "stream",
          "text": [
            "The age that the customers left the bank the most is 46 . Total of 91 people in this age left the bank in the dataset.\n"
          ],
          "name": "stdout"
        }
      ]
    },
    {
      "cell_type": "code",
      "metadata": {
        "id": "O2nShPCDcJM9"
      },
      "source": [
        "  #Shuffle\n",
        "  shuffled_dataset = dataset_ready.iloc[np.random.permutation(len(dataset_ready))]            \n",
        "  # shuffled_dataset = dataset.iloc[np.random.permutation(len(dataset))]  #if you keep the dataset as imbalanced\n",
        "  ##Split train 80% test 20% \n",
        "  train_per = int(len(shuffled_dataset) / 5) * 4\n",
        "  train = shuffled_dataset.iloc[:train_per]\n",
        "  test = shuffled_dataset.iloc[train_per:]"
      ],
      "execution_count": 370,
      "outputs": []
    },
    {
      "cell_type": "code",
      "metadata": {
        "id": "xd0OLh0kG9gI"
      },
      "source": [
        "  # #No Shuffle\n",
        "  # # shuffled_dataset = dataset_ready.iloc[np.random.permutation(len(dataset_ready))]            \n",
        "  # # shuffled_dataset = dataset.iloc[np.random.permutation(len(dataset))]  #if you keep the dataset as imbalanced\n",
        "  # ##Split train 80% test 20% \n",
        "  # train_per = int(len(dataset) / 5) * 4\n",
        "  # train = dataset.iloc[:train_per]\n",
        "  # test = dataset.iloc[train_per:]"
      ],
      "execution_count": 371,
      "outputs": []
    },
    {
      "cell_type": "code",
      "metadata": {
        "colab": {
          "base_uri": "https://localhost:8080/",
          "height": 436
        },
        "id": "2aXJuzViYalV",
        "outputId": "a288fc1c-15c2-4051-f5a8-a5a8ebdf0625"
      },
      "source": [
        "train"
      ],
      "execution_count": 372,
      "outputs": [
        {
          "output_type": "execute_result",
          "data": {
            "text/html": [
              "<div>\n",
              "<style scoped>\n",
              "    .dataframe tbody tr th:only-of-type {\n",
              "        vertical-align: middle;\n",
              "    }\n",
              "\n",
              "    .dataframe tbody tr th {\n",
              "        vertical-align: top;\n",
              "    }\n",
              "\n",
              "    .dataframe thead th {\n",
              "        text-align: right;\n",
              "    }\n",
              "</style>\n",
              "<table border=\"1\" class=\"dataframe\">\n",
              "  <thead>\n",
              "    <tr style=\"text-align: right;\">\n",
              "      <th></th>\n",
              "      <th></th>\n",
              "      <th>CreditScore</th>\n",
              "      <th>Age</th>\n",
              "      <th>Tenure</th>\n",
              "      <th>Balance</th>\n",
              "      <th>NumOfProducts</th>\n",
              "      <th>HasCrCard</th>\n",
              "      <th>IsActiveMember</th>\n",
              "      <th>EstimatedSalary</th>\n",
              "      <th>Exited</th>\n",
              "      <th>France</th>\n",
              "      <th>Germany</th>\n",
              "      <th>Spain</th>\n",
              "      <th>Female</th>\n",
              "      <th>Male</th>\n",
              "    </tr>\n",
              "    <tr>\n",
              "      <th>Exited</th>\n",
              "      <th></th>\n",
              "      <th></th>\n",
              "      <th></th>\n",
              "      <th></th>\n",
              "      <th></th>\n",
              "      <th></th>\n",
              "      <th></th>\n",
              "      <th></th>\n",
              "      <th></th>\n",
              "      <th></th>\n",
              "      <th></th>\n",
              "      <th></th>\n",
              "      <th></th>\n",
              "      <th></th>\n",
              "      <th></th>\n",
              "    </tr>\n",
              "  </thead>\n",
              "  <tbody>\n",
              "    <tr>\n",
              "      <th>1</th>\n",
              "      <th>5789</th>\n",
              "      <td>689</td>\n",
              "      <td>55</td>\n",
              "      <td>1</td>\n",
              "      <td>76296.81</td>\n",
              "      <td>1</td>\n",
              "      <td>1</td>\n",
              "      <td>0</td>\n",
              "      <td>42364.75</td>\n",
              "      <td>1</td>\n",
              "      <td>0</td>\n",
              "      <td>1</td>\n",
              "      <td>0</td>\n",
              "      <td>1</td>\n",
              "      <td>0</td>\n",
              "    </tr>\n",
              "    <tr>\n",
              "      <th>0</th>\n",
              "      <th>1116</th>\n",
              "      <td>519</td>\n",
              "      <td>42</td>\n",
              "      <td>8</td>\n",
              "      <td>0.00</td>\n",
              "      <td>2</td>\n",
              "      <td>1</td>\n",
              "      <td>1</td>\n",
              "      <td>101485.72</td>\n",
              "      <td>0</td>\n",
              "      <td>1</td>\n",
              "      <td>0</td>\n",
              "      <td>0</td>\n",
              "      <td>0</td>\n",
              "      <td>1</td>\n",
              "    </tr>\n",
              "    <tr>\n",
              "      <th>1</th>\n",
              "      <th>8486</th>\n",
              "      <td>738</td>\n",
              "      <td>40</td>\n",
              "      <td>6</td>\n",
              "      <td>114940.67</td>\n",
              "      <td>2</td>\n",
              "      <td>1</td>\n",
              "      <td>1</td>\n",
              "      <td>194895.57</td>\n",
              "      <td>1</td>\n",
              "      <td>0</td>\n",
              "      <td>1</td>\n",
              "      <td>0</td>\n",
              "      <td>1</td>\n",
              "      <td>0</td>\n",
              "    </tr>\n",
              "    <tr>\n",
              "      <th>0</th>\n",
              "      <th>9908</th>\n",
              "      <td>492</td>\n",
              "      <td>45</td>\n",
              "      <td>9</td>\n",
              "      <td>170295.04</td>\n",
              "      <td>2</td>\n",
              "      <td>0</td>\n",
              "      <td>0</td>\n",
              "      <td>164741.81</td>\n",
              "      <td>0</td>\n",
              "      <td>0</td>\n",
              "      <td>1</td>\n",
              "      <td>0</td>\n",
              "      <td>0</td>\n",
              "      <td>1</td>\n",
              "    </tr>\n",
              "    <tr>\n",
              "      <th>1</th>\n",
              "      <th>7506</th>\n",
              "      <td>674</td>\n",
              "      <td>44</td>\n",
              "      <td>4</td>\n",
              "      <td>131593.85</td>\n",
              "      <td>1</td>\n",
              "      <td>0</td>\n",
              "      <td>1</td>\n",
              "      <td>171345.02</td>\n",
              "      <td>1</td>\n",
              "      <td>0</td>\n",
              "      <td>1</td>\n",
              "      <td>0</td>\n",
              "      <td>1</td>\n",
              "      <td>0</td>\n",
              "    </tr>\n",
              "    <tr>\n",
              "      <th>...</th>\n",
              "      <th>...</th>\n",
              "      <td>...</td>\n",
              "      <td>...</td>\n",
              "      <td>...</td>\n",
              "      <td>...</td>\n",
              "      <td>...</td>\n",
              "      <td>...</td>\n",
              "      <td>...</td>\n",
              "      <td>...</td>\n",
              "      <td>...</td>\n",
              "      <td>...</td>\n",
              "      <td>...</td>\n",
              "      <td>...</td>\n",
              "      <td>...</td>\n",
              "      <td>...</td>\n",
              "    </tr>\n",
              "    <tr>\n",
              "      <th rowspan=\"2\" valign=\"top\">0</th>\n",
              "      <th>9670</th>\n",
              "      <td>756</td>\n",
              "      <td>32</td>\n",
              "      <td>4</td>\n",
              "      <td>0.00</td>\n",
              "      <td>2</td>\n",
              "      <td>1</td>\n",
              "      <td>0</td>\n",
              "      <td>147040.25</td>\n",
              "      <td>0</td>\n",
              "      <td>1</td>\n",
              "      <td>0</td>\n",
              "      <td>0</td>\n",
              "      <td>1</td>\n",
              "      <td>0</td>\n",
              "    </tr>\n",
              "    <tr>\n",
              "      <th>2700</th>\n",
              "      <td>564</td>\n",
              "      <td>31</td>\n",
              "      <td>4</td>\n",
              "      <td>0.00</td>\n",
              "      <td>2</td>\n",
              "      <td>1</td>\n",
              "      <td>0</td>\n",
              "      <td>53520.03</td>\n",
              "      <td>0</td>\n",
              "      <td>1</td>\n",
              "      <td>0</td>\n",
              "      <td>0</td>\n",
              "      <td>0</td>\n",
              "      <td>1</td>\n",
              "    </tr>\n",
              "    <tr>\n",
              "      <th>1</th>\n",
              "      <th>4220</th>\n",
              "      <td>589</td>\n",
              "      <td>45</td>\n",
              "      <td>1</td>\n",
              "      <td>0.00</td>\n",
              "      <td>1</td>\n",
              "      <td>0</td>\n",
              "      <td>0</td>\n",
              "      <td>125939.22</td>\n",
              "      <td>1</td>\n",
              "      <td>0</td>\n",
              "      <td>0</td>\n",
              "      <td>1</td>\n",
              "      <td>1</td>\n",
              "      <td>0</td>\n",
              "    </tr>\n",
              "    <tr>\n",
              "      <th>0</th>\n",
              "      <th>3315</th>\n",
              "      <td>527</td>\n",
              "      <td>25</td>\n",
              "      <td>6</td>\n",
              "      <td>0.00</td>\n",
              "      <td>2</td>\n",
              "      <td>0</td>\n",
              "      <td>1</td>\n",
              "      <td>96758.58</td>\n",
              "      <td>0</td>\n",
              "      <td>1</td>\n",
              "      <td>0</td>\n",
              "      <td>0</td>\n",
              "      <td>1</td>\n",
              "      <td>0</td>\n",
              "    </tr>\n",
              "    <tr>\n",
              "      <th>1</th>\n",
              "      <th>6272</th>\n",
              "      <td>511</td>\n",
              "      <td>46</td>\n",
              "      <td>1</td>\n",
              "      <td>0.00</td>\n",
              "      <td>1</td>\n",
              "      <td>1</td>\n",
              "      <td>1</td>\n",
              "      <td>115779.48</td>\n",
              "      <td>1</td>\n",
              "      <td>1</td>\n",
              "      <td>0</td>\n",
              "      <td>0</td>\n",
              "      <td>1</td>\n",
              "      <td>0</td>\n",
              "    </tr>\n",
              "  </tbody>\n",
              "</table>\n",
              "<p>3256 rows × 14 columns</p>\n",
              "</div>"
            ],
            "text/plain": [
              "             CreditScore  Age  Tenure    Balance  ...  Germany  Spain  Female  Male\n",
              "Exited                                            ...                              \n",
              "1      5789          689   55       1   76296.81  ...        1      0       1     0\n",
              "0      1116          519   42       8       0.00  ...        0      0       0     1\n",
              "1      8486          738   40       6  114940.67  ...        1      0       1     0\n",
              "0      9908          492   45       9  170295.04  ...        1      0       0     1\n",
              "1      7506          674   44       4  131593.85  ...        1      0       1     0\n",
              "...                  ...  ...     ...        ...  ...      ...    ...     ...   ...\n",
              "0      9670          756   32       4       0.00  ...        0      0       1     0\n",
              "       2700          564   31       4       0.00  ...        0      0       0     1\n",
              "1      4220          589   45       1       0.00  ...        0      1       1     0\n",
              "0      3315          527   25       6       0.00  ...        0      0       1     0\n",
              "1      6272          511   46       1       0.00  ...        0      0       1     0\n",
              "\n",
              "[3256 rows x 14 columns]"
            ]
          },
          "metadata": {
            "tags": []
          },
          "execution_count": 372
        }
      ]
    },
    {
      "cell_type": "code",
      "metadata": {
        "id": "rWO_QYPyGfpB"
      },
      "source": [
        "#convert numpy\n",
        "y_train = train[\"Exited\"].to_numpy()\n",
        "y_test = test[\"Exited\"].to_numpy()\n",
        "#convert numpy and Exited\n",
        "x_train = train[list(dataset.columns)[0:8] + list(dataset.columns)[9:]].to_numpy()\n",
        "x_test = test[list(dataset.columns)[0:8] + list(dataset.columns)[9:]].to_numpy()\n"
      ],
      "execution_count": 373,
      "outputs": []
    },
    {
      "cell_type": "code",
      "metadata": {
        "colab": {
          "base_uri": "https://localhost:8080/"
        },
        "id": "E4WndZYzaoPS",
        "outputId": "3f869d1b-b0c6-445f-e8c5-79fc42f3c716"
      },
      "source": [
        "#Standardizing the features in x_train\n",
        "\n",
        "from numpy import asarray\n",
        "from sklearn.preprocessing import StandardScaler\n",
        "\n",
        "# define standard scaler\n",
        "scaler = StandardScaler()\n",
        "# # transform data\n",
        "scaled = scaler.fit_transform(x_train)\n",
        "print(scaled)\n",
        "x_train= scaled"
      ],
      "execution_count": 374,
      "outputs": [
        {
          "output_type": "stream",
          "text": [
            "[[ 0.41927159  1.28971164 -1.37567719 ... -0.54327449  1.01922657\n",
            "  -1.01922657]\n",
            " [-1.29589093  0.07819557  1.04383315 ... -0.54327449 -0.98113612\n",
            "   0.98113612]\n",
            " [ 0.91364196 -0.10819152  0.35254448 ... -0.54327449  1.01922657\n",
            "  -1.01922657]\n",
            " ...\n",
            " [-0.58964754  0.3577762  -1.37567719 ...  1.84069013  1.01922657\n",
            "  -1.01922657]\n",
            " [-1.2151774  -1.50609468  0.35254448 ... -0.54327449  1.01922657\n",
            "  -1.01922657]\n",
            " [-1.37660446  0.45096974 -1.37567719 ... -0.54327449  1.01922657\n",
            "  -1.01922657]]\n"
          ],
          "name": "stdout"
        }
      ]
    },
    {
      "cell_type": "code",
      "metadata": {
        "colab": {
          "base_uri": "https://localhost:8080/"
        },
        "id": "U4L99KpybcSg",
        "outputId": "62c1de0b-b6f7-4502-d4ef-56f4ea15ee69"
      },
      "source": [
        "#Standardizing the features in dataset for x_test\n",
        "\n",
        "from numpy import asarray\n",
        "from sklearn.preprocessing import StandardScaler\n",
        "\n",
        "# define standard scaler\n",
        "scaler = StandardScaler()\n",
        "# # transform data\n",
        "x_test = scaler.fit_transform(x_test)\n",
        "print(x_test)"
      ],
      "execution_count": 375,
      "outputs": [
        {
          "output_type": "stream",
          "text": [
            "[[ 0.22206357  1.72996803 -1.65251359 ... -0.56323199 -1.03991583\n",
            "   1.03991583]\n",
            " [ 0.43675334 -1.0389613  -0.97066939 ... -0.56323199 -1.03991583\n",
            "   1.03991583]\n",
            " [ 0.24251021 -0.84800066  1.75670738 ...  1.77546734 -1.03991583\n",
            "   1.03991583]\n",
            " ...\n",
            " [ 1.45908561  1.53900739 -0.6297473  ... -0.56323199 -1.03991583\n",
            "   1.03991583]\n",
            " [ 0.02782044 -1.13444162  0.73394109 ... -0.56323199 -1.03991583\n",
            "   1.03991583]\n",
            " [ 1.94980509 -0.37059905 -0.2888252  ... -0.56323199  0.96161629\n",
            "  -0.96161629]]\n"
          ],
          "name": "stdout"
        }
      ]
    },
    {
      "cell_type": "markdown",
      "metadata": {
        "id": "JZ6H9EPB2Xgz"
      },
      "source": [
        "# Modeling"
      ]
    },
    {
      "cell_type": "markdown",
      "metadata": {
        "id": "rahzMg2a2pik"
      },
      "source": [
        "###SVM"
      ]
    },
    {
      "cell_type": "code",
      "metadata": {
        "id": "aoL5F5_QE9N4"
      },
      "source": [
        "from sklearn import svm\n",
        "\n",
        "model_svm= svm.SVC()    "
      ],
      "execution_count": 376,
      "outputs": []
    },
    {
      "cell_type": "code",
      "metadata": {
        "colab": {
          "base_uri": "https://localhost:8080/"
        },
        "id": "Sy2uMAIV2omH",
        "outputId": "aefdc64a-1452-4cb3-cfa9-2e6531539a0d"
      },
      "source": [
        "from sklearn.model_selection import GridSearchCV\n",
        "parameters = {'kernel':('linear', 'rbf', 'poly', 'sigmoid'), 'C':[0.0001, 0.001, 0.01, 0.1, 1, 10]} \n",
        "grid = GridSearchCV(model_svm, parameters, n_jobs=1, verbose=3)   #5fold+gridsearch\n",
        "grid.fit(x_train, y_train)\n",
        "best_svm = grid.best_estimator_"
      ],
      "execution_count": 377,
      "outputs": [
        {
          "output_type": "stream",
          "text": [
            "Fitting 5 folds for each of 24 candidates, totalling 120 fits\n",
            "[CV] C=0.0001, kernel=linear .........................................\n"
          ],
          "name": "stdout"
        },
        {
          "output_type": "stream",
          "text": [
            "[Parallel(n_jobs=1)]: Using backend SequentialBackend with 1 concurrent workers.\n"
          ],
          "name": "stderr"
        },
        {
          "output_type": "stream",
          "text": [
            "[CV] ............. C=0.0001, kernel=linear, score=0.500, total=   0.3s\n",
            "[CV] C=0.0001, kernel=linear .........................................\n"
          ],
          "name": "stdout"
        },
        {
          "output_type": "stream",
          "text": [
            "[Parallel(n_jobs=1)]: Done   1 out of   1 | elapsed:    0.3s remaining:    0.0s\n"
          ],
          "name": "stderr"
        },
        {
          "output_type": "stream",
          "text": [
            "[CV] ............. C=0.0001, kernel=linear, score=0.499, total=   0.2s\n",
            "[CV] C=0.0001, kernel=linear .........................................\n"
          ],
          "name": "stdout"
        },
        {
          "output_type": "stream",
          "text": [
            "[Parallel(n_jobs=1)]: Done   2 out of   2 | elapsed:    0.5s remaining:    0.0s\n"
          ],
          "name": "stderr"
        },
        {
          "output_type": "stream",
          "text": [
            "[CV] ............. C=0.0001, kernel=linear, score=0.501, total=   0.2s\n",
            "[CV] C=0.0001, kernel=linear .........................................\n",
            "[CV] ............. C=0.0001, kernel=linear, score=0.501, total=   0.2s\n",
            "[CV] C=0.0001, kernel=linear .........................................\n",
            "[CV] ............. C=0.0001, kernel=linear, score=0.501, total=   0.2s\n",
            "[CV] C=0.0001, kernel=rbf ............................................\n",
            "[CV] ................ C=0.0001, kernel=rbf, score=0.500, total=   0.5s\n",
            "[CV] C=0.0001, kernel=rbf ............................................\n",
            "[CV] ................ C=0.0001, kernel=rbf, score=0.499, total=   0.5s\n",
            "[CV] C=0.0001, kernel=rbf ............................................\n",
            "[CV] ................ C=0.0001, kernel=rbf, score=0.501, total=   0.5s\n",
            "[CV] C=0.0001, kernel=rbf ............................................\n",
            "[CV] ................ C=0.0001, kernel=rbf, score=0.501, total=   0.5s\n",
            "[CV] C=0.0001, kernel=rbf ............................................\n",
            "[CV] ................ C=0.0001, kernel=rbf, score=0.501, total=   0.5s\n",
            "[CV] C=0.0001, kernel=poly ...........................................\n",
            "[CV] ............... C=0.0001, kernel=poly, score=0.500, total=   0.3s\n",
            "[CV] C=0.0001, kernel=poly ...........................................\n",
            "[CV] ............... C=0.0001, kernel=poly, score=0.499, total=   0.3s\n",
            "[CV] C=0.0001, kernel=poly ...........................................\n",
            "[CV] ............... C=0.0001, kernel=poly, score=0.501, total=   0.3s\n",
            "[CV] C=0.0001, kernel=poly ...........................................\n",
            "[CV] ............... C=0.0001, kernel=poly, score=0.501, total=   0.3s\n",
            "[CV] C=0.0001, kernel=poly ...........................................\n",
            "[CV] ............... C=0.0001, kernel=poly, score=0.501, total=   0.3s\n",
            "[CV] C=0.0001, kernel=sigmoid ........................................\n",
            "[CV] ............ C=0.0001, kernel=sigmoid, score=0.500, total=   0.6s\n",
            "[CV] C=0.0001, kernel=sigmoid ........................................\n",
            "[CV] ............ C=0.0001, kernel=sigmoid, score=0.499, total=   0.6s\n",
            "[CV] C=0.0001, kernel=sigmoid ........................................\n",
            "[CV] ............ C=0.0001, kernel=sigmoid, score=0.501, total=   0.6s\n",
            "[CV] C=0.0001, kernel=sigmoid ........................................\n",
            "[CV] ............ C=0.0001, kernel=sigmoid, score=0.501, total=   0.6s\n",
            "[CV] C=0.0001, kernel=sigmoid ........................................\n",
            "[CV] ............ C=0.0001, kernel=sigmoid, score=0.501, total=   0.6s\n",
            "[CV] C=0.001, kernel=linear ..........................................\n",
            "[CV] .............. C=0.001, kernel=linear, score=0.712, total=   0.2s\n",
            "[CV] C=0.001, kernel=linear ..........................................\n",
            "[CV] .............. C=0.001, kernel=linear, score=0.684, total=   0.2s\n",
            "[CV] C=0.001, kernel=linear ..........................................\n",
            "[CV] .............. C=0.001, kernel=linear, score=0.679, total=   0.2s\n",
            "[CV] C=0.001, kernel=linear ..........................................\n",
            "[CV] .............. C=0.001, kernel=linear, score=0.699, total=   0.2s\n",
            "[CV] C=0.001, kernel=linear ..........................................\n",
            "[CV] .............. C=0.001, kernel=linear, score=0.704, total=   0.2s\n",
            "[CV] C=0.001, kernel=rbf .............................................\n",
            "[CV] ................. C=0.001, kernel=rbf, score=0.500, total=   0.5s\n",
            "[CV] C=0.001, kernel=rbf .............................................\n",
            "[CV] ................. C=0.001, kernel=rbf, score=0.499, total=   0.5s\n",
            "[CV] C=0.001, kernel=rbf .............................................\n",
            "[CV] ................. C=0.001, kernel=rbf, score=0.501, total=   0.5s\n",
            "[CV] C=0.001, kernel=rbf .............................................\n",
            "[CV] ................. C=0.001, kernel=rbf, score=0.501, total=   0.5s\n",
            "[CV] C=0.001, kernel=rbf .............................................\n",
            "[CV] ................. C=0.001, kernel=rbf, score=0.501, total=   0.5s\n",
            "[CV] C=0.001, kernel=poly ............................................\n",
            "[CV] ................ C=0.001, kernel=poly, score=0.500, total=   0.3s\n",
            "[CV] C=0.001, kernel=poly ............................................\n",
            "[CV] ................ C=0.001, kernel=poly, score=0.499, total=   0.3s\n",
            "[CV] C=0.001, kernel=poly ............................................\n",
            "[CV] ................ C=0.001, kernel=poly, score=0.501, total=   0.3s\n",
            "[CV] C=0.001, kernel=poly ............................................\n",
            "[CV] ................ C=0.001, kernel=poly, score=0.501, total=   0.3s\n",
            "[CV] C=0.001, kernel=poly ............................................\n",
            "[CV] ................ C=0.001, kernel=poly, score=0.501, total=   0.3s\n",
            "[CV] C=0.001, kernel=sigmoid .........................................\n",
            "[CV] ............. C=0.001, kernel=sigmoid, score=0.500, total=   0.6s\n",
            "[CV] C=0.001, kernel=sigmoid .........................................\n",
            "[CV] ............. C=0.001, kernel=sigmoid, score=0.499, total=   0.6s\n",
            "[CV] C=0.001, kernel=sigmoid .........................................\n",
            "[CV] ............. C=0.001, kernel=sigmoid, score=0.501, total=   0.6s\n",
            "[CV] C=0.001, kernel=sigmoid .........................................\n",
            "[CV] ............. C=0.001, kernel=sigmoid, score=0.501, total=   0.6s\n",
            "[CV] C=0.001, kernel=sigmoid .........................................\n",
            "[CV] ............. C=0.001, kernel=sigmoid, score=0.501, total=   0.6s\n",
            "[CV] C=0.01, kernel=linear ...........................................\n",
            "[CV] ............... C=0.01, kernel=linear, score=0.704, total=   0.2s\n",
            "[CV] C=0.01, kernel=linear ...........................................\n",
            "[CV] ............... C=0.01, kernel=linear, score=0.690, total=   0.2s\n",
            "[CV] C=0.01, kernel=linear ...........................................\n",
            "[CV] ............... C=0.01, kernel=linear, score=0.693, total=   0.2s\n",
            "[CV] C=0.01, kernel=linear ...........................................\n",
            "[CV] ............... C=0.01, kernel=linear, score=0.697, total=   0.2s\n",
            "[CV] C=0.01, kernel=linear ...........................................\n",
            "[CV] ............... C=0.01, kernel=linear, score=0.730, total=   0.2s\n",
            "[CV] C=0.01, kernel=rbf ..............................................\n",
            "[CV] .................. C=0.01, kernel=rbf, score=0.693, total=   0.4s\n",
            "[CV] C=0.01, kernel=rbf ..............................................\n",
            "[CV] .................. C=0.01, kernel=rbf, score=0.682, total=   0.5s\n",
            "[CV] C=0.01, kernel=rbf ..............................................\n",
            "[CV] .................. C=0.01, kernel=rbf, score=0.657, total=   0.5s\n",
            "[CV] C=0.01, kernel=rbf ..............................................\n",
            "[CV] .................. C=0.01, kernel=rbf, score=0.674, total=   0.5s\n",
            "[CV] C=0.01, kernel=rbf ..............................................\n",
            "[CV] .................. C=0.01, kernel=rbf, score=0.702, total=   0.5s\n",
            "[CV] C=0.01, kernel=poly .............................................\n",
            "[CV] ................. C=0.01, kernel=poly, score=0.660, total=   0.3s\n",
            "[CV] C=0.01, kernel=poly .............................................\n",
            "[CV] ................. C=0.01, kernel=poly, score=0.642, total=   0.3s\n",
            "[CV] C=0.01, kernel=poly .............................................\n",
            "[CV] ................. C=0.01, kernel=poly, score=0.665, total=   0.3s\n",
            "[CV] C=0.01, kernel=poly .............................................\n",
            "[CV] ................. C=0.01, kernel=poly, score=0.677, total=   0.3s\n",
            "[CV] C=0.01, kernel=poly .............................................\n",
            "[CV] ................. C=0.01, kernel=poly, score=0.668, total=   0.3s\n",
            "[CV] C=0.01, kernel=sigmoid ..........................................\n",
            "[CV] .............. C=0.01, kernel=sigmoid, score=0.696, total=   0.5s\n",
            "[CV] C=0.01, kernel=sigmoid ..........................................\n",
            "[CV] .............. C=0.01, kernel=sigmoid, score=0.684, total=   0.5s\n",
            "[CV] C=0.01, kernel=sigmoid ..........................................\n",
            "[CV] .............. C=0.01, kernel=sigmoid, score=0.667, total=   0.5s\n",
            "[CV] C=0.01, kernel=sigmoid ..........................................\n",
            "[CV] .............. C=0.01, kernel=sigmoid, score=0.691, total=   0.5s\n",
            "[CV] C=0.01, kernel=sigmoid ..........................................\n",
            "[CV] .............. C=0.01, kernel=sigmoid, score=0.705, total=   0.5s\n",
            "[CV] C=0.1, kernel=linear ............................................\n",
            "[CV] ................ C=0.1, kernel=linear, score=0.709, total=   0.2s\n",
            "[CV] C=0.1, kernel=linear ............................................\n",
            "[CV] ................ C=0.1, kernel=linear, score=0.693, total=   0.2s\n",
            "[CV] C=0.1, kernel=linear ............................................\n",
            "[CV] ................ C=0.1, kernel=linear, score=0.705, total=   0.2s\n",
            "[CV] C=0.1, kernel=linear ............................................\n",
            "[CV] ................ C=0.1, kernel=linear, score=0.702, total=   0.2s\n",
            "[CV] C=0.1, kernel=linear ............................................\n",
            "[CV] ................ C=0.1, kernel=linear, score=0.734, total=   0.2s\n",
            "[CV] C=0.1, kernel=rbf ...............................................\n",
            "[CV] ................... C=0.1, kernel=rbf, score=0.735, total=   0.3s\n",
            "[CV] C=0.1, kernel=rbf ...............................................\n",
            "[CV] ................... C=0.1, kernel=rbf, score=0.716, total=   0.3s\n",
            "[CV] C=0.1, kernel=rbf ...............................................\n",
            "[CV] ................... C=0.1, kernel=rbf, score=0.708, total=   0.3s\n",
            "[CV] C=0.1, kernel=rbf ...............................................\n",
            "[CV] ................... C=0.1, kernel=rbf, score=0.716, total=   0.3s\n",
            "[CV] C=0.1, kernel=rbf ...............................................\n",
            "[CV] ................... C=0.1, kernel=rbf, score=0.756, total=   0.4s\n",
            "[CV] C=0.1, kernel=poly ..............................................\n",
            "[CV] .................. C=0.1, kernel=poly, score=0.724, total=   0.2s\n",
            "[CV] C=0.1, kernel=poly ..............................................\n",
            "[CV] .................. C=0.1, kernel=poly, score=0.696, total=   0.2s\n",
            "[CV] C=0.1, kernel=poly ..............................................\n",
            "[CV] .................. C=0.1, kernel=poly, score=0.684, total=   0.2s\n",
            "[CV] C=0.1, kernel=poly ..............................................\n",
            "[CV] .................. C=0.1, kernel=poly, score=0.728, total=   0.2s\n",
            "[CV] C=0.1, kernel=poly ..............................................\n",
            "[CV] .................. C=0.1, kernel=poly, score=0.727, total=   0.2s\n",
            "[CV] C=0.1, kernel=sigmoid ...........................................\n",
            "[CV] ............... C=0.1, kernel=sigmoid, score=0.678, total=   0.4s\n",
            "[CV] C=0.1, kernel=sigmoid ...........................................\n",
            "[CV] ............... C=0.1, kernel=sigmoid, score=0.687, total=   0.4s\n",
            "[CV] C=0.1, kernel=sigmoid ...........................................\n",
            "[CV] ............... C=0.1, kernel=sigmoid, score=0.674, total=   0.4s\n",
            "[CV] C=0.1, kernel=sigmoid ...........................................\n",
            "[CV] ............... C=0.1, kernel=sigmoid, score=0.693, total=   0.4s\n",
            "[CV] C=0.1, kernel=sigmoid ...........................................\n",
            "[CV] ............... C=0.1, kernel=sigmoid, score=0.696, total=   0.5s\n",
            "[CV] C=1, kernel=linear ..............................................\n",
            "[CV] .................. C=1, kernel=linear, score=0.709, total=   0.3s\n",
            "[CV] C=1, kernel=linear ..............................................\n",
            "[CV] .................. C=1, kernel=linear, score=0.693, total=   0.3s\n",
            "[CV] C=1, kernel=linear ..............................................\n",
            "[CV] .................. C=1, kernel=linear, score=0.705, total=   0.4s\n",
            "[CV] C=1, kernel=linear ..............................................\n",
            "[CV] .................. C=1, kernel=linear, score=0.704, total=   0.3s\n",
            "[CV] C=1, kernel=linear ..............................................\n",
            "[CV] .................. C=1, kernel=linear, score=0.734, total=   0.3s\n",
            "[CV] C=1, kernel=rbf .................................................\n",
            "[CV] ..................... C=1, kernel=rbf, score=0.767, total=   0.3s\n",
            "[CV] C=1, kernel=rbf .................................................\n",
            "[CV] ..................... C=1, kernel=rbf, score=0.743, total=   0.3s\n",
            "[CV] C=1, kernel=rbf .................................................\n",
            "[CV] ..................... C=1, kernel=rbf, score=0.756, total=   0.3s\n",
            "[CV] C=1, kernel=rbf .................................................\n",
            "[CV] ..................... C=1, kernel=rbf, score=0.754, total=   0.3s\n",
            "[CV] C=1, kernel=rbf .................................................\n",
            "[CV] ..................... C=1, kernel=rbf, score=0.782, total=   0.3s\n",
            "[CV] C=1, kernel=poly ................................................\n",
            "[CV] .................... C=1, kernel=poly, score=0.758, total=   0.2s\n",
            "[CV] C=1, kernel=poly ................................................\n",
            "[CV] .................... C=1, kernel=poly, score=0.724, total=   0.2s\n",
            "[CV] C=1, kernel=poly ................................................\n",
            "[CV] .................... C=1, kernel=poly, score=0.740, total=   0.2s\n",
            "[CV] C=1, kernel=poly ................................................\n",
            "[CV] .................... C=1, kernel=poly, score=0.763, total=   0.2s\n",
            "[CV] C=1, kernel=poly ................................................\n",
            "[CV] .................... C=1, kernel=poly, score=0.757, total=   0.2s\n",
            "[CV] C=1, kernel=sigmoid .............................................\n",
            "[CV] ................. C=1, kernel=sigmoid, score=0.590, total=   0.4s\n",
            "[CV] C=1, kernel=sigmoid .............................................\n",
            "[CV] ................. C=1, kernel=sigmoid, score=0.587, total=   0.4s\n",
            "[CV] C=1, kernel=sigmoid .............................................\n",
            "[CV] ................. C=1, kernel=sigmoid, score=0.575, total=   0.4s\n",
            "[CV] C=1, kernel=sigmoid .............................................\n",
            "[CV] ................. C=1, kernel=sigmoid, score=0.593, total=   0.4s\n",
            "[CV] C=1, kernel=sigmoid .............................................\n",
            "[CV] ................. C=1, kernel=sigmoid, score=0.622, total=   0.4s\n",
            "[CV] C=10, kernel=linear .............................................\n",
            "[CV] ................. C=10, kernel=linear, score=0.709, total=   1.0s\n",
            "[CV] C=10, kernel=linear .............................................\n",
            "[CV] ................. C=10, kernel=linear, score=0.693, total=   1.0s\n",
            "[CV] C=10, kernel=linear .............................................\n",
            "[CV] ................. C=10, kernel=linear, score=0.705, total=   1.0s\n",
            "[CV] C=10, kernel=linear .............................................\n",
            "[CV] ................. C=10, kernel=linear, score=0.705, total=   1.0s\n",
            "[CV] C=10, kernel=linear .............................................\n",
            "[CV] ................. C=10, kernel=linear, score=0.734, total=   1.0s\n",
            "[CV] C=10, kernel=rbf ................................................\n",
            "[CV] .................... C=10, kernel=rbf, score=0.721, total=   0.4s\n",
            "[CV] C=10, kernel=rbf ................................................\n",
            "[CV] .................... C=10, kernel=rbf, score=0.722, total=   0.4s\n",
            "[CV] C=10, kernel=rbf ................................................\n",
            "[CV] .................... C=10, kernel=rbf, score=0.743, total=   0.4s\n",
            "[CV] C=10, kernel=rbf ................................................\n",
            "[CV] .................... C=10, kernel=rbf, score=0.748, total=   0.4s\n",
            "[CV] C=10, kernel=rbf ................................................\n",
            "[CV] .................... C=10, kernel=rbf, score=0.771, total=   0.4s\n",
            "[CV] C=10, kernel=poly ...............................................\n",
            "[CV] ................... C=10, kernel=poly, score=0.750, total=   0.4s\n",
            "[CV] C=10, kernel=poly ...............................................\n",
            "[CV] ................... C=10, kernel=poly, score=0.717, total=   0.4s\n",
            "[CV] C=10, kernel=poly ...............................................\n",
            "[CV] ................... C=10, kernel=poly, score=0.753, total=   0.5s\n",
            "[CV] C=10, kernel=poly ...............................................\n",
            "[CV] ................... C=10, kernel=poly, score=0.762, total=   0.6s\n",
            "[CV] C=10, kernel=poly ...............................................\n",
            "[CV] ................... C=10, kernel=poly, score=0.788, total=   0.5s\n",
            "[CV] C=10, kernel=sigmoid ............................................\n",
            "[CV] ................ C=10, kernel=sigmoid, score=0.578, total=   0.4s\n",
            "[CV] C=10, kernel=sigmoid ............................................\n",
            "[CV] ................ C=10, kernel=sigmoid, score=0.581, total=   0.3s\n",
            "[CV] C=10, kernel=sigmoid ............................................\n",
            "[CV] ................ C=10, kernel=sigmoid, score=0.562, total=   0.3s\n",
            "[CV] C=10, kernel=sigmoid ............................................\n",
            "[CV] ................ C=10, kernel=sigmoid, score=0.601, total=   0.4s\n",
            "[CV] C=10, kernel=sigmoid ............................................\n",
            "[CV] ................ C=10, kernel=sigmoid, score=0.539, total=   0.4s\n"
          ],
          "name": "stdout"
        },
        {
          "output_type": "stream",
          "text": [
            "[Parallel(n_jobs=1)]: Done 120 out of 120 | elapsed:   45.4s finished\n"
          ],
          "name": "stderr"
        }
      ]
    },
    {
      "cell_type": "code",
      "metadata": {
        "colab": {
          "base_uri": "https://localhost:8080/"
        },
        "id": "BtxxPPADW83M",
        "outputId": "1f2ee788-41b4-4585-a283-dfa492205322"
      },
      "source": [
        "print(best_svm)"
      ],
      "execution_count": 378,
      "outputs": [
        {
          "output_type": "stream",
          "text": [
            "SVC(C=1, break_ties=False, cache_size=200, class_weight=None, coef0=0.0,\n",
            "    decision_function_shape='ovr', degree=3, gamma='scale', kernel='rbf',\n",
            "    max_iter=-1, probability=False, random_state=None, shrinking=True,\n",
            "    tol=0.001, verbose=False)\n"
          ],
          "name": "stdout"
        }
      ]
    },
    {
      "cell_type": "code",
      "metadata": {
        "colab": {
          "base_uri": "https://localhost:8080/"
        },
        "id": "6bGVh1GuZA-v",
        "outputId": "7a80f9d7-5bbc-4b46-ff3a-b7ffeb0a98f1"
      },
      "source": [
        "best_svm.fit(x_train, y_train)\n",
        "print(best_svm.score(x_test, y_test))"
      ],
      "execution_count": 379,
      "outputs": [
        {
          "output_type": "stream",
          "text": [
            "0.7799511002444988\n"
          ],
          "name": "stdout"
        }
      ]
    },
    {
      "cell_type": "code",
      "metadata": {
        "colab": {
          "base_uri": "https://localhost:8080/"
        },
        "id": "NQPDb2v7-yzS",
        "outputId": "83b6588b-093a-4e5f-a013-5d2ba4b1829e"
      },
      "source": [
        "from sklearn.metrics import roc_auc_score   #AUC olur mu\n",
        "print(roc_auc_score(y_test, best_svm.decision_function(x_test)))"
      ],
      "execution_count": 380,
      "outputs": [
        {
          "output_type": "stream",
          "text": [
            "0.8672166427546628\n"
          ],
          "name": "stdout"
        }
      ]
    },
    {
      "cell_type": "code",
      "metadata": {
        "id": "8VKMnGSUaV8d",
        "colab": {
          "base_uri": "https://localhost:8080/",
          "height": 296
        },
        "outputId": "3c999a2a-33c1-48df-fd45-96fac9246fd0"
      },
      "source": [
        "metrics.plot_roc_curve(best_svm, x_test, y_test)  "
      ],
      "execution_count": 381,
      "outputs": [
        {
          "output_type": "execute_result",
          "data": {
            "text/plain": [
              "<sklearn.metrics._plot.roc_curve.RocCurveDisplay at 0x7fbfe7c06b10>"
            ]
          },
          "metadata": {
            "tags": []
          },
          "execution_count": 381
        },
        {
          "output_type": "display_data",
          "data": {
            "image/png": "[encoded data removed]",
            "text/plain": [
              "<Figure size 432x288 with 1 Axes>"
            ]
          },
          "metadata": {
            "tags": [],
            "needs_background": "light"
          }
        }
      ]
    },
    {
      "cell_type": "code",
      "metadata": {
        "id": "w_7gUcjbHazr",
        "colab": {
          "base_uri": "https://localhost:8080/"
        },
        "outputId": "10c1a430-cd35-45bc-d1f2-7289d0f0a67c"
      },
      "source": [
        "from sklearn.metrics import accuracy_score, f1_score, precision_score, recall_score, classification_report, confusion_matrix\n",
        "\n",
        "prediction = best_svm.predict(x_test)             \n",
        "\n",
        "print('Accuracy:', accuracy_score(y_test, prediction))\n",
        "print('F1 score:', f1_score(y_test, prediction))\n",
        "print('Recall:', recall_score(y_test, prediction))\n",
        "print('Precision:', precision_score(y_test, prediction))\n",
        "print('\\n clasification report:\\n', classification_report(y_test,prediction))\n",
        "print('\\n confussion matrix:\\n',confusion_matrix(y_test, prediction))"
      ],
      "execution_count": 382,
      "outputs": [
        {
          "output_type": "stream",
          "text": [
            "Accuracy: 0.7799511002444988\n",
            "F1 score: 0.7686375321336761\n",
            "Recall: 0.7292682926829268\n",
            "Precision: 0.8125\n",
            "\n",
            " clasification report:\n",
            "               precision    recall  f1-score   support\n",
            "\n",
            "           0       0.75      0.83      0.79       408\n",
            "           1       0.81      0.73      0.77       410\n",
            "\n",
            "    accuracy                           0.78       818\n",
            "   macro avg       0.78      0.78      0.78       818\n",
            "weighted avg       0.78      0.78      0.78       818\n",
            "\n",
            "\n",
            " confussion matrix:\n",
            " [[339  69]\n",
            " [111 299]]\n"
          ],
          "name": "stdout"
        }
      ]
    },
    {
      "cell_type": "markdown",
      "metadata": {
        "id": "HytHHvSD29H8"
      },
      "source": [
        "## Linear Svm"
      ]
    },
    {
      "cell_type": "code",
      "metadata": {
        "id": "eKhriL61xhOv"
      },
      "source": [
        "from sklearn import svm\n",
        "\n",
        "model_svm_lin= svm.SVC() "
      ],
      "execution_count": 383,
      "outputs": []
    },
    {
      "cell_type": "code",
      "metadata": {
        "colab": {
          "base_uri": "https://localhost:8080/"
        },
        "id": "nBiEViDPzR1h",
        "outputId": "f12aa80e-74f4-4e0b-ed7c-83f05e7c24e4"
      },
      "source": [
        "from sklearn.model_selection import GridSearchCV\n",
        "parameters = {'kernel':['linear',], 'C':[0.0001, 0.001, 0.01, 0.1, 1, 10]} \n",
        "grid = GridSearchCV(model_svm_lin, parameters, n_jobs=1, verbose=3)   #5fold+gridsearch\n",
        "grid.fit(x_train, y_train)\n",
        "best_svm_lin= grid.best_estimator_"
      ],
      "execution_count": 384,
      "outputs": [
        {
          "output_type": "stream",
          "text": [
            "Fitting 5 folds for each of 6 candidates, totalling 30 fits\n",
            "[CV] C=0.0001, kernel=linear .........................................\n"
          ],
          "name": "stdout"
        },
        {
          "output_type": "stream",
          "text": [
            "[Parallel(n_jobs=1)]: Using backend SequentialBackend with 1 concurrent workers.\n"
          ],
          "name": "stderr"
        },
        {
          "output_type": "stream",
          "text": [
            "[CV] ............. C=0.0001, kernel=linear, score=0.500, total=   0.3s\n",
            "[CV] C=0.0001, kernel=linear .........................................\n"
          ],
          "name": "stdout"
        },
        {
          "output_type": "stream",
          "text": [
            "[Parallel(n_jobs=1)]: Done   1 out of   1 | elapsed:    0.3s remaining:    0.0s\n"
          ],
          "name": "stderr"
        },
        {
          "output_type": "stream",
          "text": [
            "[CV] ............. C=0.0001, kernel=linear, score=0.499, total=   0.2s\n",
            "[CV] C=0.0001, kernel=linear .........................................\n"
          ],
          "name": "stdout"
        },
        {
          "output_type": "stream",
          "text": [
            "[Parallel(n_jobs=1)]: Done   2 out of   2 | elapsed:    0.5s remaining:    0.0s\n"
          ],
          "name": "stderr"
        },
        {
          "output_type": "stream",
          "text": [
            "[CV] ............. C=0.0001, kernel=linear, score=0.501, total=   0.2s\n",
            "[CV] C=0.0001, kernel=linear .........................................\n",
            "[CV] ............. C=0.0001, kernel=linear, score=0.501, total=   0.2s\n",
            "[CV] C=0.0001, kernel=linear .........................................\n",
            "[CV] ............. C=0.0001, kernel=linear, score=0.501, total=   0.2s\n",
            "[CV] C=0.001, kernel=linear ..........................................\n",
            "[CV] .............. C=0.001, kernel=linear, score=0.712, total=   0.2s\n",
            "[CV] C=0.001, kernel=linear ..........................................\n",
            "[CV] .............. C=0.001, kernel=linear, score=0.684, total=   0.2s\n",
            "[CV] C=0.001, kernel=linear ..........................................\n",
            "[CV] .............. C=0.001, kernel=linear, score=0.679, total=   0.2s\n",
            "[CV] C=0.001, kernel=linear ..........................................\n",
            "[CV] .............. C=0.001, kernel=linear, score=0.699, total=   0.2s\n",
            "[CV] C=0.001, kernel=linear ..........................................\n",
            "[CV] .............. C=0.001, kernel=linear, score=0.704, total=   0.2s\n",
            "[CV] C=0.01, kernel=linear ...........................................\n",
            "[CV] ............... C=0.01, kernel=linear, score=0.704, total=   0.2s\n",
            "[CV] C=0.01, kernel=linear ...........................................\n",
            "[CV] ............... C=0.01, kernel=linear, score=0.690, total=   0.2s\n",
            "[CV] C=0.01, kernel=linear ...........................................\n",
            "[CV] ............... C=0.01, kernel=linear, score=0.693, total=   0.2s\n",
            "[CV] C=0.01, kernel=linear ...........................................\n",
            "[CV] ............... C=0.01, kernel=linear, score=0.697, total=   0.2s\n",
            "[CV] C=0.01, kernel=linear ...........................................\n",
            "[CV] ............... C=0.01, kernel=linear, score=0.730, total=   0.2s\n",
            "[CV] C=0.1, kernel=linear ............................................\n",
            "[CV] ................ C=0.1, kernel=linear, score=0.709, total=   0.2s\n",
            "[CV] C=0.1, kernel=linear ............................................\n",
            "[CV] ................ C=0.1, kernel=linear, score=0.693, total=   0.2s\n",
            "[CV] C=0.1, kernel=linear ............................................\n",
            "[CV] ................ C=0.1, kernel=linear, score=0.705, total=   0.2s\n",
            "[CV] C=0.1, kernel=linear ............................................\n",
            "[CV] ................ C=0.1, kernel=linear, score=0.702, total=   0.2s\n",
            "[CV] C=0.1, kernel=linear ............................................\n",
            "[CV] ................ C=0.1, kernel=linear, score=0.734, total=   0.2s\n",
            "[CV] C=1, kernel=linear ..............................................\n",
            "[CV] .................. C=1, kernel=linear, score=0.709, total=   0.3s\n",
            "[CV] C=1, kernel=linear ..............................................\n",
            "[CV] .................. C=1, kernel=linear, score=0.693, total=   0.3s\n",
            "[CV] C=1, kernel=linear ..............................................\n",
            "[CV] .................. C=1, kernel=linear, score=0.705, total=   0.3s\n",
            "[CV] C=1, kernel=linear ..............................................\n",
            "[CV] .................. C=1, kernel=linear, score=0.704, total=   0.3s\n",
            "[CV] C=1, kernel=linear ..............................................\n",
            "[CV] .................. C=1, kernel=linear, score=0.734, total=   0.3s\n",
            "[CV] C=10, kernel=linear .............................................\n",
            "[CV] ................. C=10, kernel=linear, score=0.709, total=   1.0s\n",
            "[CV] C=10, kernel=linear .............................................\n",
            "[CV] ................. C=10, kernel=linear, score=0.693, total=   1.0s\n",
            "[CV] C=10, kernel=linear .............................................\n",
            "[CV] ................. C=10, kernel=linear, score=0.705, total=   1.0s\n",
            "[CV] C=10, kernel=linear .............................................\n",
            "[CV] ................. C=10, kernel=linear, score=0.705, total=   1.0s\n",
            "[CV] C=10, kernel=linear .............................................\n",
            "[CV] ................. C=10, kernel=linear, score=0.734, total=   1.0s\n"
          ],
          "name": "stdout"
        },
        {
          "output_type": "stream",
          "text": [
            "[Parallel(n_jobs=1)]: Done  30 out of  30 | elapsed:   10.5s finished\n"
          ],
          "name": "stderr"
        }
      ]
    },
    {
      "cell_type": "code",
      "metadata": {
        "colab": {
          "base_uri": "https://localhost:8080/"
        },
        "id": "_gA-GqORz19u",
        "outputId": "b8ec315a-c74f-4855-b24e-f164e85bf40a"
      },
      "source": [
        "print(best_svm_lin)"
      ],
      "execution_count": 385,
      "outputs": [
        {
          "output_type": "stream",
          "text": [
            "SVC(C=10, break_ties=False, cache_size=200, class_weight=None, coef0=0.0,\n",
            "    decision_function_shape='ovr', degree=3, gamma='scale', kernel='linear',\n",
            "    max_iter=-1, probability=False, random_state=None, shrinking=True,\n",
            "    tol=0.001, verbose=False)\n"
          ],
          "name": "stdout"
        }
      ]
    },
    {
      "cell_type": "code",
      "metadata": {
        "colab": {
          "base_uri": "https://localhost:8080/"
        },
        "id": "zNJFz2i10Zn9",
        "outputId": "90c6d822-07ab-4b0b-e47b-b3c231c0d275"
      },
      "source": [
        "best_svm_lin.fit(x_train, y_train)\n",
        "print(best_svm_lin.score(x_test, y_test))"
      ],
      "execution_count": 386,
      "outputs": [
        {
          "output_type": "stream",
          "text": [
            "0.7212713936430318\n"
          ],
          "name": "stdout"
        }
      ]
    },
    {
      "cell_type": "code",
      "metadata": {
        "colab": {
          "base_uri": "https://localhost:8080/"
        },
        "id": "lX78U1VfviTw",
        "outputId": "95d72a7d-e566-43d1-b584-9364f103c391"
      },
      "source": [
        "from sklearn.metrics import accuracy_score, f1_score, precision_score, recall_score, classification_report, confusion_matrix\n",
        "\n",
        "prediction = best_svm_lin.predict(x_test)             \n",
        "\n",
        "print('Accuracy:', accuracy_score(y_test, prediction))\n",
        "print('F1 score:', f1_score(y_test, prediction))\n",
        "print('Recall:', recall_score(y_test, prediction))\n",
        "print('Precision:', precision_score(y_test, prediction))\n",
        "print('\\n clasification report:\\n', classification_report(y_test,prediction))\n",
        "print('\\n confussion matrix:\\n',confusion_matrix(y_test, prediction))"
      ],
      "execution_count": 387,
      "outputs": [
        {
          "output_type": "stream",
          "text": [
            "Accuracy: 0.7212713936430318\n",
            "F1 score: 0.715\n",
            "Recall: 0.697560975609756\n",
            "Precision: 0.7333333333333333\n",
            "\n",
            " clasification report:\n",
            "               precision    recall  f1-score   support\n",
            "\n",
            "           0       0.71      0.75      0.73       408\n",
            "           1       0.73      0.70      0.71       410\n",
            "\n",
            "    accuracy                           0.72       818\n",
            "   macro avg       0.72      0.72      0.72       818\n",
            "weighted avg       0.72      0.72      0.72       818\n",
            "\n",
            "\n",
            " confussion matrix:\n",
            " [[304 104]\n",
            " [124 286]]\n"
          ],
          "name": "stdout"
        }
      ]
    },
    {
      "cell_type": "markdown",
      "metadata": {
        "id": "B0efcjew2t6Y"
      },
      "source": [
        "###LOGISTIC REGRESSION"
      ]
    },
    {
      "cell_type": "code",
      "metadata": {
        "id": "4Rrou4Rl215P"
      },
      "source": [
        "from sklearn.linear_model import LogisticRegression"
      ],
      "execution_count": 388,
      "outputs": []
    },
    {
      "cell_type": "code",
      "metadata": {
        "id": "xqBR9jBUGXFI"
      },
      "source": [
        "model_lr = LogisticRegression()   "
      ],
      "execution_count": 389,
      "outputs": []
    },
    {
      "cell_type": "code",
      "metadata": {
        "colab": {
          "base_uri": "https://localhost:8080/"
        },
        "id": "zCg1AgalbWQy",
        "outputId": "c4b9c0b5-8c49-4f2a-fdc5-5a78d1f687bc"
      },
      "source": [
        "from sklearn.model_selection import GridSearchCV\n",
        "parameters = {'penalty':['l1','l2'], 'C':[0.001, 0.01, 0.1, 1, 10]} \n",
        "grid_lr = GridSearchCV(model_lr, parameters, n_jobs=1, verbose=3)   #5fold+gridsearch\n",
        "grid_lr.fit(x_train, y_train)\n",
        "best_lr = grid_lr.best_estimator_\n",
        "print(best_lr)"
      ],
      "execution_count": 390,
      "outputs": [
        {
          "output_type": "stream",
          "text": [
            "Fitting 5 folds for each of 10 candidates, totalling 50 fits\n",
            "[CV] C=0.001, penalty=l1 .............................................\n",
            "[CV] ................... C=0.001, penalty=l1, score=nan, total=   0.0s\n",
            "[CV] C=0.001, penalty=l1 .............................................\n",
            "[CV] ................... C=0.001, penalty=l1, score=nan, total=   0.0s\n",
            "[CV] C=0.001, penalty=l1 .............................................\n",
            "[CV] ................... C=0.001, penalty=l1, score=nan, total=   0.0s\n",
            "[CV] C=0.001, penalty=l1 .............................................\n",
            "[CV] ................... C=0.001, penalty=l1, score=nan, total=   0.0s\n",
            "[CV] C=0.001, penalty=l1 .............................................\n",
            "[CV] ................... C=0.001, penalty=l1, score=nan, total=   0.0s\n",
            "[CV] C=0.001, penalty=l2 .............................................\n",
            "[CV] ................. C=0.001, penalty=l2, score=0.718, total=   0.0s\n",
            "[CV] C=0.001, penalty=l2 .............................................\n",
            "[CV] ................. C=0.001, penalty=l2, score=0.682, total=   0.0s\n",
            "[CV] C=0.001, penalty=l2 .............................................\n",
            "[CV] ................. C=0.001, penalty=l2, score=0.679, total=   0.0s\n",
            "[CV] C=0.001, penalty=l2 .............................................\n",
            "[CV] ................. C=0.001, penalty=l2, score=0.690, total=   0.0s\n",
            "[CV] C=0.001, penalty=l2 .............................................\n",
            "[CV] ................. C=0.001, penalty=l2, score=0.702, total=   0.0s\n",
            "[CV] C=0.01, penalty=l1 ..............................................\n",
            "[CV] .................... C=0.01, penalty=l1, score=nan, total=   0.0s\n",
            "[CV] C=0.01, penalty=l1 ..............................................\n",
            "[CV] .................... C=0.01, penalty=l1, score=nan, total=   0.0s\n",
            "[CV] C=0.01, penalty=l1 ..............................................\n",
            "[CV] .................... C=0.01, penalty=l1, score=nan, total=   0.0s\n",
            "[CV] C=0.01, penalty=l1 ..............................................\n",
            "[CV] .................... C=0.01, penalty=l1, score=nan, total=   0.0s\n",
            "[CV] C=0.01, penalty=l1 ..............................................\n",
            "[CV] .................... C=0.01, penalty=l1, score=nan, total=   0.0s\n",
            "[CV] C=0.01, penalty=l2 ..............................................\n",
            "[CV] .................. C=0.01, penalty=l2, score=0.713, total=   0.0s\n",
            "[CV] C=0.01, penalty=l2 ..............................................\n",
            "[CV] .................. C=0.01, penalty=l2, score=0.684, total=   0.0s\n",
            "[CV] C=0.01, penalty=l2 ..............................................\n",
            "[CV] .................. C=0.01, penalty=l2, score=0.693, total=   0.0s\n",
            "[CV] C=0.01, penalty=l2 ..............................................\n",
            "[CV] .................. C=0.01, penalty=l2, score=0.690, total=   0.0s\n",
            "[CV] C=0.01, penalty=l2 ..............................................\n",
            "[CV] .................. C=0.01, penalty=l2, score=0.728, total=   0.0s\n",
            "[CV] C=0.1, penalty=l1 ...............................................\n",
            "[CV] ..................... C=0.1, penalty=l1, score=nan, total=   0.0s\n",
            "[CV] C=0.1, penalty=l1 ...............................................\n",
            "[CV] ..................... C=0.1, penalty=l1, score=nan, total=   0.0s\n",
            "[CV] C=0.1, penalty=l1 ...............................................\n",
            "[CV] ..................... C=0.1, penalty=l1, score=nan, total=   0.0s\n",
            "[CV] C=0.1, penalty=l1 ...............................................\n",
            "[CV] ..................... C=0.1, penalty=l1, score=nan, total=   0.0s\n",
            "[CV] C=0.1, penalty=l1 ...............................................\n",
            "[CV] ..................... C=0.1, penalty=l1, score=nan, total=   0.0s\n",
            "[CV] C=0.1, penalty=l2 ...............................................\n",
            "[CV] ................... C=0.1, penalty=l2, score=0.702, total=   0.0s\n",
            "[CV] C=0.1, penalty=l2 ...............................................\n",
            "[CV] ................... C=0.1, penalty=l2, score=0.691, total=   0.0s\n",
            "[CV] C=0.1, penalty=l2 ...............................................\n",
            "[CV] ................... C=0.1, penalty=l2, score=0.696, total=   0.0s\n",
            "[CV] C=0.1, penalty=l2 ...............................................\n"
          ],
          "name": "stdout"
        },
        {
          "output_type": "stream",
          "text": [
            "[Parallel(n_jobs=1)]: Using backend SequentialBackend with 1 concurrent workers.\n",
            "/usr/local/lib/python3.7/dist-packages/sklearn/model_selection/_validation.py:536: FitFailedWarning: Estimator fit failed. The score on this train-test partition for these parameters will be set to nan. Details: \n",
            "ValueError: Solver lbfgs supports only 'l2' or 'none' penalties, got l1 penalty.\n",
            "\n",
            "  FitFailedWarning)\n",
            "[Parallel(n_jobs=1)]: Done   1 out of   1 | elapsed:    0.0s remaining:    0.0s\n",
            "[Parallel(n_jobs=1)]: Done   2 out of   2 | elapsed:    0.0s remaining:    0.0s\n",
            "/usr/local/lib/python3.7/dist-packages/sklearn/model_selection/_validation.py:536: FitFailedWarning: Estimator fit failed. The score on this train-test partition for these parameters will be set to nan. Details: \n",
            "ValueError: Solver lbfgs supports only 'l2' or 'none' penalties, got l1 penalty.\n",
            "\n",
            "  FitFailedWarning)\n",
            "/usr/local/lib/python3.7/dist-packages/sklearn/model_selection/_validation.py:536: FitFailedWarning: Estimator fit failed. The score on this train-test partition for these parameters will be set to nan. Details: \n",
            "ValueError: Solver lbfgs supports only 'l2' or 'none' penalties, got l1 penalty.\n",
            "\n",
            "  FitFailedWarning)\n"
          ],
          "name": "stderr"
        },
        {
          "output_type": "stream",
          "text": [
            "[CV] ................... C=0.1, penalty=l2, score=0.691, total=   0.0s\n",
            "[CV] C=0.1, penalty=l2 ...............................................\n",
            "[CV] ................... C=0.1, penalty=l2, score=0.728, total=   0.0s\n",
            "[CV] C=1, penalty=l1 .................................................\n",
            "[CV] ....................... C=1, penalty=l1, score=nan, total=   0.0s\n",
            "[CV] C=1, penalty=l1 .................................................\n",
            "[CV] ....................... C=1, penalty=l1, score=nan, total=   0.0s\n",
            "[CV] C=1, penalty=l1 .................................................\n",
            "[CV] ....................... C=1, penalty=l1, score=nan, total=   0.0s\n",
            "[CV] C=1, penalty=l1 .................................................\n",
            "[CV] ....................... C=1, penalty=l1, score=nan, total=   0.0s\n",
            "[CV] C=1, penalty=l1 .................................................\n",
            "[CV] ....................... C=1, penalty=l1, score=nan, total=   0.0s\n",
            "[CV] C=1, penalty=l2 .................................................\n",
            "[CV] ..................... C=1, penalty=l2, score=0.701, total=   0.0s\n",
            "[CV] C=1, penalty=l2 .................................................\n",
            "[CV] ..................... C=1, penalty=l2, score=0.691, total=   0.0s\n",
            "[CV] C=1, penalty=l2 .................................................\n",
            "[CV] ..................... C=1, penalty=l2, score=0.696, total=   0.0s\n",
            "[CV] C=1, penalty=l2 .................................................\n",
            "[CV] ..................... C=1, penalty=l2, score=0.691, total=   0.0s\n",
            "[CV] C=1, penalty=l2 .................................................\n",
            "[CV] ..................... C=1, penalty=l2, score=0.728, total=   0.0s\n",
            "[CV] C=10, penalty=l1 ................................................\n",
            "[CV] ...................... C=10, penalty=l1, score=nan, total=   0.0s\n",
            "[CV] C=10, penalty=l1 ................................................\n",
            "[CV] ...................... C=10, penalty=l1, score=nan, total=   0.0s\n",
            "[CV] C=10, penalty=l1 ................................................\n",
            "[CV] ...................... C=10, penalty=l1, score=nan, total=   0.0s\n",
            "[CV] C=10, penalty=l1 ................................................\n",
            "[CV] ...................... C=10, penalty=l1, score=nan, total=   0.0s\n",
            "[CV] C=10, penalty=l1 ................................................\n",
            "[CV] ...................... C=10, penalty=l1, score=nan, total=   0.0s\n",
            "[CV] C=10, penalty=l2 ................................................\n",
            "[CV] .................... C=10, penalty=l2, score=0.701, total=   0.0s\n",
            "[CV] C=10, penalty=l2 ................................................\n",
            "[CV] .................... C=10, penalty=l2, score=0.691, total=   0.0s\n",
            "[CV] C=10, penalty=l2 ................................................\n",
            "[CV] .................... C=10, penalty=l2, score=0.696, total=   0.0s\n",
            "[CV] C=10, penalty=l2 ................................................\n",
            "[CV] .................... C=10, penalty=l2, score=0.691, total=   0.0s\n",
            "[CV] C=10, penalty=l2 ................................................\n",
            "[CV] .................... C=10, penalty=l2, score=0.728, total=   0.0s\n",
            "LogisticRegression(C=0.1, class_weight=None, dual=False, fit_intercept=True,\n",
            "                   intercept_scaling=1, l1_ratio=None, max_iter=100,\n",
            "                   multi_class='auto', n_jobs=None, penalty='l2',\n",
            "                   random_state=None, solver='lbfgs', tol=0.0001, verbose=0,\n",
            "                   warm_start=False)\n"
          ],
          "name": "stdout"
        },
        {
          "output_type": "stream",
          "text": [
            "/usr/local/lib/python3.7/dist-packages/sklearn/model_selection/_validation.py:536: FitFailedWarning: Estimator fit failed. The score on this train-test partition for these parameters will be set to nan. Details: \n",
            "ValueError: Solver lbfgs supports only 'l2' or 'none' penalties, got l1 penalty.\n",
            "\n",
            "  FitFailedWarning)\n",
            "/usr/local/lib/python3.7/dist-packages/sklearn/model_selection/_validation.py:536: FitFailedWarning: Estimator fit failed. The score on this train-test partition for these parameters will be set to nan. Details: \n",
            "ValueError: Solver lbfgs supports only 'l2' or 'none' penalties, got l1 penalty.\n",
            "\n",
            "  FitFailedWarning)\n",
            "[Parallel(n_jobs=1)]: Done  50 out of  50 | elapsed:    0.4s finished\n"
          ],
          "name": "stderr"
        }
      ]
    },
    {
      "cell_type": "code",
      "metadata": {
        "colab": {
          "base_uri": "https://localhost:8080/"
        },
        "id": "TF-FY-X6m6nI",
        "outputId": "3920474d-e175-427f-e3b9-12fe4fd243ce"
      },
      "source": [
        "best_lr.fit(x_train, y_train)\n",
        "print(best_lr.score(x_test, y_test)) "
      ],
      "execution_count": 391,
      "outputs": [
        {
          "output_type": "stream",
          "text": [
            "0.7029339853300733\n"
          ],
          "name": "stdout"
        }
      ]
    },
    {
      "cell_type": "code",
      "metadata": {
        "colab": {
          "base_uri": "https://localhost:8080/"
        },
        "id": "_TVb6AYlimIA",
        "outputId": "716e3ded-aca7-4213-b94e-d1f3b8189488"
      },
      "source": [
        "from sklearn.metrics import roc_auc_score \n",
        "print(roc_auc_score(y_test, best_lr.predict_proba(x_test)[:, 1]))\n",
        "print(roc_auc_score(y_test, best_lr.decision_function(x_test)))"
      ],
      "execution_count": 392,
      "outputs": [
        {
          "output_type": "stream",
          "text": [
            "0.7734576757532281\n",
            "0.7734576757532281\n"
          ],
          "name": "stdout"
        }
      ]
    },
    {
      "cell_type": "code",
      "metadata": {
        "colab": {
          "base_uri": "https://localhost:8080/",
          "height": 296
        },
        "id": "UsJtxe7D8IPg",
        "outputId": "1eaf45c1-2dae-454a-9f15-4f625292f1f7"
      },
      "source": [
        "import matplotlib.pyplot as plt  \n",
        "from sklearn import metrics\n",
        "metrics.plot_roc_curve(best_lr, x_test, y_test)  \n"
      ],
      "execution_count": 393,
      "outputs": [
        {
          "output_type": "execute_result",
          "data": {
            "text/plain": [
              "<sklearn.metrics._plot.roc_curve.RocCurveDisplay at 0x7fbfe73d3550>"
            ]
          },
          "metadata": {
            "tags": []
          },
          "execution_count": 393
        },
        {
          "output_type": "display_data",
          "data": {
            "image/png": "[encoded data removed]",
            "text/plain": [
              "<Figure size 432x288 with 1 Axes>"
            ]
          },
          "metadata": {
            "tags": [],
            "needs_background": "light"
          }
        }
      ]
    },
    {
      "cell_type": "code",
      "metadata": {
        "colab": {
          "base_uri": "https://localhost:8080/"
        },
        "id": "hAqrO0o3Ce0_",
        "outputId": "d92e2cb5-223c-4f25-f707-b319b67cb784"
      },
      "source": [
        "prediction_lr = best_lr.predict(x_test)             \n",
        "\n",
        "print('Accuracy:', accuracy_score(y_test, prediction_lr))\n",
        "print('F1 score:', f1_score(y_test, prediction_lr))\n",
        "print('Recall:', recall_score(y_test, prediction_lr))\n",
        "print('Precision:', precision_score(y_test, prediction_lr))\n",
        "print('\\n clasification report:\\n', classification_report(y_test,prediction_lr))\n",
        "print('\\n confussion matrix:\\n',confusion_matrix(y_test, prediction_lr))"
      ],
      "execution_count": 394,
      "outputs": [
        {
          "output_type": "stream",
          "text": [
            "Accuracy: 0.7029339853300733\n",
            "F1 score: 0.6973848069738481\n",
            "Recall: 0.6829268292682927\n",
            "Precision: 0.712468193384224\n",
            "\n",
            " clasification report:\n",
            "               precision    recall  f1-score   support\n",
            "\n",
            "           0       0.69      0.72      0.71       408\n",
            "           1       0.71      0.68      0.70       410\n",
            "\n",
            "    accuracy                           0.70       818\n",
            "   macro avg       0.70      0.70      0.70       818\n",
            "weighted avg       0.70      0.70      0.70       818\n",
            "\n",
            "\n",
            " confussion matrix:\n",
            " [[295 113]\n",
            " [130 280]]\n"
          ],
          "name": "stdout"
        }
      ]
    },
    {
      "cell_type": "markdown",
      "metadata": {
        "id": "q37uTuQu22CA"
      },
      "source": [
        "###DECISION TREE"
      ]
    },
    {
      "cell_type": "code",
      "metadata": {
        "id": "PCRY4DuBGwo6"
      },
      "source": [
        "from sklearn import tree"
      ],
      "execution_count": 395,
      "outputs": []
    },
    {
      "cell_type": "code",
      "metadata": {
        "id": "OXQtpZj4G-9R"
      },
      "source": [
        "model_dt = tree.DecisionTreeClassifier()"
      ],
      "execution_count": 396,
      "outputs": []
    },
    {
      "cell_type": "code",
      "metadata": {
        "colab": {
          "base_uri": "https://localhost:8080/"
        },
        "id": "7wORcCMXnG9_",
        "outputId": "8a8ef0a0-37a8-4a28-b4ab-bbd3b9b9bd28"
      },
      "source": [
        "from sklearn.model_selection import GridSearchCV\n",
        "parameters = {'criterion':['gini','entropy'],'splitter':['best', 'random'], 'max_depth':[3, 5, 7, None]} \n",
        "grid_dt = GridSearchCV(model_dt, parameters, n_jobs=1, verbose=3)   #5fold+gridsearch\n",
        "grid_dt.fit(x_train, y_train)\n",
        "best_dt = grid_dt.best_estimator_\n",
        "print(best_dt)"
      ],
      "execution_count": 397,
      "outputs": [
        {
          "output_type": "stream",
          "text": [
            "Fitting 5 folds for each of 16 candidates, totalling 80 fits\n",
            "[CV] criterion=gini, max_depth=3, splitter=best ......................\n",
            "[CV]  criterion=gini, max_depth=3, splitter=best, score=0.686, total=   0.0s\n",
            "[CV] criterion=gini, max_depth=3, splitter=best ......................\n",
            "[CV]  criterion=gini, max_depth=3, splitter=best, score=0.728, total=   0.0s\n",
            "[CV] criterion=gini, max_depth=3, splitter=best ......................\n",
            "[CV]  criterion=gini, max_depth=3, splitter=best, score=0.711, total=   0.0s\n",
            "[CV] criterion=gini, max_depth=3, splitter=best ......................\n",
            "[CV]  criterion=gini, max_depth=3, splitter=best, score=0.757, total=   0.0s\n",
            "[CV] criterion=gini, max_depth=3, splitter=best ......................\n",
            "[CV]  criterion=gini, max_depth=3, splitter=best, score=0.751, total=   0.0s\n",
            "[CV] criterion=gini, max_depth=3, splitter=random ....................\n",
            "[CV]  criterion=gini, max_depth=3, splitter=random, score=0.670, total=   0.0s\n",
            "[CV] criterion=gini, max_depth=3, splitter=random ....................\n",
            "[CV]  criterion=gini, max_depth=3, splitter=random, score=0.680, total=   0.0s\n",
            "[CV] criterion=gini, max_depth=3, splitter=random ....................\n",
            "[CV]  criterion=gini, max_depth=3, splitter=random, score=0.694, total=   0.0s\n",
            "[CV] criterion=gini, max_depth=3, splitter=random ....................\n",
            "[CV]  criterion=gini, max_depth=3, splitter=random, score=0.680, total=   0.0s\n",
            "[CV] criterion=gini, max_depth=3, splitter=random ....................\n",
            "[CV]  criterion=gini, max_depth=3, splitter=random, score=0.754, total=   0.0s\n",
            "[CV] criterion=gini, max_depth=5, splitter=best ......................\n",
            "[CV]  criterion=gini, max_depth=5, splitter=best, score=0.709, total=   0.0s\n",
            "[CV] criterion=gini, max_depth=5, splitter=best ......................\n",
            "[CV]  criterion=gini, max_depth=5, splitter=best, score=0.730, total=   0.0s\n",
            "[CV] criterion=gini, max_depth=5, splitter=best ......................\n",
            "[CV]  criterion=gini, max_depth=5, splitter=best, score=0.756, total=   0.0s\n",
            "[CV] criterion=gini, max_depth=5, splitter=best ......................\n",
            "[CV]  criterion=gini, max_depth=5, splitter=best, score=0.760, total=   0.0s\n",
            "[CV] criterion=gini, max_depth=5, splitter=best ......................\n",
            "[CV]  criterion=gini, max_depth=5, splitter=best, score=0.776, total=   0.0s\n",
            "[CV] criterion=gini, max_depth=5, splitter=random ....................\n",
            "[CV]  criterion=gini, max_depth=5, splitter=random, score=0.725, total=   0.0s\n",
            "[CV] criterion=gini, max_depth=5, splitter=random ....................\n",
            "[CV]  criterion=gini, max_depth=5, splitter=random, score=0.693, total=   0.0s\n",
            "[CV] criterion=gini, max_depth=5, splitter=random ....................\n",
            "[CV]  criterion=gini, max_depth=5, splitter=random, score=0.716, total=   0.0s\n",
            "[CV] criterion=gini, max_depth=5, splitter=random ....................\n",
            "[CV]  criterion=gini, max_depth=5, splitter=random, score=0.763, total=   0.0s\n",
            "[CV] criterion=gini, max_depth=5, splitter=random ....................\n",
            "[CV]  criterion=gini, max_depth=5, splitter=random, score=0.719, total=   0.0s\n",
            "[CV] criterion=gini, max_depth=7, splitter=best ......................\n",
            "[CV]  criterion=gini, max_depth=7, splitter=best, score=0.730, total=   0.0s\n",
            "[CV] criterion=gini, max_depth=7, splitter=best ......................\n",
            "[CV]  criterion=gini, max_depth=7, splitter=best, score=0.717, total=   0.0s\n",
            "[CV] criterion=gini, max_depth=7, splitter=best ......................\n",
            "[CV]  criterion=gini, max_depth=7, splitter=best, score=0.727, total=   0.0s\n",
            "[CV] criterion=gini, max_depth=7, splitter=best ......................\n"
          ],
          "name": "stdout"
        },
        {
          "output_type": "stream",
          "text": [
            "[Parallel(n_jobs=1)]: Using backend SequentialBackend with 1 concurrent workers.\n",
            "[Parallel(n_jobs=1)]: Done   1 out of   1 | elapsed:    0.0s remaining:    0.0s\n",
            "[Parallel(n_jobs=1)]: Done   2 out of   2 | elapsed:    0.0s remaining:    0.0s\n"
          ],
          "name": "stderr"
        },
        {
          "output_type": "stream",
          "text": [
            "[CV]  criterion=gini, max_depth=7, splitter=best, score=0.748, total=   0.0s\n",
            "[CV] criterion=gini, max_depth=7, splitter=best ......................\n",
            "[CV]  criterion=gini, max_depth=7, splitter=best, score=0.771, total=   0.0s\n",
            "[CV] criterion=gini, max_depth=7, splitter=random ....................\n",
            "[CV]  criterion=gini, max_depth=7, splitter=random, score=0.750, total=   0.0s\n",
            "[CV] criterion=gini, max_depth=7, splitter=random ....................\n",
            "[CV]  criterion=gini, max_depth=7, splitter=random, score=0.725, total=   0.0s\n",
            "[CV] criterion=gini, max_depth=7, splitter=random ....................\n",
            "[CV]  criterion=gini, max_depth=7, splitter=random, score=0.710, total=   0.0s\n",
            "[CV] criterion=gini, max_depth=7, splitter=random ....................\n",
            "[CV]  criterion=gini, max_depth=7, splitter=random, score=0.756, total=   0.0s\n",
            "[CV] criterion=gini, max_depth=7, splitter=random ....................\n",
            "[CV]  criterion=gini, max_depth=7, splitter=random, score=0.773, total=   0.0s\n",
            "[CV] criterion=gini, max_depth=None, splitter=best ...................\n",
            "[CV]  criterion=gini, max_depth=None, splitter=best, score=0.663, total=   0.0s\n",
            "[CV] criterion=gini, max_depth=None, splitter=best ...................\n",
            "[CV]  criterion=gini, max_depth=None, splitter=best, score=0.687, total=   0.0s\n",
            "[CV] criterion=gini, max_depth=None, splitter=best ...................\n",
            "[CV]  criterion=gini, max_depth=None, splitter=best, score=0.693, total=   0.0s\n",
            "[CV] criterion=gini, max_depth=None, splitter=best ...................\n",
            "[CV]  criterion=gini, max_depth=None, splitter=best, score=0.687, total=   0.0s\n",
            "[CV] criterion=gini, max_depth=None, splitter=best ...................\n",
            "[CV]  criterion=gini, max_depth=None, splitter=best, score=0.727, total=   0.0s\n",
            "[CV] criterion=gini, max_depth=None, splitter=random .................\n",
            "[CV]  criterion=gini, max_depth=None, splitter=random, score=0.672, total=   0.0s\n",
            "[CV] criterion=gini, max_depth=None, splitter=random .................\n",
            "[CV]  criterion=gini, max_depth=None, splitter=random, score=0.690, total=   0.0s\n",
            "[CV] criterion=gini, max_depth=None, splitter=random .................\n",
            "[CV]  criterion=gini, max_depth=None, splitter=random, score=0.708, total=   0.0s\n",
            "[CV] criterion=gini, max_depth=None, splitter=random .................\n",
            "[CV]  criterion=gini, max_depth=None, splitter=random, score=0.694, total=   0.0s\n",
            "[CV] criterion=gini, max_depth=None, splitter=random .................\n",
            "[CV]  criterion=gini, max_depth=None, splitter=random, score=0.722, total=   0.0s\n",
            "[CV] criterion=entropy, max_depth=3, splitter=best ...................\n",
            "[CV]  criterion=entropy, max_depth=3, splitter=best, score=0.683, total=   0.0s\n",
            "[CV] criterion=entropy, max_depth=3, splitter=best ...................\n",
            "[CV]  criterion=entropy, max_depth=3, splitter=best, score=0.719, total=   0.0s\n",
            "[CV] criterion=entropy, max_depth=3, splitter=best ...................\n",
            "[CV]  criterion=entropy, max_depth=3, splitter=best, score=0.691, total=   0.0s\n",
            "[CV] criterion=entropy, max_depth=3, splitter=best ...................\n",
            "[CV]  criterion=entropy, max_depth=3, splitter=best, score=0.754, total=   0.0s\n",
            "[CV] criterion=entropy, max_depth=3, splitter=best ...................\n",
            "[CV]  criterion=entropy, max_depth=3, splitter=best, score=0.751, total=   0.0s\n",
            "[CV] criterion=entropy, max_depth=3, splitter=random .................\n",
            "[CV]  criterion=entropy, max_depth=3, splitter=random, score=0.719, total=   0.0s\n",
            "[CV] criterion=entropy, max_depth=3, splitter=random .................\n",
            "[CV]  criterion=entropy, max_depth=3, splitter=random, score=0.667, total=   0.0s\n",
            "[CV] criterion=entropy, max_depth=3, splitter=random .................\n",
            "[CV]  criterion=entropy, max_depth=3, splitter=random, score=0.668, total=   0.0s\n",
            "[CV] criterion=entropy, max_depth=3, splitter=random .................\n",
            "[CV]  criterion=entropy, max_depth=3, splitter=random, score=0.711, total=   0.0s\n",
            "[CV] criterion=entropy, max_depth=3, splitter=random .................\n",
            "[CV]  criterion=entropy, max_depth=3, splitter=random, score=0.750, total=   0.0s\n",
            "[CV] criterion=entropy, max_depth=5, splitter=best ...................\n",
            "[CV]  criterion=entropy, max_depth=5, splitter=best, score=0.713, total=   0.0s\n",
            "[CV] criterion=entropy, max_depth=5, splitter=best ...................\n",
            "[CV]  criterion=entropy, max_depth=5, splitter=best, score=0.759, total=   0.0s\n",
            "[CV] criterion=entropy, max_depth=5, splitter=best ...................\n",
            "[CV]  criterion=entropy, max_depth=5, splitter=best, score=0.745, total=   0.0s\n",
            "[CV] criterion=entropy, max_depth=5, splitter=best ...................\n",
            "[CV]  criterion=entropy, max_depth=5, splitter=best, score=0.757, total=   0.0s\n",
            "[CV] criterion=entropy, max_depth=5, splitter=best ...................\n",
            "[CV]  criterion=entropy, max_depth=5, splitter=best, score=0.774, total=   0.0s\n",
            "[CV] criterion=entropy, max_depth=5, splitter=random .................\n",
            "[CV]  criterion=entropy, max_depth=5, splitter=random, score=0.713, total=   0.0s\n",
            "[CV] criterion=entropy, max_depth=5, splitter=random .................\n",
            "[CV]  criterion=entropy, max_depth=5, splitter=random, score=0.702, total=   0.0s\n",
            "[CV] criterion=entropy, max_depth=5, splitter=random .................\n",
            "[CV]  criterion=entropy, max_depth=5, splitter=random, score=0.710, total=   0.0s\n",
            "[CV] criterion=entropy, max_depth=5, splitter=random .................\n",
            "[CV]  criterion=entropy, max_depth=5, splitter=random, score=0.739, total=   0.0s\n",
            "[CV] criterion=entropy, max_depth=5, splitter=random .................\n",
            "[CV]  criterion=entropy, max_depth=5, splitter=random, score=0.760, total=   0.0s\n",
            "[CV] criterion=entropy, max_depth=7, splitter=best ...................\n",
            "[CV]  criterion=entropy, max_depth=7, splitter=best, score=0.735, total=   0.0s\n",
            "[CV] criterion=entropy, max_depth=7, splitter=best ...................\n",
            "[CV]  criterion=entropy, max_depth=7, splitter=best, score=0.733, total=   0.0s\n",
            "[CV] criterion=entropy, max_depth=7, splitter=best ...................\n",
            "[CV]  criterion=entropy, max_depth=7, splitter=best, score=0.765, total=   0.0s\n",
            "[CV] criterion=entropy, max_depth=7, splitter=best ...................\n",
            "[CV]  criterion=entropy, max_depth=7, splitter=best, score=0.750, total=   0.0s\n",
            "[CV] criterion=entropy, max_depth=7, splitter=best ...................\n",
            "[CV]  criterion=entropy, max_depth=7, splitter=best, score=0.780, total=   0.0s\n",
            "[CV] criterion=entropy, max_depth=7, splitter=random .................\n",
            "[CV]  criterion=entropy, max_depth=7, splitter=random, score=0.745, total=   0.0s\n",
            "[CV] criterion=entropy, max_depth=7, splitter=random .................\n",
            "[CV]  criterion=entropy, max_depth=7, splitter=random, score=0.728, total=   0.0s\n",
            "[CV] criterion=entropy, max_depth=7, splitter=random .................\n",
            "[CV]  criterion=entropy, max_depth=7, splitter=random, score=0.711, total=   0.0s\n",
            "[CV] criterion=entropy, max_depth=7, splitter=random .................\n",
            "[CV]  criterion=entropy, max_depth=7, splitter=random, score=0.750, total=   0.0s\n",
            "[CV] criterion=entropy, max_depth=7, splitter=random .................\n",
            "[CV]  criterion=entropy, max_depth=7, splitter=random, score=0.757, total=   0.0s\n",
            "[CV] criterion=entropy, max_depth=None, splitter=best ................\n",
            "[CV]  criterion=entropy, max_depth=None, splitter=best, score=0.687, total=   0.0s\n",
            "[CV] criterion=entropy, max_depth=None, splitter=best ................\n",
            "[CV]  criterion=entropy, max_depth=None, splitter=best, score=0.694, total=   0.0s\n",
            "[CV] criterion=entropy, max_depth=None, splitter=best ................\n",
            "[CV]  criterion=entropy, max_depth=None, splitter=best, score=0.668, total=   0.0s\n",
            "[CV] criterion=entropy, max_depth=None, splitter=best ................\n",
            "[CV]  criterion=entropy, max_depth=None, splitter=best, score=0.690, total=   0.0s\n",
            "[CV] criterion=entropy, max_depth=None, splitter=best ................\n",
            "[CV]  criterion=entropy, max_depth=None, splitter=best, score=0.722, total=   0.0s\n",
            "[CV] criterion=entropy, max_depth=None, splitter=random ..............\n",
            "[CV]  criterion=entropy, max_depth=None, splitter=random, score=0.678, total=   0.0s\n",
            "[CV] criterion=entropy, max_depth=None, splitter=random ..............\n",
            "[CV]  criterion=entropy, max_depth=None, splitter=random, score=0.694, total=   0.0s\n",
            "[CV] criterion=entropy, max_depth=None, splitter=random ..............\n",
            "[CV]  criterion=entropy, max_depth=None, splitter=random, score=0.677, total=   0.0s\n",
            "[CV] criterion=entropy, max_depth=None, splitter=random ..............\n",
            "[CV]  criterion=entropy, max_depth=None, splitter=random, score=0.696, total=   0.0s\n",
            "[CV] criterion=entropy, max_depth=None, splitter=random ..............\n",
            "[CV]  criterion=entropy, max_depth=None, splitter=random, score=0.730, total=   0.0s\n",
            "DecisionTreeClassifier(ccp_alpha=0.0, class_weight=None, criterion='entropy',\n",
            "                       max_depth=7, max_features=None, max_leaf_nodes=None,\n",
            "                       min_impurity_decrease=0.0, min_impurity_split=None,\n",
            "                       min_samples_leaf=1, min_samples_split=2,\n",
            "                       min_weight_fraction_leaf=0.0, presort='deprecated',\n",
            "                       random_state=None, splitter='best')\n"
          ],
          "name": "stdout"
        },
        {
          "output_type": "stream",
          "text": [
            "[Parallel(n_jobs=1)]: Done  80 out of  80 | elapsed:    0.8s finished\n"
          ],
          "name": "stderr"
        }
      ]
    },
    {
      "cell_type": "code",
      "metadata": {
        "colab": {
          "base_uri": "https://localhost:8080/"
        },
        "id": "_vaAY85CrZGY",
        "outputId": "8578fede-6f1a-4bdc-aad9-7427a5ba7f17"
      },
      "source": [
        "best_dt.fit(x_train, y_train)\n",
        "print(best_dt.score(x_test, y_test))"
      ],
      "execution_count": 398,
      "outputs": [
        {
          "output_type": "stream",
          "text": [
            "0.8056234718826406\n"
          ],
          "name": "stdout"
        }
      ]
    },
    {
      "cell_type": "code",
      "metadata": {
        "colab": {
          "base_uri": "https://localhost:8080/"
        },
        "id": "vk4lQLDzQQQn",
        "outputId": "32a9edee-9a00-4906-d978-1275a1785aa7"
      },
      "source": [
        "\n",
        "print(roc_auc_score(y_test, best_dt.predict_proba(x_test)[:, 1]))"
      ],
      "execution_count": 399,
      "outputs": [
        {
          "output_type": "stream",
          "text": [
            "0.8699306551889049\n"
          ],
          "name": "stdout"
        }
      ]
    },
    {
      "cell_type": "code",
      "metadata": {
        "colab": {
          "base_uri": "https://localhost:8080/",
          "height": 296
        },
        "id": "bpjIirnbeVfG",
        "outputId": "7f1e453c-0228-41f5-e486-e350b3ac8b69"
      },
      "source": [
        "import matplotlib.pyplot as plt  \n",
        "from sklearn import metrics\n",
        "metrics.plot_roc_curve(best_dt, x_test, y_test)  "
      ],
      "execution_count": 400,
      "outputs": [
        {
          "output_type": "execute_result",
          "data": {
            "text/plain": [
              "<sklearn.metrics._plot.roc_curve.RocCurveDisplay at 0x7fbfe734af50>"
            ]
          },
          "metadata": {
            "tags": []
          },
          "execution_count": 400
        },
        {
          "output_type": "display_data",
          "data": {
            "image/png": "[encoded data removed]",
            "text/plain": [
              "<Figure size 432x288 with 1 Axes>"
            ]
          },
          "metadata": {
            "tags": [],
            "needs_background": "light"
          }
        }
      ]
    },
    {
      "cell_type": "code",
      "metadata": {
        "colab": {
          "base_uri": "https://localhost:8080/"
        },
        "id": "erYAsfwsDnTt",
        "outputId": "85bcd3e2-b493-45d3-dfb8-cc446bb739c8"
      },
      "source": [
        "prediction_dt = best_dt.predict(x_test)             \n",
        "\n",
        "print('Accuracy:', accuracy_score(y_test, prediction_dt))\n",
        "print('F1 score:', f1_score(y_test, prediction_dt))\n",
        "print('Recall:', recall_score(y_test, prediction_dt))\n",
        "print('Precision:', precision_score(y_test, prediction_dt))\n",
        "print('\\n clasification report:\\n', classification_report(y_test,prediction_dt))\n",
        "print('\\n confussion matrix:\\n',confusion_matrix(y_test, prediction_dt))"
      ],
      "execution_count": 401,
      "outputs": [
        {
          "output_type": "stream",
          "text": [
            "Accuracy: 0.8056234718826406\n",
            "F1 score: 0.8019925280199254\n",
            "Recall: 0.7853658536585366\n",
            "Precision: 0.8193384223918575\n",
            "\n",
            " clasification report:\n",
            "               precision    recall  f1-score   support\n",
            "\n",
            "           0       0.79      0.83      0.81       408\n",
            "           1       0.82      0.79      0.80       410\n",
            "\n",
            "    accuracy                           0.81       818\n",
            "   macro avg       0.81      0.81      0.81       818\n",
            "weighted avg       0.81      0.81      0.81       818\n",
            "\n",
            "\n",
            " confussion matrix:\n",
            " [[337  71]\n",
            " [ 88 322]]\n"
          ],
          "name": "stdout"
        }
      ]
    },
    {
      "cell_type": "markdown",
      "metadata": {
        "id": "42nBmcd_kkf5"
      },
      "source": [
        "## Random Forest for Future Importance"
      ]
    },
    {
      "cell_type": "code",
      "metadata": {
        "colab": {
          "base_uri": "https://localhost:8080/"
        },
        "id": "BjHMk7XQoOeh",
        "outputId": "bf415650-6546-45d1-a700-072b681b8ed9"
      },
      "source": [
        "a=list(dataset_ready.columns)\n",
        "a.remove(\"Exited\")\n",
        "a\n"
      ],
      "execution_count": 402,
      "outputs": [
        {
          "output_type": "execute_result",
          "data": {
            "text/plain": [
              "['CreditScore',\n",
              " 'Age',\n",
              " 'Tenure',\n",
              " 'Balance',\n",
              " 'NumOfProducts',\n",
              " 'HasCrCard',\n",
              " 'IsActiveMember',\n",
              " 'EstimatedSalary',\n",
              " 'France',\n",
              " 'Germany',\n",
              " 'Spain',\n",
              " 'Female',\n",
              " 'Male']"
            ]
          },
          "metadata": {
            "tags": []
          },
          "execution_count": 402
        }
      ]
    },
    {
      "cell_type": "code",
      "metadata": {
        "colab": {
          "base_uri": "https://localhost:8080/"
        },
        "id": "3_dOZDo9kpwg",
        "outputId": "5331fb9a-4fd2-4109-92ac-44025a9a5fc9"
      },
      "source": [
        "\n",
        "from sklearn.ensemble import RandomForestClassifier\n",
        "from sklearn.datasets import make_classification\n",
        "model_rf = RandomForestClassifier() #max_depth=2, random_state=0\n",
        "\n",
        "parameters = {'n_estimators':[10,50, 100, 150],'max_depth':[5, 7, 9, 11, None], 'min_samples_split':[2, 4, 8 , 10, 12]} \n",
        "grid_rf = GridSearchCV(model_rf, parameters, n_jobs=1, verbose=3)   #5fold+gridsearch\n",
        "grid_rf.fit(x_train, y_train)\n",
        "best_rf = grid_rf.best_estimator_\n",
        "print(best_rf)\n",
        "\n",
        "\n",
        "best_rf.fit(x_train, y_train)\n",
        "sorted_idx=best_rf.feature_importances_.argsort()"
      ],
      "execution_count": 403,
      "outputs": [
        {
          "output_type": "stream",
          "text": [
            "Fitting 5 folds for each of 100 candidates, totalling 500 fits\n",
            "[CV] max_depth=5, min_samples_split=2, n_estimators=10 ...............\n",
            "[CV]  max_depth=5, min_samples_split=2, n_estimators=10, score=0.736, total=   0.0s\n",
            "[CV] max_depth=5, min_samples_split=2, n_estimators=10 ...............\n",
            "[CV]  max_depth=5, min_samples_split=2, n_estimators=10, score=0.762, total=   0.0s\n",
            "[CV] max_depth=5, min_samples_split=2, n_estimators=10 ...............\n",
            "[CV]  max_depth=5, min_samples_split=2, n_estimators=10, score=0.740, total=   0.0s\n",
            "[CV] max_depth=5, min_samples_split=2, n_estimators=10 ...............\n",
            "[CV]  max_depth=5, min_samples_split=2, n_estimators=10, score=0.765, total=   0.0s\n",
            "[CV] max_depth=5, min_samples_split=2, n_estimators=10 ...............\n",
            "[CV]  max_depth=5, min_samples_split=2, n_estimators=10, score=0.779, total=   0.0s\n",
            "[CV] max_depth=5, min_samples_split=2, n_estimators=50 ...............\n"
          ],
          "name": "stdout"
        },
        {
          "output_type": "stream",
          "text": [
            "[Parallel(n_jobs=1)]: Using backend SequentialBackend with 1 concurrent workers.\n",
            "[Parallel(n_jobs=1)]: Done   1 out of   1 | elapsed:    0.0s remaining:    0.0s\n",
            "[Parallel(n_jobs=1)]: Done   2 out of   2 | elapsed:    0.1s remaining:    0.0s\n"
          ],
          "name": "stderr"
        },
        {
          "output_type": "stream",
          "text": [
            "[CV]  max_depth=5, min_samples_split=2, n_estimators=50, score=0.733, total=   0.2s\n",
            "[CV] max_depth=5, min_samples_split=2, n_estimators=50 ...............\n",
            "[CV]  max_depth=5, min_samples_split=2, n_estimators=50, score=0.754, total=   0.1s\n",
            "[CV] max_depth=5, min_samples_split=2, n_estimators=50 ...............\n",
            "[CV]  max_depth=5, min_samples_split=2, n_estimators=50, score=0.731, total=   0.1s\n",
            "[CV] max_depth=5, min_samples_split=2, n_estimators=50 ...............\n",
            "[CV]  max_depth=5, min_samples_split=2, n_estimators=50, score=0.759, total=   0.1s\n",
            "[CV] max_depth=5, min_samples_split=2, n_estimators=50 ...............\n",
            "[CV]  max_depth=5, min_samples_split=2, n_estimators=50, score=0.799, total=   0.2s\n",
            "[CV] max_depth=5, min_samples_split=2, n_estimators=100 ..............\n",
            "[CV]  max_depth=5, min_samples_split=2, n_estimators=100, score=0.744, total=   0.3s\n",
            "[CV] max_depth=5, min_samples_split=2, n_estimators=100 ..............\n",
            "[CV]  max_depth=5, min_samples_split=2, n_estimators=100, score=0.768, total=   0.3s\n",
            "[CV] max_depth=5, min_samples_split=2, n_estimators=100 ..............\n",
            "[CV]  max_depth=5, min_samples_split=2, n_estimators=100, score=0.734, total=   0.3s\n",
            "[CV] max_depth=5, min_samples_split=2, n_estimators=100 ..............\n",
            "[CV]  max_depth=5, min_samples_split=2, n_estimators=100, score=0.776, total=   0.3s\n",
            "[CV] max_depth=5, min_samples_split=2, n_estimators=100 ..............\n",
            "[CV]  max_depth=5, min_samples_split=2, n_estimators=100, score=0.793, total=   0.3s\n",
            "[CV] max_depth=5, min_samples_split=2, n_estimators=150 ..............\n",
            "[CV]  max_depth=5, min_samples_split=2, n_estimators=150, score=0.729, total=   0.4s\n",
            "[CV] max_depth=5, min_samples_split=2, n_estimators=150 ..............\n",
            "[CV]  max_depth=5, min_samples_split=2, n_estimators=150, score=0.759, total=   0.4s\n",
            "[CV] max_depth=5, min_samples_split=2, n_estimators=150 ..............\n",
            "[CV]  max_depth=5, min_samples_split=2, n_estimators=150, score=0.737, total=   0.4s\n",
            "[CV] max_depth=5, min_samples_split=2, n_estimators=150 ..............\n",
            "[CV]  max_depth=5, min_samples_split=2, n_estimators=150, score=0.774, total=   0.4s\n",
            "[CV] max_depth=5, min_samples_split=2, n_estimators=150 ..............\n",
            "[CV]  max_depth=5, min_samples_split=2, n_estimators=150, score=0.786, total=   0.4s\n",
            "[CV] max_depth=5, min_samples_split=4, n_estimators=10 ...............\n",
            "[CV]  max_depth=5, min_samples_split=4, n_estimators=10, score=0.735, total=   0.0s\n",
            "[CV] max_depth=5, min_samples_split=4, n_estimators=10 ...............\n",
            "[CV]  max_depth=5, min_samples_split=4, n_estimators=10, score=0.760, total=   0.0s\n",
            "[CV] max_depth=5, min_samples_split=4, n_estimators=10 ...............\n",
            "[CV]  max_depth=5, min_samples_split=4, n_estimators=10, score=0.742, total=   0.0s\n",
            "[CV] max_depth=5, min_samples_split=4, n_estimators=10 ...............\n",
            "[CV]  max_depth=5, min_samples_split=4, n_estimators=10, score=0.750, total=   0.0s\n",
            "[CV] max_depth=5, min_samples_split=4, n_estimators=10 ...............\n",
            "[CV]  max_depth=5, min_samples_split=4, n_estimators=10, score=0.768, total=   0.0s\n",
            "[CV] max_depth=5, min_samples_split=4, n_estimators=50 ...............\n",
            "[CV]  max_depth=5, min_samples_split=4, n_estimators=50, score=0.747, total=   0.1s\n",
            "[CV] max_depth=5, min_samples_split=4, n_estimators=50 ...............\n",
            "[CV]  max_depth=5, min_samples_split=4, n_estimators=50, score=0.757, total=   0.1s\n",
            "[CV] max_depth=5, min_samples_split=4, n_estimators=50 ...............\n",
            "[CV]  max_depth=5, min_samples_split=4, n_estimators=50, score=0.727, total=   0.1s\n",
            "[CV] max_depth=5, min_samples_split=4, n_estimators=50 ...............\n",
            "[CV]  max_depth=5, min_samples_split=4, n_estimators=50, score=0.774, total=   0.1s\n",
            "[CV] max_depth=5, min_samples_split=4, n_estimators=50 ...............\n",
            "[CV]  max_depth=5, min_samples_split=4, n_estimators=50, score=0.779, total=   0.1s\n",
            "[CV] max_depth=5, min_samples_split=4, n_estimators=100 ..............\n",
            "[CV]  max_depth=5, min_samples_split=4, n_estimators=100, score=0.735, total=   0.3s\n",
            "[CV] max_depth=5, min_samples_split=4, n_estimators=100 ..............\n",
            "[CV]  max_depth=5, min_samples_split=4, n_estimators=100, score=0.754, total=   0.3s\n",
            "[CV] max_depth=5, min_samples_split=4, n_estimators=100 ..............\n",
            "[CV]  max_depth=5, min_samples_split=4, n_estimators=100, score=0.740, total=   0.3s\n",
            "[CV] max_depth=5, min_samples_split=4, n_estimators=100 ..............\n",
            "[CV]  max_depth=5, min_samples_split=4, n_estimators=100, score=0.767, total=   0.3s\n",
            "[CV] max_depth=5, min_samples_split=4, n_estimators=100 ..............\n",
            "[CV]  max_depth=5, min_samples_split=4, n_estimators=100, score=0.794, total=   0.3s\n",
            "[CV] max_depth=5, min_samples_split=4, n_estimators=150 ..............\n",
            "[CV]  max_depth=5, min_samples_split=4, n_estimators=150, score=0.725, total=   0.4s\n",
            "[CV] max_depth=5, min_samples_split=4, n_estimators=150 ..............\n",
            "[CV]  max_depth=5, min_samples_split=4, n_estimators=150, score=0.765, total=   0.4s\n",
            "[CV] max_depth=5, min_samples_split=4, n_estimators=150 ..............\n",
            "[CV]  max_depth=5, min_samples_split=4, n_estimators=150, score=0.731, total=   0.4s\n",
            "[CV] max_depth=5, min_samples_split=4, n_estimators=150 ..............\n",
            "[CV]  max_depth=5, min_samples_split=4, n_estimators=150, score=0.771, total=   0.4s\n",
            "[CV] max_depth=5, min_samples_split=4, n_estimators=150 ..............\n",
            "[CV]  max_depth=5, min_samples_split=4, n_estimators=150, score=0.790, total=   0.4s\n",
            "[CV] max_depth=5, min_samples_split=8, n_estimators=10 ...............\n",
            "[CV]  max_depth=5, min_samples_split=8, n_estimators=10, score=0.742, total=   0.0s\n",
            "[CV] max_depth=5, min_samples_split=8, n_estimators=10 ...............\n",
            "[CV]  max_depth=5, min_samples_split=8, n_estimators=10, score=0.747, total=   0.0s\n",
            "[CV] max_depth=5, min_samples_split=8, n_estimators=10 ...............\n",
            "[CV]  max_depth=5, min_samples_split=8, n_estimators=10, score=0.713, total=   0.0s\n",
            "[CV] max_depth=5, min_samples_split=8, n_estimators=10 ...............\n",
            "[CV]  max_depth=5, min_samples_split=8, n_estimators=10, score=0.751, total=   0.0s\n",
            "[CV] max_depth=5, min_samples_split=8, n_estimators=10 ...............\n",
            "[CV]  max_depth=5, min_samples_split=8, n_estimators=10, score=0.779, total=   0.0s\n",
            "[CV] max_depth=5, min_samples_split=8, n_estimators=50 ...............\n",
            "[CV]  max_depth=5, min_samples_split=8, n_estimators=50, score=0.744, total=   0.1s\n",
            "[CV] max_depth=5, min_samples_split=8, n_estimators=50 ...............\n",
            "[CV]  max_depth=5, min_samples_split=8, n_estimators=50, score=0.759, total=   0.1s\n",
            "[CV] max_depth=5, min_samples_split=8, n_estimators=50 ...............\n",
            "[CV]  max_depth=5, min_samples_split=8, n_estimators=50, score=0.734, total=   0.1s\n",
            "[CV] max_depth=5, min_samples_split=8, n_estimators=50 ...............\n",
            "[CV]  max_depth=5, min_samples_split=8, n_estimators=50, score=0.763, total=   0.1s\n",
            "[CV] max_depth=5, min_samples_split=8, n_estimators=50 ...............\n",
            "[CV]  max_depth=5, min_samples_split=8, n_estimators=50, score=0.793, total=   0.1s\n",
            "[CV] max_depth=5, min_samples_split=8, n_estimators=100 ..............\n",
            "[CV]  max_depth=5, min_samples_split=8, n_estimators=100, score=0.738, total=   0.3s\n",
            "[CV] max_depth=5, min_samples_split=8, n_estimators=100 ..............\n",
            "[CV]  max_depth=5, min_samples_split=8, n_estimators=100, score=0.763, total=   0.3s\n",
            "[CV] max_depth=5, min_samples_split=8, n_estimators=100 ..............\n",
            "[CV]  max_depth=5, min_samples_split=8, n_estimators=100, score=0.736, total=   0.3s\n",
            "[CV] max_depth=5, min_samples_split=8, n_estimators=100 ..............\n",
            "[CV]  max_depth=5, min_samples_split=8, n_estimators=100, score=0.767, total=   0.3s\n",
            "[CV] max_depth=5, min_samples_split=8, n_estimators=100 ..............\n",
            "[CV]  max_depth=5, min_samples_split=8, n_estimators=100, score=0.783, total=   0.3s\n",
            "[CV] max_depth=5, min_samples_split=8, n_estimators=150 ..............\n",
            "[CV]  max_depth=5, min_samples_split=8, n_estimators=150, score=0.727, total=   0.4s\n",
            "[CV] max_depth=5, min_samples_split=8, n_estimators=150 ..............\n",
            "[CV]  max_depth=5, min_samples_split=8, n_estimators=150, score=0.770, total=   0.4s\n",
            "[CV] max_depth=5, min_samples_split=8, n_estimators=150 ..............\n",
            "[CV]  max_depth=5, min_samples_split=8, n_estimators=150, score=0.743, total=   0.4s\n",
            "[CV] max_depth=5, min_samples_split=8, n_estimators=150 ..............\n",
            "[CV]  max_depth=5, min_samples_split=8, n_estimators=150, score=0.776, total=   0.4s\n",
            "[CV] max_depth=5, min_samples_split=8, n_estimators=150 ..............\n",
            "[CV]  max_depth=5, min_samples_split=8, n_estimators=150, score=0.799, total=   0.4s\n",
            "[CV] max_depth=5, min_samples_split=10, n_estimators=10 ..............\n",
            "[CV]  max_depth=5, min_samples_split=10, n_estimators=10, score=0.741, total=   0.0s\n",
            "[CV] max_depth=5, min_samples_split=10, n_estimators=10 ..............\n",
            "[CV]  max_depth=5, min_samples_split=10, n_estimators=10, score=0.753, total=   0.0s\n",
            "[CV] max_depth=5, min_samples_split=10, n_estimators=10 ..............\n",
            "[CV]  max_depth=5, min_samples_split=10, n_estimators=10, score=0.728, total=   0.0s\n",
            "[CV] max_depth=5, min_samples_split=10, n_estimators=10 ..............\n",
            "[CV]  max_depth=5, min_samples_split=10, n_estimators=10, score=0.750, total=   0.0s\n",
            "[CV] max_depth=5, min_samples_split=10, n_estimators=10 ..............\n",
            "[CV]  max_depth=5, min_samples_split=10, n_estimators=10, score=0.791, total=   0.0s\n",
            "[CV] max_depth=5, min_samples_split=10, n_estimators=50 ..............\n",
            "[CV]  max_depth=5, min_samples_split=10, n_estimators=50, score=0.745, total=   0.1s\n",
            "[CV] max_depth=5, min_samples_split=10, n_estimators=50 ..............\n",
            "[CV]  max_depth=5, min_samples_split=10, n_estimators=50, score=0.760, total=   0.1s\n",
            "[CV] max_depth=5, min_samples_split=10, n_estimators=50 ..............\n",
            "[CV]  max_depth=5, min_samples_split=10, n_estimators=50, score=0.731, total=   0.1s\n",
            "[CV] max_depth=5, min_samples_split=10, n_estimators=50 ..............\n",
            "[CV]  max_depth=5, min_samples_split=10, n_estimators=50, score=0.773, total=   0.1s\n",
            "[CV] max_depth=5, min_samples_split=10, n_estimators=50 ..............\n",
            "[CV]  max_depth=5, min_samples_split=10, n_estimators=50, score=0.796, total=   0.1s\n",
            "[CV] max_depth=5, min_samples_split=10, n_estimators=100 .............\n",
            "[CV]  max_depth=5, min_samples_split=10, n_estimators=100, score=0.724, total=   0.3s\n",
            "[CV] max_depth=5, min_samples_split=10, n_estimators=100 .............\n",
            "[CV]  max_depth=5, min_samples_split=10, n_estimators=100, score=0.762, total=   0.3s\n",
            "[CV] max_depth=5, min_samples_split=10, n_estimators=100 .............\n",
            "[CV]  max_depth=5, min_samples_split=10, n_estimators=100, score=0.742, total=   0.3s\n",
            "[CV] max_depth=5, min_samples_split=10, n_estimators=100 .............\n",
            "[CV]  max_depth=5, min_samples_split=10, n_estimators=100, score=0.771, total=   0.3s\n",
            "[CV] max_depth=5, min_samples_split=10, n_estimators=100 .............\n",
            "[CV]  max_depth=5, min_samples_split=10, n_estimators=100, score=0.796, total=   0.3s\n",
            "[CV] max_depth=5, min_samples_split=10, n_estimators=150 .............\n",
            "[CV]  max_depth=5, min_samples_split=10, n_estimators=150, score=0.732, total=   0.4s\n",
            "[CV] max_depth=5, min_samples_split=10, n_estimators=150 .............\n",
            "[CV]  max_depth=5, min_samples_split=10, n_estimators=150, score=0.765, total=   0.4s\n",
            "[CV] max_depth=5, min_samples_split=10, n_estimators=150 .............\n",
            "[CV]  max_depth=5, min_samples_split=10, n_estimators=150, score=0.736, total=   0.4s\n",
            "[CV] max_depth=5, min_samples_split=10, n_estimators=150 .............\n",
            "[CV]  max_depth=5, min_samples_split=10, n_estimators=150, score=0.765, total=   0.4s\n",
            "[CV] max_depth=5, min_samples_split=10, n_estimators=150 .............\n",
            "[CV]  max_depth=5, min_samples_split=10, n_estimators=150, score=0.796, total=   0.4s\n",
            "[CV] max_depth=5, min_samples_split=12, n_estimators=10 ..............\n",
            "[CV]  max_depth=5, min_samples_split=12, n_estimators=10, score=0.718, total=   0.0s\n",
            "[CV] max_depth=5, min_samples_split=12, n_estimators=10 ..............\n",
            "[CV]  max_depth=5, min_samples_split=12, n_estimators=10, score=0.751, total=   0.0s\n",
            "[CV] max_depth=5, min_samples_split=12, n_estimators=10 ..............\n",
            "[CV]  max_depth=5, min_samples_split=12, n_estimators=10, score=0.734, total=   0.0s\n",
            "[CV] max_depth=5, min_samples_split=12, n_estimators=10 ..............\n",
            "[CV]  max_depth=5, min_samples_split=12, n_estimators=10, score=0.770, total=   0.0s\n",
            "[CV] max_depth=5, min_samples_split=12, n_estimators=10 ..............\n",
            "[CV]  max_depth=5, min_samples_split=12, n_estimators=10, score=0.771, total=   0.0s\n",
            "[CV] max_depth=5, min_samples_split=12, n_estimators=50 ..............\n",
            "[CV]  max_depth=5, min_samples_split=12, n_estimators=50, score=0.738, total=   0.1s\n",
            "[CV] max_depth=5, min_samples_split=12, n_estimators=50 ..............\n",
            "[CV]  max_depth=5, min_samples_split=12, n_estimators=50, score=0.765, total=   0.1s\n",
            "[CV] max_depth=5, min_samples_split=12, n_estimators=50 ..............\n",
            "[CV]  max_depth=5, min_samples_split=12, n_estimators=50, score=0.730, total=   0.1s\n",
            "[CV] max_depth=5, min_samples_split=12, n_estimators=50 ..............\n",
            "[CV]  max_depth=5, min_samples_split=12, n_estimators=50, score=0.768, total=   0.1s\n",
            "[CV] max_depth=5, min_samples_split=12, n_estimators=50 ..............\n",
            "[CV]  max_depth=5, min_samples_split=12, n_estimators=50, score=0.791, total=   0.1s\n",
            "[CV] max_depth=5, min_samples_split=12, n_estimators=100 .............\n",
            "[CV]  max_depth=5, min_samples_split=12, n_estimators=100, score=0.727, total=   0.3s\n",
            "[CV] max_depth=5, min_samples_split=12, n_estimators=100 .............\n",
            "[CV]  max_depth=5, min_samples_split=12, n_estimators=100, score=0.750, total=   0.3s\n",
            "[CV] max_depth=5, min_samples_split=12, n_estimators=100 .............\n",
            "[CV]  max_depth=5, min_samples_split=12, n_estimators=100, score=0.737, total=   0.3s\n",
            "[CV] max_depth=5, min_samples_split=12, n_estimators=100 .............\n",
            "[CV]  max_depth=5, min_samples_split=12, n_estimators=100, score=0.771, total=   0.3s\n",
            "[CV] max_depth=5, min_samples_split=12, n_estimators=100 .............\n",
            "[CV]  max_depth=5, min_samples_split=12, n_estimators=100, score=0.805, total=   0.3s\n",
            "[CV] max_depth=5, min_samples_split=12, n_estimators=150 .............\n",
            "[CV]  max_depth=5, min_samples_split=12, n_estimators=150, score=0.721, total=   0.4s\n",
            "[CV] max_depth=5, min_samples_split=12, n_estimators=150 .............\n",
            "[CV]  max_depth=5, min_samples_split=12, n_estimators=150, score=0.751, total=   0.4s\n",
            "[CV] max_depth=5, min_samples_split=12, n_estimators=150 .............\n",
            "[CV]  max_depth=5, min_samples_split=12, n_estimators=150, score=0.734, total=   0.4s\n",
            "[CV] max_depth=5, min_samples_split=12, n_estimators=150 .............\n",
            "[CV]  max_depth=5, min_samples_split=12, n_estimators=150, score=0.767, total=   0.4s\n",
            "[CV] max_depth=5, min_samples_split=12, n_estimators=150 .............\n",
            "[CV]  max_depth=5, min_samples_split=12, n_estimators=150, score=0.802, total=   0.4s\n",
            "[CV] max_depth=7, min_samples_split=2, n_estimators=10 ...............\n",
            "[CV]  max_depth=7, min_samples_split=2, n_estimators=10, score=0.730, total=   0.0s\n",
            "[CV] max_depth=7, min_samples_split=2, n_estimators=10 ...............\n",
            "[CV]  max_depth=7, min_samples_split=2, n_estimators=10, score=0.740, total=   0.0s\n",
            "[CV] max_depth=7, min_samples_split=2, n_estimators=10 ...............\n",
            "[CV]  max_depth=7, min_samples_split=2, n_estimators=10, score=0.731, total=   0.0s\n",
            "[CV] max_depth=7, min_samples_split=2, n_estimators=10 ...............\n",
            "[CV]  max_depth=7, min_samples_split=2, n_estimators=10, score=0.763, total=   0.0s\n",
            "[CV] max_depth=7, min_samples_split=2, n_estimators=10 ...............\n",
            "[CV]  max_depth=7, min_samples_split=2, n_estimators=10, score=0.773, total=   0.0s\n",
            "[CV] max_depth=7, min_samples_split=2, n_estimators=50 ...............\n",
            "[CV]  max_depth=7, min_samples_split=2, n_estimators=50, score=0.761, total=   0.2s\n",
            "[CV] max_depth=7, min_samples_split=2, n_estimators=50 ...............\n",
            "[CV]  max_depth=7, min_samples_split=2, n_estimators=50, score=0.760, total=   0.2s\n",
            "[CV] max_depth=7, min_samples_split=2, n_estimators=50 ...............\n",
            "[CV]  max_depth=7, min_samples_split=2, n_estimators=50, score=0.731, total=   0.2s\n",
            "[CV] max_depth=7, min_samples_split=2, n_estimators=50 ...............\n",
            "[CV]  max_depth=7, min_samples_split=2, n_estimators=50, score=0.774, total=   0.2s\n",
            "[CV] max_depth=7, min_samples_split=2, n_estimators=50 ...............\n",
            "[CV]  max_depth=7, min_samples_split=2, n_estimators=50, score=0.796, total=   0.2s\n",
            "[CV] max_depth=7, min_samples_split=2, n_estimators=100 ..............\n",
            "[CV]  max_depth=7, min_samples_split=2, n_estimators=100, score=0.745, total=   0.3s\n",
            "[CV] max_depth=7, min_samples_split=2, n_estimators=100 ..............\n",
            "[CV]  max_depth=7, min_samples_split=2, n_estimators=100, score=0.751, total=   0.3s\n",
            "[CV] max_depth=7, min_samples_split=2, n_estimators=100 ..............\n",
            "[CV]  max_depth=7, min_samples_split=2, n_estimators=100, score=0.742, total=   0.3s\n",
            "[CV] max_depth=7, min_samples_split=2, n_estimators=100 ..............\n",
            "[CV]  max_depth=7, min_samples_split=2, n_estimators=100, score=0.771, total=   0.3s\n",
            "[CV] max_depth=7, min_samples_split=2, n_estimators=100 ..............\n",
            "[CV]  max_depth=7, min_samples_split=2, n_estimators=100, score=0.802, total=   0.3s\n",
            "[CV] max_depth=7, min_samples_split=2, n_estimators=150 ..............\n",
            "[CV]  max_depth=7, min_samples_split=2, n_estimators=150, score=0.738, total=   0.5s\n",
            "[CV] max_depth=7, min_samples_split=2, n_estimators=150 ..............\n",
            "[CV]  max_depth=7, min_samples_split=2, n_estimators=150, score=0.756, total=   0.5s\n",
            "[CV] max_depth=7, min_samples_split=2, n_estimators=150 ..............\n",
            "[CV]  max_depth=7, min_samples_split=2, n_estimators=150, score=0.742, total=   0.5s\n",
            "[CV] max_depth=7, min_samples_split=2, n_estimators=150 ..............\n",
            "[CV]  max_depth=7, min_samples_split=2, n_estimators=150, score=0.776, total=   0.5s\n",
            "[CV] max_depth=7, min_samples_split=2, n_estimators=150 ..............\n",
            "[CV]  max_depth=7, min_samples_split=2, n_estimators=150, score=0.791, total=   0.5s\n",
            "[CV] max_depth=7, min_samples_split=4, n_estimators=10 ...............\n",
            "[CV]  max_depth=7, min_samples_split=4, n_estimators=10, score=0.712, total=   0.0s\n",
            "[CV] max_depth=7, min_samples_split=4, n_estimators=10 ...............\n",
            "[CV]  max_depth=7, min_samples_split=4, n_estimators=10, score=0.754, total=   0.0s\n",
            "[CV] max_depth=7, min_samples_split=4, n_estimators=10 ...............\n",
            "[CV]  max_depth=7, min_samples_split=4, n_estimators=10, score=0.733, total=   0.0s\n",
            "[CV] max_depth=7, min_samples_split=4, n_estimators=10 ...............\n",
            "[CV]  max_depth=7, min_samples_split=4, n_estimators=10, score=0.770, total=   0.0s\n",
            "[CV] max_depth=7, min_samples_split=4, n_estimators=10 ...............\n",
            "[CV]  max_depth=7, min_samples_split=4, n_estimators=10, score=0.791, total=   0.0s\n",
            "[CV] max_depth=7, min_samples_split=4, n_estimators=50 ...............\n",
            "[CV]  max_depth=7, min_samples_split=4, n_estimators=50, score=0.752, total=   0.2s\n",
            "[CV] max_depth=7, min_samples_split=4, n_estimators=50 ...............\n",
            "[CV]  max_depth=7, min_samples_split=4, n_estimators=50, score=0.763, total=   0.2s\n",
            "[CV] max_depth=7, min_samples_split=4, n_estimators=50 ...............\n",
            "[CV]  max_depth=7, min_samples_split=4, n_estimators=50, score=0.747, total=   0.2s\n",
            "[CV] max_depth=7, min_samples_split=4, n_estimators=50 ...............\n",
            "[CV]  max_depth=7, min_samples_split=4, n_estimators=50, score=0.771, total=   0.2s\n",
            "[CV] max_depth=7, min_samples_split=4, n_estimators=50 ...............\n",
            "[CV]  max_depth=7, min_samples_split=4, n_estimators=50, score=0.797, total=   0.2s\n",
            "[CV] max_depth=7, min_samples_split=4, n_estimators=100 ..............\n",
            "[CV]  max_depth=7, min_samples_split=4, n_estimators=100, score=0.752, total=   0.3s\n",
            "[CV] max_depth=7, min_samples_split=4, n_estimators=100 ..............\n",
            "[CV]  max_depth=7, min_samples_split=4, n_estimators=100, score=0.748, total=   0.3s\n",
            "[CV] max_depth=7, min_samples_split=4, n_estimators=100 ..............\n",
            "[CV]  max_depth=7, min_samples_split=4, n_estimators=100, score=0.747, total=   0.3s\n",
            "[CV] max_depth=7, min_samples_split=4, n_estimators=100 ..............\n",
            "[CV]  max_depth=7, min_samples_split=4, n_estimators=100, score=0.774, total=   0.3s\n",
            "[CV] max_depth=7, min_samples_split=4, n_estimators=100 ..............\n",
            "[CV]  max_depth=7, min_samples_split=4, n_estimators=100, score=0.793, total=   0.3s\n",
            "[CV] max_depth=7, min_samples_split=4, n_estimators=150 ..............\n",
            "[CV]  max_depth=7, min_samples_split=4, n_estimators=150, score=0.748, total=   0.5s\n",
            "[CV] max_depth=7, min_samples_split=4, n_estimators=150 ..............\n",
            "[CV]  max_depth=7, min_samples_split=4, n_estimators=150, score=0.753, total=   0.5s\n",
            "[CV] max_depth=7, min_samples_split=4, n_estimators=150 ..............\n",
            "[CV]  max_depth=7, min_samples_split=4, n_estimators=150, score=0.750, total=   0.5s\n",
            "[CV] max_depth=7, min_samples_split=4, n_estimators=150 ..............\n",
            "[CV]  max_depth=7, min_samples_split=4, n_estimators=150, score=0.773, total=   0.5s\n",
            "[CV] max_depth=7, min_samples_split=4, n_estimators=150 ..............\n",
            "[CV]  max_depth=7, min_samples_split=4, n_estimators=150, score=0.794, total=   0.5s\n",
            "[CV] max_depth=7, min_samples_split=8, n_estimators=10 ...............\n",
            "[CV]  max_depth=7, min_samples_split=8, n_estimators=10, score=0.745, total=   0.0s\n",
            "[CV] max_depth=7, min_samples_split=8, n_estimators=10 ...............\n",
            "[CV]  max_depth=7, min_samples_split=8, n_estimators=10, score=0.740, total=   0.0s\n",
            "[CV] max_depth=7, min_samples_split=8, n_estimators=10 ...............\n",
            "[CV]  max_depth=7, min_samples_split=8, n_estimators=10, score=0.719, total=   0.0s\n",
            "[CV] max_depth=7, min_samples_split=8, n_estimators=10 ...............\n",
            "[CV]  max_depth=7, min_samples_split=8, n_estimators=10, score=0.756, total=   0.0s\n",
            "[CV] max_depth=7, min_samples_split=8, n_estimators=10 ...............\n",
            "[CV]  max_depth=7, min_samples_split=8, n_estimators=10, score=0.796, total=   0.0s\n",
            "[CV] max_depth=7, min_samples_split=8, n_estimators=50 ...............\n",
            "[CV]  max_depth=7, min_samples_split=8, n_estimators=50, score=0.753, total=   0.2s\n",
            "[CV] max_depth=7, min_samples_split=8, n_estimators=50 ...............\n",
            "[CV]  max_depth=7, min_samples_split=8, n_estimators=50, score=0.754, total=   0.2s\n",
            "[CV] max_depth=7, min_samples_split=8, n_estimators=50 ...............\n",
            "[CV]  max_depth=7, min_samples_split=8, n_estimators=50, score=0.748, total=   0.2s\n",
            "[CV] max_depth=7, min_samples_split=8, n_estimators=50 ...............\n",
            "[CV]  max_depth=7, min_samples_split=8, n_estimators=50, score=0.767, total=   0.2s\n",
            "[CV] max_depth=7, min_samples_split=8, n_estimators=50 ...............\n",
            "[CV]  max_depth=7, min_samples_split=8, n_estimators=50, score=0.794, total=   0.2s\n",
            "[CV] max_depth=7, min_samples_split=8, n_estimators=100 ..............\n",
            "[CV]  max_depth=7, min_samples_split=8, n_estimators=100, score=0.745, total=   0.3s\n",
            "[CV] max_depth=7, min_samples_split=8, n_estimators=100 ..............\n",
            "[CV]  max_depth=7, min_samples_split=8, n_estimators=100, score=0.754, total=   0.3s\n",
            "[CV] max_depth=7, min_samples_split=8, n_estimators=100 ..............\n",
            "[CV]  max_depth=7, min_samples_split=8, n_estimators=100, score=0.736, total=   0.3s\n",
            "[CV] max_depth=7, min_samples_split=8, n_estimators=100 ..............\n",
            "[CV]  max_depth=7, min_samples_split=8, n_estimators=100, score=0.771, total=   0.3s\n",
            "[CV] max_depth=7, min_samples_split=8, n_estimators=100 ..............\n",
            "[CV]  max_depth=7, min_samples_split=8, n_estimators=100, score=0.800, total=   0.3s\n",
            "[CV] max_depth=7, min_samples_split=8, n_estimators=150 ..............\n",
            "[CV]  max_depth=7, min_samples_split=8, n_estimators=150, score=0.747, total=   0.5s\n",
            "[CV] max_depth=7, min_samples_split=8, n_estimators=150 ..............\n",
            "[CV]  max_depth=7, min_samples_split=8, n_estimators=150, score=0.760, total=   0.5s\n",
            "[CV] max_depth=7, min_samples_split=8, n_estimators=150 ..............\n",
            "[CV]  max_depth=7, min_samples_split=8, n_estimators=150, score=0.745, total=   0.5s\n",
            "[CV] max_depth=7, min_samples_split=8, n_estimators=150 ..............\n",
            "[CV]  max_depth=7, min_samples_split=8, n_estimators=150, score=0.773, total=   0.5s\n",
            "[CV] max_depth=7, min_samples_split=8, n_estimators=150 ..............\n",
            "[CV]  max_depth=7, min_samples_split=8, n_estimators=150, score=0.800, total=   0.5s\n",
            "[CV] max_depth=7, min_samples_split=10, n_estimators=10 ..............\n",
            "[CV]  max_depth=7, min_samples_split=10, n_estimators=10, score=0.729, total=   0.0s\n",
            "[CV] max_depth=7, min_samples_split=10, n_estimators=10 ..............\n",
            "[CV]  max_depth=7, min_samples_split=10, n_estimators=10, score=0.736, total=   0.0s\n",
            "[CV] max_depth=7, min_samples_split=10, n_estimators=10 ..............\n",
            "[CV]  max_depth=7, min_samples_split=10, n_estimators=10, score=0.737, total=   0.0s\n",
            "[CV] max_depth=7, min_samples_split=10, n_estimators=10 ..............\n",
            "[CV]  max_depth=7, min_samples_split=10, n_estimators=10, score=0.756, total=   0.0s\n",
            "[CV] max_depth=7, min_samples_split=10, n_estimators=10 ..............\n",
            "[CV]  max_depth=7, min_samples_split=10, n_estimators=10, score=0.788, total=   0.0s\n",
            "[CV] max_depth=7, min_samples_split=10, n_estimators=50 ..............\n",
            "[CV]  max_depth=7, min_samples_split=10, n_estimators=50, score=0.748, total=   0.2s\n",
            "[CV] max_depth=7, min_samples_split=10, n_estimators=50 ..............\n",
            "[CV]  max_depth=7, min_samples_split=10, n_estimators=50, score=0.756, total=   0.2s\n",
            "[CV] max_depth=7, min_samples_split=10, n_estimators=50 ..............\n",
            "[CV]  max_depth=7, min_samples_split=10, n_estimators=50, score=0.747, total=   0.2s\n",
            "[CV] max_depth=7, min_samples_split=10, n_estimators=50 ..............\n",
            "[CV]  max_depth=7, min_samples_split=10, n_estimators=50, score=0.767, total=   0.2s\n",
            "[CV] max_depth=7, min_samples_split=10, n_estimators=50 ..............\n",
            "[CV]  max_depth=7, min_samples_split=10, n_estimators=50, score=0.799, total=   0.2s\n",
            "[CV] max_depth=7, min_samples_split=10, n_estimators=100 .............\n",
            "[CV]  max_depth=7, min_samples_split=10, n_estimators=100, score=0.748, total=   0.3s\n",
            "[CV] max_depth=7, min_samples_split=10, n_estimators=100 .............\n",
            "[CV]  max_depth=7, min_samples_split=10, n_estimators=100, score=0.754, total=   0.3s\n",
            "[CV] max_depth=7, min_samples_split=10, n_estimators=100 .............\n",
            "[CV]  max_depth=7, min_samples_split=10, n_estimators=100, score=0.745, total=   0.3s\n",
            "[CV] max_depth=7, min_samples_split=10, n_estimators=100 .............\n",
            "[CV]  max_depth=7, min_samples_split=10, n_estimators=100, score=0.770, total=   0.3s\n",
            "[CV] max_depth=7, min_samples_split=10, n_estimators=100 .............\n",
            "[CV]  max_depth=7, min_samples_split=10, n_estimators=100, score=0.794, total=   0.3s\n",
            "[CV] max_depth=7, min_samples_split=10, n_estimators=150 .............\n",
            "[CV]  max_depth=7, min_samples_split=10, n_estimators=150, score=0.755, total=   0.5s\n",
            "[CV] max_depth=7, min_samples_split=10, n_estimators=150 .............\n",
            "[CV]  max_depth=7, min_samples_split=10, n_estimators=150, score=0.754, total=   0.5s\n",
            "[CV] max_depth=7, min_samples_split=10, n_estimators=150 .............\n",
            "[CV]  max_depth=7, min_samples_split=10, n_estimators=150, score=0.736, total=   0.5s\n",
            "[CV] max_depth=7, min_samples_split=10, n_estimators=150 .............\n",
            "[CV]  max_depth=7, min_samples_split=10, n_estimators=150, score=0.773, total=   0.5s\n",
            "[CV] max_depth=7, min_samples_split=10, n_estimators=150 .............\n",
            "[CV]  max_depth=7, min_samples_split=10, n_estimators=150, score=0.793, total=   0.5s\n",
            "[CV] max_depth=7, min_samples_split=12, n_estimators=10 ..............\n",
            "[CV]  max_depth=7, min_samples_split=12, n_estimators=10, score=0.748, total=   0.0s\n",
            "[CV] max_depth=7, min_samples_split=12, n_estimators=10 ..............\n",
            "[CV]  max_depth=7, min_samples_split=12, n_estimators=10, score=0.753, total=   0.0s\n",
            "[CV] max_depth=7, min_samples_split=12, n_estimators=10 ..............\n",
            "[CV]  max_depth=7, min_samples_split=12, n_estimators=10, score=0.751, total=   0.0s\n",
            "[CV] max_depth=7, min_samples_split=12, n_estimators=10 ..............\n",
            "[CV]  max_depth=7, min_samples_split=12, n_estimators=10, score=0.757, total=   0.0s\n",
            "[CV] max_depth=7, min_samples_split=12, n_estimators=10 ..............\n",
            "[CV]  max_depth=7, min_samples_split=12, n_estimators=10, score=0.768, total=   0.0s\n",
            "[CV] max_depth=7, min_samples_split=12, n_estimators=50 ..............\n",
            "[CV]  max_depth=7, min_samples_split=12, n_estimators=50, score=0.742, total=   0.2s\n",
            "[CV] max_depth=7, min_samples_split=12, n_estimators=50 ..............\n",
            "[CV]  max_depth=7, min_samples_split=12, n_estimators=50, score=0.754, total=   0.2s\n",
            "[CV] max_depth=7, min_samples_split=12, n_estimators=50 ..............\n",
            "[CV]  max_depth=7, min_samples_split=12, n_estimators=50, score=0.747, total=   0.2s\n",
            "[CV] max_depth=7, min_samples_split=12, n_estimators=50 ..............\n",
            "[CV]  max_depth=7, min_samples_split=12, n_estimators=50, score=0.779, total=   0.2s\n",
            "[CV] max_depth=7, min_samples_split=12, n_estimators=50 ..............\n",
            "[CV]  max_depth=7, min_samples_split=12, n_estimators=50, score=0.805, total=   0.2s\n",
            "[CV] max_depth=7, min_samples_split=12, n_estimators=100 .............\n",
            "[CV]  max_depth=7, min_samples_split=12, n_estimators=100, score=0.753, total=   0.3s\n",
            "[CV] max_depth=7, min_samples_split=12, n_estimators=100 .............\n",
            "[CV]  max_depth=7, min_samples_split=12, n_estimators=100, score=0.748, total=   0.3s\n",
            "[CV] max_depth=7, min_samples_split=12, n_estimators=100 .............\n",
            "[CV]  max_depth=7, min_samples_split=12, n_estimators=100, score=0.745, total=   0.3s\n",
            "[CV] max_depth=7, min_samples_split=12, n_estimators=100 .............\n",
            "[CV]  max_depth=7, min_samples_split=12, n_estimators=100, score=0.773, total=   0.3s\n",
            "[CV] max_depth=7, min_samples_split=12, n_estimators=100 .............\n",
            "[CV]  max_depth=7, min_samples_split=12, n_estimators=100, score=0.793, total=   0.3s\n",
            "[CV] max_depth=7, min_samples_split=12, n_estimators=150 .............\n",
            "[CV]  max_depth=7, min_samples_split=12, n_estimators=150, score=0.742, total=   0.5s\n",
            "[CV] max_depth=7, min_samples_split=12, n_estimators=150 .............\n",
            "[CV]  max_depth=7, min_samples_split=12, n_estimators=150, score=0.751, total=   0.5s\n",
            "[CV] max_depth=7, min_samples_split=12, n_estimators=150 .............\n",
            "[CV]  max_depth=7, min_samples_split=12, n_estimators=150, score=0.740, total=   0.5s\n",
            "[CV] max_depth=7, min_samples_split=12, n_estimators=150 .............\n",
            "[CV]  max_depth=7, min_samples_split=12, n_estimators=150, score=0.776, total=   0.5s\n",
            "[CV] max_depth=7, min_samples_split=12, n_estimators=150 .............\n",
            "[CV]  max_depth=7, min_samples_split=12, n_estimators=150, score=0.802, total=   0.5s\n",
            "[CV] max_depth=9, min_samples_split=2, n_estimators=10 ...............\n",
            "[CV]  max_depth=9, min_samples_split=2, n_estimators=10, score=0.733, total=   0.0s\n",
            "[CV] max_depth=9, min_samples_split=2, n_estimators=10 ...............\n",
            "[CV]  max_depth=9, min_samples_split=2, n_estimators=10, score=0.742, total=   0.0s\n",
            "[CV] max_depth=9, min_samples_split=2, n_estimators=10 ...............\n",
            "[CV]  max_depth=9, min_samples_split=2, n_estimators=10, score=0.733, total=   0.0s\n",
            "[CV] max_depth=9, min_samples_split=2, n_estimators=10 ...............\n",
            "[CV]  max_depth=9, min_samples_split=2, n_estimators=10, score=0.760, total=   0.0s\n",
            "[CV] max_depth=9, min_samples_split=2, n_estimators=10 ...............\n",
            "[CV]  max_depth=9, min_samples_split=2, n_estimators=10, score=0.779, total=   0.0s\n",
            "[CV] max_depth=9, min_samples_split=2, n_estimators=50 ...............\n",
            "[CV]  max_depth=9, min_samples_split=2, n_estimators=50, score=0.748, total=   0.2s\n",
            "[CV] max_depth=9, min_samples_split=2, n_estimators=50 ...............\n",
            "[CV]  max_depth=9, min_samples_split=2, n_estimators=50, score=0.745, total=   0.2s\n",
            "[CV] max_depth=9, min_samples_split=2, n_estimators=50 ...............\n",
            "[CV]  max_depth=9, min_samples_split=2, n_estimators=50, score=0.739, total=   0.2s\n",
            "[CV] max_depth=9, min_samples_split=2, n_estimators=50 ...............\n",
            "[CV]  max_depth=9, min_samples_split=2, n_estimators=50, score=0.768, total=   0.2s\n",
            "[CV] max_depth=9, min_samples_split=2, n_estimators=50 ...............\n",
            "[CV]  max_depth=9, min_samples_split=2, n_estimators=50, score=0.790, total=   0.2s\n",
            "[CV] max_depth=9, min_samples_split=2, n_estimators=100 ..............\n",
            "[CV]  max_depth=9, min_samples_split=2, n_estimators=100, score=0.747, total=   0.4s\n",
            "[CV] max_depth=9, min_samples_split=2, n_estimators=100 ..............\n",
            "[CV]  max_depth=9, min_samples_split=2, n_estimators=100, score=0.753, total=   0.4s\n",
            "[CV] max_depth=9, min_samples_split=2, n_estimators=100 ..............\n",
            "[CV]  max_depth=9, min_samples_split=2, n_estimators=100, score=0.740, total=   0.4s\n",
            "[CV] max_depth=9, min_samples_split=2, n_estimators=100 ..............\n",
            "[CV]  max_depth=9, min_samples_split=2, n_estimators=100, score=0.771, total=   0.4s\n",
            "[CV] max_depth=9, min_samples_split=2, n_estimators=100 ..............\n",
            "[CV]  max_depth=9, min_samples_split=2, n_estimators=100, score=0.796, total=   0.4s\n",
            "[CV] max_depth=9, min_samples_split=2, n_estimators=150 ..............\n",
            "[CV]  max_depth=9, min_samples_split=2, n_estimators=150, score=0.750, total=   0.5s\n",
            "[CV] max_depth=9, min_samples_split=2, n_estimators=150 ..............\n",
            "[CV]  max_depth=9, min_samples_split=2, n_estimators=150, score=0.756, total=   0.5s\n",
            "[CV] max_depth=9, min_samples_split=2, n_estimators=150 ..............\n",
            "[CV]  max_depth=9, min_samples_split=2, n_estimators=150, score=0.743, total=   0.5s\n",
            "[CV] max_depth=9, min_samples_split=2, n_estimators=150 ..............\n",
            "[CV]  max_depth=9, min_samples_split=2, n_estimators=150, score=0.785, total=   0.5s\n",
            "[CV] max_depth=9, min_samples_split=2, n_estimators=150 ..............\n",
            "[CV]  max_depth=9, min_samples_split=2, n_estimators=150, score=0.791, total=   0.5s\n",
            "[CV] max_depth=9, min_samples_split=4, n_estimators=10 ...............\n",
            "[CV]  max_depth=9, min_samples_split=4, n_estimators=10, score=0.753, total=   0.0s\n",
            "[CV] max_depth=9, min_samples_split=4, n_estimators=10 ...............\n",
            "[CV]  max_depth=9, min_samples_split=4, n_estimators=10, score=0.728, total=   0.0s\n",
            "[CV] max_depth=9, min_samples_split=4, n_estimators=10 ...............\n",
            "[CV]  max_depth=9, min_samples_split=4, n_estimators=10, score=0.713, total=   0.0s\n",
            "[CV] max_depth=9, min_samples_split=4, n_estimators=10 ...............\n",
            "[CV]  max_depth=9, min_samples_split=4, n_estimators=10, score=0.747, total=   0.0s\n",
            "[CV] max_depth=9, min_samples_split=4, n_estimators=10 ...............\n",
            "[CV]  max_depth=9, min_samples_split=4, n_estimators=10, score=0.788, total=   0.0s\n",
            "[CV] max_depth=9, min_samples_split=4, n_estimators=50 ...............\n",
            "[CV]  max_depth=9, min_samples_split=4, n_estimators=50, score=0.748, total=   0.2s\n",
            "[CV] max_depth=9, min_samples_split=4, n_estimators=50 ...............\n",
            "[CV]  max_depth=9, min_samples_split=4, n_estimators=50, score=0.745, total=   0.2s\n",
            "[CV] max_depth=9, min_samples_split=4, n_estimators=50 ...............\n",
            "[CV]  max_depth=9, min_samples_split=4, n_estimators=50, score=0.745, total=   0.2s\n",
            "[CV] max_depth=9, min_samples_split=4, n_estimators=50 ...............\n",
            "[CV]  max_depth=9, min_samples_split=4, n_estimators=50, score=0.779, total=   0.2s\n",
            "[CV] max_depth=9, min_samples_split=4, n_estimators=50 ...............\n",
            "[CV]  max_depth=9, min_samples_split=4, n_estimators=50, score=0.794, total=   0.2s\n",
            "[CV] max_depth=9, min_samples_split=4, n_estimators=100 ..............\n",
            "[CV]  max_depth=9, min_samples_split=4, n_estimators=100, score=0.752, total=   0.3s\n",
            "[CV] max_depth=9, min_samples_split=4, n_estimators=100 ..............\n",
            "[CV]  max_depth=9, min_samples_split=4, n_estimators=100, score=0.751, total=   0.3s\n",
            "[CV] max_depth=9, min_samples_split=4, n_estimators=100 ..............\n",
            "[CV]  max_depth=9, min_samples_split=4, n_estimators=100, score=0.745, total=   0.4s\n",
            "[CV] max_depth=9, min_samples_split=4, n_estimators=100 ..............\n",
            "[CV]  max_depth=9, min_samples_split=4, n_estimators=100, score=0.777, total=   0.4s\n",
            "[CV] max_depth=9, min_samples_split=4, n_estimators=100 ..............\n",
            "[CV]  max_depth=9, min_samples_split=4, n_estimators=100, score=0.790, total=   0.4s\n",
            "[CV] max_depth=9, min_samples_split=4, n_estimators=150 ..............\n",
            "[CV]  max_depth=9, min_samples_split=4, n_estimators=150, score=0.745, total=   0.5s\n",
            "[CV] max_depth=9, min_samples_split=4, n_estimators=150 ..............\n",
            "[CV]  max_depth=9, min_samples_split=4, n_estimators=150, score=0.740, total=   0.5s\n",
            "[CV] max_depth=9, min_samples_split=4, n_estimators=150 ..............\n",
            "[CV]  max_depth=9, min_samples_split=4, n_estimators=150, score=0.747, total=   0.5s\n",
            "[CV] max_depth=9, min_samples_split=4, n_estimators=150 ..............\n",
            "[CV]  max_depth=9, min_samples_split=4, n_estimators=150, score=0.774, total=   0.5s\n",
            "[CV] max_depth=9, min_samples_split=4, n_estimators=150 ..............\n",
            "[CV]  max_depth=9, min_samples_split=4, n_estimators=150, score=0.799, total=   0.5s\n",
            "[CV] max_depth=9, min_samples_split=8, n_estimators=10 ...............\n",
            "[CV]  max_depth=9, min_samples_split=8, n_estimators=10, score=0.732, total=   0.0s\n",
            "[CV] max_depth=9, min_samples_split=8, n_estimators=10 ...............\n",
            "[CV]  max_depth=9, min_samples_split=8, n_estimators=10, score=0.745, total=   0.0s\n",
            "[CV] max_depth=9, min_samples_split=8, n_estimators=10 ...............\n",
            "[CV]  max_depth=9, min_samples_split=8, n_estimators=10, score=0.736, total=   0.0s\n",
            "[CV] max_depth=9, min_samples_split=8, n_estimators=10 ...............\n",
            "[CV]  max_depth=9, min_samples_split=8, n_estimators=10, score=0.762, total=   0.0s\n",
            "[CV] max_depth=9, min_samples_split=8, n_estimators=10 ...............\n",
            "[CV]  max_depth=9, min_samples_split=8, n_estimators=10, score=0.780, total=   0.0s\n",
            "[CV] max_depth=9, min_samples_split=8, n_estimators=50 ...............\n",
            "[CV]  max_depth=9, min_samples_split=8, n_estimators=50, score=0.759, total=   0.2s\n",
            "[CV] max_depth=9, min_samples_split=8, n_estimators=50 ...............\n",
            "[CV]  max_depth=9, min_samples_split=8, n_estimators=50, score=0.751, total=   0.2s\n",
            "[CV] max_depth=9, min_samples_split=8, n_estimators=50 ...............\n",
            "[CV]  max_depth=9, min_samples_split=8, n_estimators=50, score=0.743, total=   0.2s\n",
            "[CV] max_depth=9, min_samples_split=8, n_estimators=50 ...............\n",
            "[CV]  max_depth=9, min_samples_split=8, n_estimators=50, score=0.776, total=   0.2s\n",
            "[CV] max_depth=9, min_samples_split=8, n_estimators=50 ...............\n",
            "[CV]  max_depth=9, min_samples_split=8, n_estimators=50, score=0.799, total=   0.2s\n",
            "[CV] max_depth=9, min_samples_split=8, n_estimators=100 ..............\n",
            "[CV]  max_depth=9, min_samples_split=8, n_estimators=100, score=0.753, total=   0.4s\n",
            "[CV] max_depth=9, min_samples_split=8, n_estimators=100 ..............\n",
            "[CV]  max_depth=9, min_samples_split=8, n_estimators=100, score=0.763, total=   0.3s\n",
            "[CV] max_depth=9, min_samples_split=8, n_estimators=100 ..............\n",
            "[CV]  max_depth=9, min_samples_split=8, n_estimators=100, score=0.736, total=   0.4s\n",
            "[CV] max_depth=9, min_samples_split=8, n_estimators=100 ..............\n",
            "[CV]  max_depth=9, min_samples_split=8, n_estimators=100, score=0.773, total=   0.4s\n",
            "[CV] max_depth=9, min_samples_split=8, n_estimators=100 ..............\n",
            "[CV]  max_depth=9, min_samples_split=8, n_estimators=100, score=0.797, total=   0.4s\n",
            "[CV] max_depth=9, min_samples_split=8, n_estimators=150 ..............\n",
            "[CV]  max_depth=9, min_samples_split=8, n_estimators=150, score=0.753, total=   0.5s\n",
            "[CV] max_depth=9, min_samples_split=8, n_estimators=150 ..............\n",
            "[CV]  max_depth=9, min_samples_split=8, n_estimators=150, score=0.760, total=   0.5s\n",
            "[CV] max_depth=9, min_samples_split=8, n_estimators=150 ..............\n",
            "[CV]  max_depth=9, min_samples_split=8, n_estimators=150, score=0.748, total=   0.5s\n",
            "[CV] max_depth=9, min_samples_split=8, n_estimators=150 ..............\n",
            "[CV]  max_depth=9, min_samples_split=8, n_estimators=150, score=0.770, total=   0.5s\n",
            "[CV] max_depth=9, min_samples_split=8, n_estimators=150 ..............\n",
            "[CV]  max_depth=9, min_samples_split=8, n_estimators=150, score=0.796, total=   0.5s\n",
            "[CV] max_depth=9, min_samples_split=10, n_estimators=10 ..............\n",
            "[CV]  max_depth=9, min_samples_split=10, n_estimators=10, score=0.758, total=   0.0s\n",
            "[CV] max_depth=9, min_samples_split=10, n_estimators=10 ..............\n",
            "[CV]  max_depth=9, min_samples_split=10, n_estimators=10, score=0.757, total=   0.0s\n",
            "[CV] max_depth=9, min_samples_split=10, n_estimators=10 ..............\n",
            "[CV]  max_depth=9, min_samples_split=10, n_estimators=10, score=0.740, total=   0.0s\n",
            "[CV] max_depth=9, min_samples_split=10, n_estimators=10 ..............\n",
            "[CV]  max_depth=9, min_samples_split=10, n_estimators=10, score=0.748, total=   0.0s\n",
            "[CV] max_depth=9, min_samples_split=10, n_estimators=10 ..............\n",
            "[CV]  max_depth=9, min_samples_split=10, n_estimators=10, score=0.780, total=   0.0s\n",
            "[CV] max_depth=9, min_samples_split=10, n_estimators=50 ..............\n",
            "[CV]  max_depth=9, min_samples_split=10, n_estimators=50, score=0.750, total=   0.2s\n",
            "[CV] max_depth=9, min_samples_split=10, n_estimators=50 ..............\n",
            "[CV]  max_depth=9, min_samples_split=10, n_estimators=50, score=0.754, total=   0.2s\n",
            "[CV] max_depth=9, min_samples_split=10, n_estimators=50 ..............\n",
            "[CV]  max_depth=9, min_samples_split=10, n_estimators=50, score=0.747, total=   0.2s\n",
            "[CV] max_depth=9, min_samples_split=10, n_estimators=50 ..............\n",
            "[CV]  max_depth=9, min_samples_split=10, n_estimators=50, score=0.777, total=   0.2s\n",
            "[CV] max_depth=9, min_samples_split=10, n_estimators=50 ..............\n",
            "[CV]  max_depth=9, min_samples_split=10, n_estimators=50, score=0.796, total=   0.2s\n",
            "[CV] max_depth=9, min_samples_split=10, n_estimators=100 .............\n",
            "[CV]  max_depth=9, min_samples_split=10, n_estimators=100, score=0.744, total=   0.4s\n",
            "[CV] max_depth=9, min_samples_split=10, n_estimators=100 .............\n",
            "[CV]  max_depth=9, min_samples_split=10, n_estimators=100, score=0.747, total=   0.3s\n",
            "[CV] max_depth=9, min_samples_split=10, n_estimators=100 .............\n",
            "[CV]  max_depth=9, min_samples_split=10, n_estimators=100, score=0.739, total=   0.3s\n",
            "[CV] max_depth=9, min_samples_split=10, n_estimators=100 .............\n",
            "[CV]  max_depth=9, min_samples_split=10, n_estimators=100, score=0.770, total=   0.4s\n",
            "[CV] max_depth=9, min_samples_split=10, n_estimators=100 .............\n",
            "[CV]  max_depth=9, min_samples_split=10, n_estimators=100, score=0.793, total=   0.4s\n",
            "[CV] max_depth=9, min_samples_split=10, n_estimators=150 .............\n",
            "[CV]  max_depth=9, min_samples_split=10, n_estimators=150, score=0.755, total=   0.5s\n",
            "[CV] max_depth=9, min_samples_split=10, n_estimators=150 .............\n",
            "[CV]  max_depth=9, min_samples_split=10, n_estimators=150, score=0.753, total=   0.5s\n",
            "[CV] max_depth=9, min_samples_split=10, n_estimators=150 .............\n",
            "[CV]  max_depth=9, min_samples_split=10, n_estimators=150, score=0.745, total=   0.5s\n",
            "[CV] max_depth=9, min_samples_split=10, n_estimators=150 .............\n",
            "[CV]  max_depth=9, min_samples_split=10, n_estimators=150, score=0.774, total=   0.5s\n",
            "[CV] max_depth=9, min_samples_split=10, n_estimators=150 .............\n",
            "[CV]  max_depth=9, min_samples_split=10, n_estimators=150, score=0.802, total=   0.5s\n",
            "[CV] max_depth=9, min_samples_split=12, n_estimators=10 ..............\n",
            "[CV]  max_depth=9, min_samples_split=12, n_estimators=10, score=0.759, total=   0.0s\n",
            "[CV] max_depth=9, min_samples_split=12, n_estimators=10 ..............\n",
            "[CV]  max_depth=9, min_samples_split=12, n_estimators=10, score=0.734, total=   0.0s\n",
            "[CV] max_depth=9, min_samples_split=12, n_estimators=10 ..............\n",
            "[CV]  max_depth=9, min_samples_split=12, n_estimators=10, score=0.731, total=   0.0s\n",
            "[CV] max_depth=9, min_samples_split=12, n_estimators=10 ..............\n",
            "[CV]  max_depth=9, min_samples_split=12, n_estimators=10, score=0.753, total=   0.0s\n",
            "[CV] max_depth=9, min_samples_split=12, n_estimators=10 ..............\n",
            "[CV]  max_depth=9, min_samples_split=12, n_estimators=10, score=0.794, total=   0.0s\n",
            "[CV] max_depth=9, min_samples_split=12, n_estimators=50 ..............\n",
            "[CV]  max_depth=9, min_samples_split=12, n_estimators=50, score=0.753, total=   0.2s\n",
            "[CV] max_depth=9, min_samples_split=12, n_estimators=50 ..............\n",
            "[CV]  max_depth=9, min_samples_split=12, n_estimators=50, score=0.757, total=   0.2s\n",
            "[CV] max_depth=9, min_samples_split=12, n_estimators=50 ..............\n",
            "[CV]  max_depth=9, min_samples_split=12, n_estimators=50, score=0.750, total=   0.2s\n",
            "[CV] max_depth=9, min_samples_split=12, n_estimators=50 ..............\n",
            "[CV]  max_depth=9, min_samples_split=12, n_estimators=50, score=0.771, total=   0.2s\n",
            "[CV] max_depth=9, min_samples_split=12, n_estimators=50 ..............\n",
            "[CV]  max_depth=9, min_samples_split=12, n_estimators=50, score=0.782, total=   0.2s\n",
            "[CV] max_depth=9, min_samples_split=12, n_estimators=100 .............\n",
            "[CV]  max_depth=9, min_samples_split=12, n_estimators=100, score=0.762, total=   0.3s\n",
            "[CV] max_depth=9, min_samples_split=12, n_estimators=100 .............\n",
            "[CV]  max_depth=9, min_samples_split=12, n_estimators=100, score=0.747, total=   0.3s\n",
            "[CV] max_depth=9, min_samples_split=12, n_estimators=100 .............\n",
            "[CV]  max_depth=9, min_samples_split=12, n_estimators=100, score=0.745, total=   0.4s\n",
            "[CV] max_depth=9, min_samples_split=12, n_estimators=100 .............\n",
            "[CV]  max_depth=9, min_samples_split=12, n_estimators=100, score=0.768, total=   0.3s\n",
            "[CV] max_depth=9, min_samples_split=12, n_estimators=100 .............\n",
            "[CV]  max_depth=9, min_samples_split=12, n_estimators=100, score=0.796, total=   0.3s\n",
            "[CV] max_depth=9, min_samples_split=12, n_estimators=150 .............\n",
            "[CV]  max_depth=9, min_samples_split=12, n_estimators=150, score=0.742, total=   0.5s\n",
            "[CV] max_depth=9, min_samples_split=12, n_estimators=150 .............\n",
            "[CV]  max_depth=9, min_samples_split=12, n_estimators=150, score=0.757, total=   0.5s\n",
            "[CV] max_depth=9, min_samples_split=12, n_estimators=150 .............\n",
            "[CV]  max_depth=9, min_samples_split=12, n_estimators=150, score=0.748, total=   0.5s\n",
            "[CV] max_depth=9, min_samples_split=12, n_estimators=150 .............\n",
            "[CV]  max_depth=9, min_samples_split=12, n_estimators=150, score=0.782, total=   0.5s\n",
            "[CV] max_depth=9, min_samples_split=12, n_estimators=150 .............\n",
            "[CV]  max_depth=9, min_samples_split=12, n_estimators=150, score=0.806, total=   0.5s\n",
            "[CV] max_depth=11, min_samples_split=2, n_estimators=10 ..............\n",
            "[CV]  max_depth=11, min_samples_split=2, n_estimators=10, score=0.732, total=   0.0s\n",
            "[CV] max_depth=11, min_samples_split=2, n_estimators=10 ..............\n",
            "[CV]  max_depth=11, min_samples_split=2, n_estimators=10, score=0.734, total=   0.0s\n",
            "[CV] max_depth=11, min_samples_split=2, n_estimators=10 ..............\n",
            "[CV]  max_depth=11, min_samples_split=2, n_estimators=10, score=0.740, total=   0.0s\n",
            "[CV] max_depth=11, min_samples_split=2, n_estimators=10 ..............\n",
            "[CV]  max_depth=11, min_samples_split=2, n_estimators=10, score=0.762, total=   0.0s\n",
            "[CV] max_depth=11, min_samples_split=2, n_estimators=10 ..............\n",
            "[CV]  max_depth=11, min_samples_split=2, n_estimators=10, score=0.750, total=   0.0s\n",
            "[CV] max_depth=11, min_samples_split=2, n_estimators=50 ..............\n",
            "[CV]  max_depth=11, min_samples_split=2, n_estimators=50, score=0.745, total=   0.2s\n",
            "[CV] max_depth=11, min_samples_split=2, n_estimators=50 ..............\n",
            "[CV]  max_depth=11, min_samples_split=2, n_estimators=50, score=0.739, total=   0.2s\n",
            "[CV] max_depth=11, min_samples_split=2, n_estimators=50 ..............\n",
            "[CV]  max_depth=11, min_samples_split=2, n_estimators=50, score=0.745, total=   0.2s\n",
            "[CV] max_depth=11, min_samples_split=2, n_estimators=50 ..............\n",
            "[CV]  max_depth=11, min_samples_split=2, n_estimators=50, score=0.767, total=   0.2s\n",
            "[CV] max_depth=11, min_samples_split=2, n_estimators=50 ..............\n",
            "[CV]  max_depth=11, min_samples_split=2, n_estimators=50, score=0.783, total=   0.2s\n",
            "[CV] max_depth=11, min_samples_split=2, n_estimators=100 .............\n",
            "[CV]  max_depth=11, min_samples_split=2, n_estimators=100, score=0.759, total=   0.4s\n",
            "[CV] max_depth=11, min_samples_split=2, n_estimators=100 .............\n",
            "[CV]  max_depth=11, min_samples_split=2, n_estimators=100, score=0.750, total=   0.4s\n",
            "[CV] max_depth=11, min_samples_split=2, n_estimators=100 .............\n",
            "[CV]  max_depth=11, min_samples_split=2, n_estimators=100, score=0.751, total=   0.4s\n",
            "[CV] max_depth=11, min_samples_split=2, n_estimators=100 .............\n",
            "[CV]  max_depth=11, min_samples_split=2, n_estimators=100, score=0.765, total=   0.4s\n",
            "[CV] max_depth=11, min_samples_split=2, n_estimators=100 .............\n",
            "[CV]  max_depth=11, min_samples_split=2, n_estimators=100, score=0.786, total=   0.4s\n",
            "[CV] max_depth=11, min_samples_split=2, n_estimators=150 .............\n",
            "[CV]  max_depth=11, min_samples_split=2, n_estimators=150, score=0.748, total=   0.6s\n",
            "[CV] max_depth=11, min_samples_split=2, n_estimators=150 .............\n",
            "[CV]  max_depth=11, min_samples_split=2, n_estimators=150, score=0.739, total=   0.6s\n",
            "[CV] max_depth=11, min_samples_split=2, n_estimators=150 .............\n",
            "[CV]  max_depth=11, min_samples_split=2, n_estimators=150, score=0.745, total=   0.6s\n",
            "[CV] max_depth=11, min_samples_split=2, n_estimators=150 .............\n",
            "[CV]  max_depth=11, min_samples_split=2, n_estimators=150, score=0.785, total=   0.6s\n",
            "[CV] max_depth=11, min_samples_split=2, n_estimators=150 .............\n",
            "[CV]  max_depth=11, min_samples_split=2, n_estimators=150, score=0.790, total=   0.6s\n",
            "[CV] max_depth=11, min_samples_split=4, n_estimators=10 ..............\n",
            "[CV]  max_depth=11, min_samples_split=4, n_estimators=10, score=0.730, total=   0.0s\n",
            "[CV] max_depth=11, min_samples_split=4, n_estimators=10 ..............\n",
            "[CV]  max_depth=11, min_samples_split=4, n_estimators=10, score=0.759, total=   0.0s\n",
            "[CV] max_depth=11, min_samples_split=4, n_estimators=10 ..............\n",
            "[CV]  max_depth=11, min_samples_split=4, n_estimators=10, score=0.731, total=   0.0s\n",
            "[CV] max_depth=11, min_samples_split=4, n_estimators=10 ..............\n",
            "[CV]  max_depth=11, min_samples_split=4, n_estimators=10, score=0.771, total=   0.0s\n",
            "[CV] max_depth=11, min_samples_split=4, n_estimators=10 ..............\n",
            "[CV]  max_depth=11, min_samples_split=4, n_estimators=10, score=0.776, total=   0.0s\n",
            "[CV] max_depth=11, min_samples_split=4, n_estimators=50 ..............\n",
            "[CV]  max_depth=11, min_samples_split=4, n_estimators=50, score=0.742, total=   0.2s\n",
            "[CV] max_depth=11, min_samples_split=4, n_estimators=50 ..............\n",
            "[CV]  max_depth=11, min_samples_split=4, n_estimators=50, score=0.739, total=   0.2s\n",
            "[CV] max_depth=11, min_samples_split=4, n_estimators=50 ..............\n",
            "[CV]  max_depth=11, min_samples_split=4, n_estimators=50, score=0.747, total=   0.2s\n",
            "[CV] max_depth=11, min_samples_split=4, n_estimators=50 ..............\n",
            "[CV]  max_depth=11, min_samples_split=4, n_estimators=50, score=0.763, total=   0.2s\n",
            "[CV] max_depth=11, min_samples_split=4, n_estimators=50 ..............\n",
            "[CV]  max_depth=11, min_samples_split=4, n_estimators=50, score=0.786, total=   0.2s\n",
            "[CV] max_depth=11, min_samples_split=4, n_estimators=100 .............\n",
            "[CV]  max_depth=11, min_samples_split=4, n_estimators=100, score=0.752, total=   0.4s\n",
            "[CV] max_depth=11, min_samples_split=4, n_estimators=100 .............\n",
            "[CV]  max_depth=11, min_samples_split=4, n_estimators=100, score=0.733, total=   0.4s\n",
            "[CV] max_depth=11, min_samples_split=4, n_estimators=100 .............\n",
            "[CV]  max_depth=11, min_samples_split=4, n_estimators=100, score=0.745, total=   0.4s\n",
            "[CV] max_depth=11, min_samples_split=4, n_estimators=100 .............\n",
            "[CV]  max_depth=11, min_samples_split=4, n_estimators=100, score=0.779, total=   0.4s\n",
            "[CV] max_depth=11, min_samples_split=4, n_estimators=100 .............\n",
            "[CV]  max_depth=11, min_samples_split=4, n_estimators=100, score=0.788, total=   0.4s\n",
            "[CV] max_depth=11, min_samples_split=4, n_estimators=150 .............\n",
            "[CV]  max_depth=11, min_samples_split=4, n_estimators=150, score=0.755, total=   0.6s\n",
            "[CV] max_depth=11, min_samples_split=4, n_estimators=150 .............\n",
            "[CV]  max_depth=11, min_samples_split=4, n_estimators=150, score=0.739, total=   0.6s\n",
            "[CV] max_depth=11, min_samples_split=4, n_estimators=150 .............\n",
            "[CV]  max_depth=11, min_samples_split=4, n_estimators=150, score=0.739, total=   0.6s\n",
            "[CV] max_depth=11, min_samples_split=4, n_estimators=150 .............\n",
            "[CV]  max_depth=11, min_samples_split=4, n_estimators=150, score=0.776, total=   0.6s\n",
            "[CV] max_depth=11, min_samples_split=4, n_estimators=150 .............\n",
            "[CV]  max_depth=11, min_samples_split=4, n_estimators=150, score=0.790, total=   0.6s\n",
            "[CV] max_depth=11, min_samples_split=8, n_estimators=10 ..............\n",
            "[CV]  max_depth=11, min_samples_split=8, n_estimators=10, score=0.745, total=   0.0s\n",
            "[CV] max_depth=11, min_samples_split=8, n_estimators=10 ..............\n",
            "[CV]  max_depth=11, min_samples_split=8, n_estimators=10, score=0.750, total=   0.0s\n",
            "[CV] max_depth=11, min_samples_split=8, n_estimators=10 ..............\n",
            "[CV]  max_depth=11, min_samples_split=8, n_estimators=10, score=0.724, total=   0.0s\n",
            "[CV] max_depth=11, min_samples_split=8, n_estimators=10 ..............\n",
            "[CV]  max_depth=11, min_samples_split=8, n_estimators=10, score=0.740, total=   0.0s\n",
            "[CV] max_depth=11, min_samples_split=8, n_estimators=10 ..............\n",
            "[CV]  max_depth=11, min_samples_split=8, n_estimators=10, score=0.790, total=   0.0s\n",
            "[CV] max_depth=11, min_samples_split=8, n_estimators=50 ..............\n",
            "[CV]  max_depth=11, min_samples_split=8, n_estimators=50, score=0.761, total=   0.2s\n",
            "[CV] max_depth=11, min_samples_split=8, n_estimators=50 ..............\n",
            "[CV]  max_depth=11, min_samples_split=8, n_estimators=50, score=0.745, total=   0.2s\n",
            "[CV] max_depth=11, min_samples_split=8, n_estimators=50 ..............\n",
            "[CV]  max_depth=11, min_samples_split=8, n_estimators=50, score=0.736, total=   0.2s\n",
            "[CV] max_depth=11, min_samples_split=8, n_estimators=50 ..............\n",
            "[CV]  max_depth=11, min_samples_split=8, n_estimators=50, score=0.767, total=   0.2s\n",
            "[CV] max_depth=11, min_samples_split=8, n_estimators=50 ..............\n",
            "[CV]  max_depth=11, min_samples_split=8, n_estimators=50, score=0.786, total=   0.2s\n",
            "[CV] max_depth=11, min_samples_split=8, n_estimators=100 .............\n",
            "[CV]  max_depth=11, min_samples_split=8, n_estimators=100, score=0.750, total=   0.4s\n",
            "[CV] max_depth=11, min_samples_split=8, n_estimators=100 .............\n",
            "[CV]  max_depth=11, min_samples_split=8, n_estimators=100, score=0.739, total=   0.4s\n",
            "[CV] max_depth=11, min_samples_split=8, n_estimators=100 .............\n",
            "[CV]  max_depth=11, min_samples_split=8, n_estimators=100, score=0.734, total=   0.4s\n",
            "[CV] max_depth=11, min_samples_split=8, n_estimators=100 .............\n",
            "[CV]  max_depth=11, min_samples_split=8, n_estimators=100, score=0.774, total=   0.4s\n",
            "[CV] max_depth=11, min_samples_split=8, n_estimators=100 .............\n",
            "[CV]  max_depth=11, min_samples_split=8, n_estimators=100, score=0.796, total=   0.4s\n",
            "[CV] max_depth=11, min_samples_split=8, n_estimators=150 .............\n",
            "[CV]  max_depth=11, min_samples_split=8, n_estimators=150, score=0.750, total=   0.5s\n",
            "[CV] max_depth=11, min_samples_split=8, n_estimators=150 .............\n",
            "[CV]  max_depth=11, min_samples_split=8, n_estimators=150, score=0.751, total=   0.6s\n",
            "[CV] max_depth=11, min_samples_split=8, n_estimators=150 .............\n",
            "[CV]  max_depth=11, min_samples_split=8, n_estimators=150, score=0.748, total=   0.6s\n",
            "[CV] max_depth=11, min_samples_split=8, n_estimators=150 .............\n",
            "[CV]  max_depth=11, min_samples_split=8, n_estimators=150, score=0.776, total=   0.6s\n",
            "[CV] max_depth=11, min_samples_split=8, n_estimators=150 .............\n",
            "[CV]  max_depth=11, min_samples_split=8, n_estimators=150, score=0.806, total=   0.6s\n",
            "[CV] max_depth=11, min_samples_split=10, n_estimators=10 .............\n",
            "[CV]  max_depth=11, min_samples_split=10, n_estimators=10, score=0.756, total=   0.0s\n",
            "[CV] max_depth=11, min_samples_split=10, n_estimators=10 .............\n",
            "[CV]  max_depth=11, min_samples_split=10, n_estimators=10, score=0.748, total=   0.0s\n",
            "[CV] max_depth=11, min_samples_split=10, n_estimators=10 .............\n",
            "[CV]  max_depth=11, min_samples_split=10, n_estimators=10, score=0.745, total=   0.0s\n",
            "[CV] max_depth=11, min_samples_split=10, n_estimators=10 .............\n",
            "[CV]  max_depth=11, min_samples_split=10, n_estimators=10, score=0.754, total=   0.0s\n",
            "[CV] max_depth=11, min_samples_split=10, n_estimators=10 .............\n",
            "[CV]  max_depth=11, min_samples_split=10, n_estimators=10, score=0.774, total=   0.0s\n",
            "[CV] max_depth=11, min_samples_split=10, n_estimators=50 .............\n",
            "[CV]  max_depth=11, min_samples_split=10, n_estimators=50, score=0.758, total=   0.2s\n",
            "[CV] max_depth=11, min_samples_split=10, n_estimators=50 .............\n",
            "[CV]  max_depth=11, min_samples_split=10, n_estimators=50, score=0.737, total=   0.2s\n",
            "[CV] max_depth=11, min_samples_split=10, n_estimators=50 .............\n",
            "[CV]  max_depth=11, min_samples_split=10, n_estimators=50, score=0.747, total=   0.2s\n",
            "[CV] max_depth=11, min_samples_split=10, n_estimators=50 .............\n",
            "[CV]  max_depth=11, min_samples_split=10, n_estimators=50, score=0.771, total=   0.2s\n",
            "[CV] max_depth=11, min_samples_split=10, n_estimators=50 .............\n",
            "[CV]  max_depth=11, min_samples_split=10, n_estimators=50, score=0.770, total=   0.2s\n",
            "[CV] max_depth=11, min_samples_split=10, n_estimators=100 ............\n",
            "[CV]  max_depth=11, min_samples_split=10, n_estimators=100, score=0.758, total=   0.4s\n",
            "[CV] max_depth=11, min_samples_split=10, n_estimators=100 ............\n",
            "[CV]  max_depth=11, min_samples_split=10, n_estimators=100, score=0.743, total=   0.4s\n",
            "[CV] max_depth=11, min_samples_split=10, n_estimators=100 ............\n",
            "[CV]  max_depth=11, min_samples_split=10, n_estimators=100, score=0.747, total=   0.4s\n",
            "[CV] max_depth=11, min_samples_split=10, n_estimators=100 ............\n",
            "[CV]  max_depth=11, min_samples_split=10, n_estimators=100, score=0.773, total=   0.4s\n",
            "[CV] max_depth=11, min_samples_split=10, n_estimators=100 ............\n",
            "[CV]  max_depth=11, min_samples_split=10, n_estimators=100, score=0.794, total=   0.4s\n",
            "[CV] max_depth=11, min_samples_split=10, n_estimators=150 ............\n",
            "[CV]  max_depth=11, min_samples_split=10, n_estimators=150, score=0.759, total=   0.6s\n",
            "[CV] max_depth=11, min_samples_split=10, n_estimators=150 ............\n",
            "[CV]  max_depth=11, min_samples_split=10, n_estimators=150, score=0.747, total=   0.5s\n",
            "[CV] max_depth=11, min_samples_split=10, n_estimators=150 ............\n",
            "[CV]  max_depth=11, min_samples_split=10, n_estimators=150, score=0.747, total=   0.6s\n",
            "[CV] max_depth=11, min_samples_split=10, n_estimators=150 ............\n",
            "[CV]  max_depth=11, min_samples_split=10, n_estimators=150, score=0.776, total=   0.6s\n",
            "[CV] max_depth=11, min_samples_split=10, n_estimators=150 ............\n",
            "[CV]  max_depth=11, min_samples_split=10, n_estimators=150, score=0.793, total=   0.6s\n",
            "[CV] max_depth=11, min_samples_split=12, n_estimators=10 .............\n",
            "[CV]  max_depth=11, min_samples_split=12, n_estimators=10, score=0.733, total=   0.0s\n",
            "[CV] max_depth=11, min_samples_split=12, n_estimators=10 .............\n",
            "[CV]  max_depth=11, min_samples_split=12, n_estimators=10, score=0.734, total=   0.0s\n",
            "[CV] max_depth=11, min_samples_split=12, n_estimators=10 .............\n",
            "[CV]  max_depth=11, min_samples_split=12, n_estimators=10, score=0.742, total=   0.0s\n",
            "[CV] max_depth=11, min_samples_split=12, n_estimators=10 .............\n",
            "[CV]  max_depth=11, min_samples_split=12, n_estimators=10, score=0.748, total=   0.0s\n",
            "[CV] max_depth=11, min_samples_split=12, n_estimators=10 .............\n",
            "[CV]  max_depth=11, min_samples_split=12, n_estimators=10, score=0.785, total=   0.0s\n",
            "[CV] max_depth=11, min_samples_split=12, n_estimators=50 .............\n",
            "[CV]  max_depth=11, min_samples_split=12, n_estimators=50, score=0.762, total=   0.2s\n",
            "[CV] max_depth=11, min_samples_split=12, n_estimators=50 .............\n",
            "[CV]  max_depth=11, min_samples_split=12, n_estimators=50, score=0.750, total=   0.2s\n",
            "[CV] max_depth=11, min_samples_split=12, n_estimators=50 .............\n",
            "[CV]  max_depth=11, min_samples_split=12, n_estimators=50, score=0.742, total=   0.2s\n",
            "[CV] max_depth=11, min_samples_split=12, n_estimators=50 .............\n",
            "[CV]  max_depth=11, min_samples_split=12, n_estimators=50, score=0.774, total=   0.2s\n",
            "[CV] max_depth=11, min_samples_split=12, n_estimators=50 .............\n",
            "[CV]  max_depth=11, min_samples_split=12, n_estimators=50, score=0.783, total=   0.2s\n",
            "[CV] max_depth=11, min_samples_split=12, n_estimators=100 ............\n",
            "[CV]  max_depth=11, min_samples_split=12, n_estimators=100, score=0.759, total=   0.4s\n",
            "[CV] max_depth=11, min_samples_split=12, n_estimators=100 ............\n",
            "[CV]  max_depth=11, min_samples_split=12, n_estimators=100, score=0.743, total=   0.4s\n",
            "[CV] max_depth=11, min_samples_split=12, n_estimators=100 ............\n",
            "[CV]  max_depth=11, min_samples_split=12, n_estimators=100, score=0.739, total=   0.4s\n",
            "[CV] max_depth=11, min_samples_split=12, n_estimators=100 ............\n",
            "[CV]  max_depth=11, min_samples_split=12, n_estimators=100, score=0.777, total=   0.4s\n",
            "[CV] max_depth=11, min_samples_split=12, n_estimators=100 ............\n",
            "[CV]  max_depth=11, min_samples_split=12, n_estimators=100, score=0.794, total=   0.4s\n",
            "[CV] max_depth=11, min_samples_split=12, n_estimators=150 ............\n",
            "[CV]  max_depth=11, min_samples_split=12, n_estimators=150, score=0.748, total=   0.5s\n",
            "[CV] max_depth=11, min_samples_split=12, n_estimators=150 ............\n",
            "[CV]  max_depth=11, min_samples_split=12, n_estimators=150, score=0.734, total=   0.6s\n",
            "[CV] max_depth=11, min_samples_split=12, n_estimators=150 ............\n",
            "[CV]  max_depth=11, min_samples_split=12, n_estimators=150, score=0.739, total=   0.5s\n",
            "[CV] max_depth=11, min_samples_split=12, n_estimators=150 ............\n",
            "[CV]  max_depth=11, min_samples_split=12, n_estimators=150, score=0.765, total=   0.5s\n",
            "[CV] max_depth=11, min_samples_split=12, n_estimators=150 ............\n",
            "[CV]  max_depth=11, min_samples_split=12, n_estimators=150, score=0.797, total=   0.5s\n",
            "[CV] max_depth=None, min_samples_split=2, n_estimators=10 ............\n",
            "[CV]  max_depth=None, min_samples_split=2, n_estimators=10, score=0.741, total=   0.0s\n",
            "[CV] max_depth=None, min_samples_split=2, n_estimators=10 ............\n",
            "[CV]  max_depth=None, min_samples_split=2, n_estimators=10, score=0.717, total=   0.0s\n",
            "[CV] max_depth=None, min_samples_split=2, n_estimators=10 ............\n",
            "[CV]  max_depth=None, min_samples_split=2, n_estimators=10, score=0.730, total=   0.0s\n",
            "[CV] max_depth=None, min_samples_split=2, n_estimators=10 ............\n",
            "[CV]  max_depth=None, min_samples_split=2, n_estimators=10, score=0.751, total=   0.0s\n",
            "[CV] max_depth=None, min_samples_split=2, n_estimators=10 ............\n",
            "[CV]  max_depth=None, min_samples_split=2, n_estimators=10, score=0.742, total=   0.0s\n",
            "[CV] max_depth=None, min_samples_split=2, n_estimators=50 ............\n",
            "[CV]  max_depth=None, min_samples_split=2, n_estimators=50, score=0.727, total=   0.2s\n",
            "[CV] max_depth=None, min_samples_split=2, n_estimators=50 ............\n",
            "[CV]  max_depth=None, min_samples_split=2, n_estimators=50, score=0.740, total=   0.2s\n",
            "[CV] max_depth=None, min_samples_split=2, n_estimators=50 ............\n",
            "[CV]  max_depth=None, min_samples_split=2, n_estimators=50, score=0.742, total=   0.2s\n",
            "[CV] max_depth=None, min_samples_split=2, n_estimators=50 ............\n",
            "[CV]  max_depth=None, min_samples_split=2, n_estimators=50, score=0.765, total=   0.2s\n",
            "[CV] max_depth=None, min_samples_split=2, n_estimators=50 ............\n",
            "[CV]  max_depth=None, min_samples_split=2, n_estimators=50, score=0.786, total=   0.2s\n",
            "[CV] max_depth=None, min_samples_split=2, n_estimators=100 ...........\n",
            "[CV]  max_depth=None, min_samples_split=2, n_estimators=100, score=0.755, total=   0.4s\n",
            "[CV] max_depth=None, min_samples_split=2, n_estimators=100 ...........\n",
            "[CV]  max_depth=None, min_samples_split=2, n_estimators=100, score=0.748, total=   0.4s\n",
            "[CV] max_depth=None, min_samples_split=2, n_estimators=100 ...........\n",
            "[CV]  max_depth=None, min_samples_split=2, n_estimators=100, score=0.743, total=   0.4s\n",
            "[CV] max_depth=None, min_samples_split=2, n_estimators=100 ...........\n",
            "[CV]  max_depth=None, min_samples_split=2, n_estimators=100, score=0.785, total=   0.4s\n",
            "[CV] max_depth=None, min_samples_split=2, n_estimators=100 ...........\n",
            "[CV]  max_depth=None, min_samples_split=2, n_estimators=100, score=0.788, total=   0.4s\n",
            "[CV] max_depth=None, min_samples_split=2, n_estimators=150 ...........\n",
            "[CV]  max_depth=None, min_samples_split=2, n_estimators=150, score=0.739, total=   0.6s\n",
            "[CV] max_depth=None, min_samples_split=2, n_estimators=150 ...........\n",
            "[CV]  max_depth=None, min_samples_split=2, n_estimators=150, score=0.728, total=   0.6s\n",
            "[CV] max_depth=None, min_samples_split=2, n_estimators=150 ...........\n",
            "[CV]  max_depth=None, min_samples_split=2, n_estimators=150, score=0.734, total=   0.6s\n",
            "[CV] max_depth=None, min_samples_split=2, n_estimators=150 ...........\n",
            "[CV]  max_depth=None, min_samples_split=2, n_estimators=150, score=0.771, total=   0.6s\n",
            "[CV] max_depth=None, min_samples_split=2, n_estimators=150 ...........\n",
            "[CV]  max_depth=None, min_samples_split=2, n_estimators=150, score=0.782, total=   0.6s\n",
            "[CV] max_depth=None, min_samples_split=4, n_estimators=10 ............\n",
            "[CV]  max_depth=None, min_samples_split=4, n_estimators=10, score=0.739, total=   0.0s\n",
            "[CV] max_depth=None, min_samples_split=4, n_estimators=10 ............\n",
            "[CV]  max_depth=None, min_samples_split=4, n_estimators=10, score=0.710, total=   0.0s\n",
            "[CV] max_depth=None, min_samples_split=4, n_estimators=10 ............\n",
            "[CV]  max_depth=None, min_samples_split=4, n_estimators=10, score=0.727, total=   0.0s\n",
            "[CV] max_depth=None, min_samples_split=4, n_estimators=10 ............\n",
            "[CV]  max_depth=None, min_samples_split=4, n_estimators=10, score=0.743, total=   0.0s\n",
            "[CV] max_depth=None, min_samples_split=4, n_estimators=10 ............\n",
            "[CV]  max_depth=None, min_samples_split=4, n_estimators=10, score=0.767, total=   0.0s\n",
            "[CV] max_depth=None, min_samples_split=4, n_estimators=50 ............\n",
            "[CV]  max_depth=None, min_samples_split=4, n_estimators=50, score=0.753, total=   0.2s\n",
            "[CV] max_depth=None, min_samples_split=4, n_estimators=50 ............\n",
            "[CV]  max_depth=None, min_samples_split=4, n_estimators=50, score=0.737, total=   0.2s\n",
            "[CV] max_depth=None, min_samples_split=4, n_estimators=50 ............\n",
            "[CV]  max_depth=None, min_samples_split=4, n_estimators=50, score=0.740, total=   0.2s\n",
            "[CV] max_depth=None, min_samples_split=4, n_estimators=50 ............\n",
            "[CV]  max_depth=None, min_samples_split=4, n_estimators=50, score=0.768, total=   0.2s\n",
            "[CV] max_depth=None, min_samples_split=4, n_estimators=50 ............\n",
            "[CV]  max_depth=None, min_samples_split=4, n_estimators=50, score=0.783, total=   0.2s\n",
            "[CV] max_depth=None, min_samples_split=4, n_estimators=100 ...........\n",
            "[CV]  max_depth=None, min_samples_split=4, n_estimators=100, score=0.752, total=   0.4s\n",
            "[CV] max_depth=None, min_samples_split=4, n_estimators=100 ...........\n",
            "[CV]  max_depth=None, min_samples_split=4, n_estimators=100, score=0.739, total=   0.4s\n",
            "[CV] max_depth=None, min_samples_split=4, n_estimators=100 ...........\n",
            "[CV]  max_depth=None, min_samples_split=4, n_estimators=100, score=0.739, total=   0.4s\n",
            "[CV] max_depth=None, min_samples_split=4, n_estimators=100 ...........\n",
            "[CV]  max_depth=None, min_samples_split=4, n_estimators=100, score=0.771, total=   0.4s\n",
            "[CV] max_depth=None, min_samples_split=4, n_estimators=100 ...........\n",
            "[CV]  max_depth=None, min_samples_split=4, n_estimators=100, score=0.786, total=   0.4s\n",
            "[CV] max_depth=None, min_samples_split=4, n_estimators=150 ...........\n",
            "[CV]  max_depth=None, min_samples_split=4, n_estimators=150, score=0.755, total=   0.6s\n",
            "[CV] max_depth=None, min_samples_split=4, n_estimators=150 ...........\n",
            "[CV]  max_depth=None, min_samples_split=4, n_estimators=150, score=0.730, total=   0.6s\n",
            "[CV] max_depth=None, min_samples_split=4, n_estimators=150 ...........\n",
            "[CV]  max_depth=None, min_samples_split=4, n_estimators=150, score=0.737, total=   0.6s\n",
            "[CV] max_depth=None, min_samples_split=4, n_estimators=150 ...........\n",
            "[CV]  max_depth=None, min_samples_split=4, n_estimators=150, score=0.780, total=   0.6s\n",
            "[CV] max_depth=None, min_samples_split=4, n_estimators=150 ...........\n",
            "[CV]  max_depth=None, min_samples_split=4, n_estimators=150, score=0.791, total=   0.6s\n",
            "[CV] max_depth=None, min_samples_split=8, n_estimators=10 ............\n",
            "[CV]  max_depth=None, min_samples_split=8, n_estimators=10, score=0.748, total=   0.0s\n",
            "[CV] max_depth=None, min_samples_split=8, n_estimators=10 ............\n",
            "[CV]  max_depth=None, min_samples_split=8, n_estimators=10, score=0.720, total=   0.0s\n",
            "[CV] max_depth=None, min_samples_split=8, n_estimators=10 ............\n",
            "[CV]  max_depth=None, min_samples_split=8, n_estimators=10, score=0.731, total=   0.0s\n",
            "[CV] max_depth=None, min_samples_split=8, n_estimators=10 ............\n",
            "[CV]  max_depth=None, min_samples_split=8, n_estimators=10, score=0.748, total=   0.0s\n",
            "[CV] max_depth=None, min_samples_split=8, n_estimators=10 ............\n",
            "[CV]  max_depth=None, min_samples_split=8, n_estimators=10, score=0.783, total=   0.0s\n",
            "[CV] max_depth=None, min_samples_split=8, n_estimators=50 ............\n",
            "[CV]  max_depth=None, min_samples_split=8, n_estimators=50, score=0.753, total=   0.2s\n",
            "[CV] max_depth=None, min_samples_split=8, n_estimators=50 ............\n",
            "[CV]  max_depth=None, min_samples_split=8, n_estimators=50, score=0.748, total=   0.2s\n",
            "[CV] max_depth=None, min_samples_split=8, n_estimators=50 ............\n",
            "[CV]  max_depth=None, min_samples_split=8, n_estimators=50, score=0.750, total=   0.2s\n",
            "[CV] max_depth=None, min_samples_split=8, n_estimators=50 ............\n",
            "[CV]  max_depth=None, min_samples_split=8, n_estimators=50, score=0.773, total=   0.2s\n",
            "[CV] max_depth=None, min_samples_split=8, n_estimators=50 ............\n",
            "[CV]  max_depth=None, min_samples_split=8, n_estimators=50, score=0.794, total=   0.2s\n",
            "[CV] max_depth=None, min_samples_split=8, n_estimators=100 ...........\n",
            "[CV]  max_depth=None, min_samples_split=8, n_estimators=100, score=0.745, total=   0.4s\n",
            "[CV] max_depth=None, min_samples_split=8, n_estimators=100 ...........\n",
            "[CV]  max_depth=None, min_samples_split=8, n_estimators=100, score=0.751, total=   0.4s\n",
            "[CV] max_depth=None, min_samples_split=8, n_estimators=100 ...........\n",
            "[CV]  max_depth=None, min_samples_split=8, n_estimators=100, score=0.737, total=   0.4s\n",
            "[CV] max_depth=None, min_samples_split=8, n_estimators=100 ...........\n",
            "[CV]  max_depth=None, min_samples_split=8, n_estimators=100, score=0.760, total=   0.4s\n",
            "[CV] max_depth=None, min_samples_split=8, n_estimators=100 ...........\n",
            "[CV]  max_depth=None, min_samples_split=8, n_estimators=100, score=0.786, total=   0.4s\n",
            "[CV] max_depth=None, min_samples_split=8, n_estimators=150 ...........\n",
            "[CV]  max_depth=None, min_samples_split=8, n_estimators=150, score=0.748, total=   0.6s\n",
            "[CV] max_depth=None, min_samples_split=8, n_estimators=150 ...........\n",
            "[CV]  max_depth=None, min_samples_split=8, n_estimators=150, score=0.748, total=   0.6s\n",
            "[CV] max_depth=None, min_samples_split=8, n_estimators=150 ...........\n",
            "[CV]  max_depth=None, min_samples_split=8, n_estimators=150, score=0.733, total=   0.6s\n",
            "[CV] max_depth=None, min_samples_split=8, n_estimators=150 ...........\n",
            "[CV]  max_depth=None, min_samples_split=8, n_estimators=150, score=0.777, total=   0.6s\n",
            "[CV] max_depth=None, min_samples_split=8, n_estimators=150 ...........\n",
            "[CV]  max_depth=None, min_samples_split=8, n_estimators=150, score=0.783, total=   0.6s\n",
            "[CV] max_depth=None, min_samples_split=10, n_estimators=10 ...........\n",
            "[CV]  max_depth=None, min_samples_split=10, n_estimators=10, score=0.729, total=   0.0s\n",
            "[CV] max_depth=None, min_samples_split=10, n_estimators=10 ...........\n",
            "[CV]  max_depth=None, min_samples_split=10, n_estimators=10, score=0.739, total=   0.0s\n",
            "[CV] max_depth=None, min_samples_split=10, n_estimators=10 ...........\n",
            "[CV]  max_depth=None, min_samples_split=10, n_estimators=10, score=0.719, total=   0.0s\n",
            "[CV] max_depth=None, min_samples_split=10, n_estimators=10 ...........\n",
            "[CV]  max_depth=None, min_samples_split=10, n_estimators=10, score=0.748, total=   0.0s\n",
            "[CV] max_depth=None, min_samples_split=10, n_estimators=10 ...........\n",
            "[CV]  max_depth=None, min_samples_split=10, n_estimators=10, score=0.762, total=   0.1s\n",
            "[CV] max_depth=None, min_samples_split=10, n_estimators=50 ...........\n",
            "[CV]  max_depth=None, min_samples_split=10, n_estimators=50, score=0.770, total=   0.2s\n",
            "[CV] max_depth=None, min_samples_split=10, n_estimators=50 ...........\n",
            "[CV]  max_depth=None, min_samples_split=10, n_estimators=50, score=0.740, total=   0.2s\n",
            "[CV] max_depth=None, min_samples_split=10, n_estimators=50 ...........\n",
            "[CV]  max_depth=None, min_samples_split=10, n_estimators=50, score=0.724, total=   0.2s\n",
            "[CV] max_depth=None, min_samples_split=10, n_estimators=50 ...........\n",
            "[CV]  max_depth=None, min_samples_split=10, n_estimators=50, score=0.773, total=   0.2s\n",
            "[CV] max_depth=None, min_samples_split=10, n_estimators=50 ...........\n",
            "[CV]  max_depth=None, min_samples_split=10, n_estimators=50, score=0.782, total=   0.2s\n",
            "[CV] max_depth=None, min_samples_split=10, n_estimators=100 ..........\n",
            "[CV]  max_depth=None, min_samples_split=10, n_estimators=100, score=0.756, total=   0.4s\n",
            "[CV] max_depth=None, min_samples_split=10, n_estimators=100 ..........\n",
            "[CV]  max_depth=None, min_samples_split=10, n_estimators=100, score=0.751, total=   0.4s\n",
            "[CV] max_depth=None, min_samples_split=10, n_estimators=100 ..........\n",
            "[CV]  max_depth=None, min_samples_split=10, n_estimators=100, score=0.745, total=   0.4s\n",
            "[CV] max_depth=None, min_samples_split=10, n_estimators=100 ..........\n",
            "[CV]  max_depth=None, min_samples_split=10, n_estimators=100, score=0.779, total=   0.4s\n",
            "[CV] max_depth=None, min_samples_split=10, n_estimators=100 ..........\n",
            "[CV]  max_depth=None, min_samples_split=10, n_estimators=100, score=0.790, total=   0.4s\n",
            "[CV] max_depth=None, min_samples_split=10, n_estimators=150 ..........\n",
            "[CV]  max_depth=None, min_samples_split=10, n_estimators=150, score=0.750, total=   0.6s\n",
            "[CV] max_depth=None, min_samples_split=10, n_estimators=150 ..........\n",
            "[CV]  max_depth=None, min_samples_split=10, n_estimators=150, score=0.739, total=   0.6s\n",
            "[CV] max_depth=None, min_samples_split=10, n_estimators=150 ..........\n",
            "[CV]  max_depth=None, min_samples_split=10, n_estimators=150, score=0.743, total=   0.6s\n",
            "[CV] max_depth=None, min_samples_split=10, n_estimators=150 ..........\n",
            "[CV]  max_depth=None, min_samples_split=10, n_estimators=150, score=0.773, total=   0.6s\n",
            "[CV] max_depth=None, min_samples_split=10, n_estimators=150 ..........\n",
            "[CV]  max_depth=None, min_samples_split=10, n_estimators=150, score=0.794, total=   0.6s\n",
            "[CV] max_depth=None, min_samples_split=12, n_estimators=10 ...........\n",
            "[CV]  max_depth=None, min_samples_split=12, n_estimators=10, score=0.752, total=   0.0s\n",
            "[CV] max_depth=None, min_samples_split=12, n_estimators=10 ...........\n",
            "[CV]  max_depth=None, min_samples_split=12, n_estimators=10, score=0.736, total=   0.1s\n",
            "[CV] max_depth=None, min_samples_split=12, n_estimators=10 ...........\n",
            "[CV]  max_depth=None, min_samples_split=12, n_estimators=10, score=0.728, total=   0.0s\n",
            "[CV] max_depth=None, min_samples_split=12, n_estimators=10 ...........\n",
            "[CV]  max_depth=None, min_samples_split=12, n_estimators=10, score=0.750, total=   0.0s\n",
            "[CV] max_depth=None, min_samples_split=12, n_estimators=10 ...........\n",
            "[CV]  max_depth=None, min_samples_split=12, n_estimators=10, score=0.777, total=   0.0s\n",
            "[CV] max_depth=None, min_samples_split=12, n_estimators=50 ...........\n",
            "[CV]  max_depth=None, min_samples_split=12, n_estimators=50, score=0.755, total=   0.2s\n",
            "[CV] max_depth=None, min_samples_split=12, n_estimators=50 ...........\n",
            "[CV]  max_depth=None, min_samples_split=12, n_estimators=50, score=0.742, total=   0.2s\n",
            "[CV] max_depth=None, min_samples_split=12, n_estimators=50 ...........\n",
            "[CV]  max_depth=None, min_samples_split=12, n_estimators=50, score=0.742, total=   0.2s\n",
            "[CV] max_depth=None, min_samples_split=12, n_estimators=50 ...........\n",
            "[CV]  max_depth=None, min_samples_split=12, n_estimators=50, score=0.770, total=   0.2s\n",
            "[CV] max_depth=None, min_samples_split=12, n_estimators=50 ...........\n",
            "[CV]  max_depth=None, min_samples_split=12, n_estimators=50, score=0.790, total=   0.2s\n",
            "[CV] max_depth=None, min_samples_split=12, n_estimators=100 ..........\n",
            "[CV]  max_depth=None, min_samples_split=12, n_estimators=100, score=0.748, total=   0.4s\n",
            "[CV] max_depth=None, min_samples_split=12, n_estimators=100 ..........\n",
            "[CV]  max_depth=None, min_samples_split=12, n_estimators=100, score=0.762, total=   0.4s\n",
            "[CV] max_depth=None, min_samples_split=12, n_estimators=100 ..........\n",
            "[CV]  max_depth=None, min_samples_split=12, n_estimators=100, score=0.743, total=   0.4s\n",
            "[CV] max_depth=None, min_samples_split=12, n_estimators=100 ..........\n",
            "[CV]  max_depth=None, min_samples_split=12, n_estimators=100, score=0.774, total=   0.4s\n",
            "[CV] max_depth=None, min_samples_split=12, n_estimators=100 ..........\n",
            "[CV]  max_depth=None, min_samples_split=12, n_estimators=100, score=0.793, total=   0.4s\n",
            "[CV] max_depth=None, min_samples_split=12, n_estimators=150 ..........\n",
            "[CV]  max_depth=None, min_samples_split=12, n_estimators=150, score=0.747, total=   0.6s\n",
            "[CV] max_depth=None, min_samples_split=12, n_estimators=150 ..........\n",
            "[CV]  max_depth=None, min_samples_split=12, n_estimators=150, score=0.745, total=   0.6s\n",
            "[CV] max_depth=None, min_samples_split=12, n_estimators=150 ..........\n",
            "[CV]  max_depth=None, min_samples_split=12, n_estimators=150, score=0.750, total=   0.6s\n",
            "[CV] max_depth=None, min_samples_split=12, n_estimators=150 ..........\n",
            "[CV]  max_depth=None, min_samples_split=12, n_estimators=150, score=0.777, total=   0.6s\n",
            "[CV] max_depth=None, min_samples_split=12, n_estimators=150 ..........\n",
            "[CV]  max_depth=None, min_samples_split=12, n_estimators=150, score=0.796, total=   0.6s\n"
          ],
          "name": "stdout"
        },
        {
          "output_type": "stream",
          "text": [
            "[Parallel(n_jobs=1)]: Done 500 out of 500 | elapsed:  2.2min finished\n"
          ],
          "name": "stderr"
        },
        {
          "output_type": "stream",
          "text": [
            "RandomForestClassifier(bootstrap=True, ccp_alpha=0.0, class_weight=None,\n",
            "                       criterion='gini', max_depth=9, max_features='auto',\n",
            "                       max_leaf_nodes=None, max_samples=None,\n",
            "                       min_impurity_decrease=0.0, min_impurity_split=None,\n",
            "                       min_samples_leaf=1, min_samples_split=12,\n",
            "                       min_weight_fraction_leaf=0.0, n_estimators=150,\n",
            "                       n_jobs=None, oob_score=False, random_state=None,\n",
            "                       verbose=0, warm_start=False)\n"
          ],
          "name": "stdout"
        }
      ]
    },
    {
      "cell_type": "code",
      "metadata": {
        "colab": {
          "base_uri": "https://localhost:8080/"
        },
        "id": "c2bGzaUvcJSg",
        "outputId": "60a9d285-bd83-4922-d016-1a07083a9c51"
      },
      "source": [
        "prediction_rf = best_rf.predict(x_test)          \n",
        "\n",
        "print('Accuracy:', accuracy_score(y_test, prediction_rf))\n",
        "print('F1 score:', f1_score(y_test, prediction_rf))\n",
        "print('Recall:', recall_score(y_test, prediction_rf))\n",
        "print('Precision:', precision_score(y_test, prediction_rf))\n",
        "print('\\n clasification report:\\n', classification_report(y_test,prediction_rf))\n",
        "print('\\n confussion matrix:\\n',confusion_matrix(y_test, prediction_rf))"
      ],
      "execution_count": 404,
      "outputs": [
        {
          "output_type": "stream",
          "text": [
            "Accuracy: 0.8019559902200489\n",
            "F1 score: 0.7901554404145077\n",
            "Recall: 0.7439024390243902\n",
            "Precision: 0.8425414364640884\n",
            "\n",
            " clasification report:\n",
            "               precision    recall  f1-score   support\n",
            "\n",
            "           0       0.77      0.86      0.81       408\n",
            "           1       0.84      0.74      0.79       410\n",
            "\n",
            "    accuracy                           0.80       818\n",
            "   macro avg       0.81      0.80      0.80       818\n",
            "weighted avg       0.81      0.80      0.80       818\n",
            "\n",
            "\n",
            " confussion matrix:\n",
            " [[351  57]\n",
            " [105 305]]\n"
          ],
          "name": "stdout"
        }
      ]
    },
    {
      "cell_type": "markdown",
      "metadata": {
        "id": "5x6FMlUApHX_"
      },
      "source": [
        "According to this age is the most important feature. The second most important feature is Number Of Products."
      ]
    },
    {
      "cell_type": "code",
      "metadata": {
        "colab": {
          "base_uri": "https://localhost:8080/",
          "height": 298
        },
        "id": "iqSiyFiCKUIz",
        "outputId": "86e34d43-cdc2-49a0-b3ae-8130016a1c16"
      },
      "source": [
        "plt.barh(train[list(dataset.columns)[0:8] + list(dataset.columns)[9:]].columns[sorted_idx], best_rf.feature_importances_[sorted_idx]) \n",
        "plt.title(\"Feature Importance\")"
      ],
      "execution_count": 405,
      "outputs": [
        {
          "output_type": "execute_result",
          "data": {
            "text/plain": [
              "Text(0.5, 1.0, 'Feature Importance')"
            ]
          },
          "metadata": {
            "tags": []
          },
          "execution_count": 405
        },
        {
          "output_type": "display_data",
          "data": {
            "image/png": "[encoded data removed]",
            "text/plain": [
              "<Figure size 432x288 with 1 Axes>"
            ]
          },
          "metadata": {
            "tags": [],
            "needs_background": "light"
          }
        }
      ]
    }
  ]
}